{
  "nbformat": 4,
  "nbformat_minor": 0,
  "metadata": {
    "colab": {
      "provenance": [],
      "toc_visible": true
    },
    "kernelspec": {
      "name": "ir",
      "display_name": "R"
    },
    "language_info": {
      "name": "R"
    }
  },
  "cells": [
    {
      "cell_type": "markdown",
      "source": [
        "# **The Impact of Digital Technology on Mental Well-being**\n",
        "\n",
        "*Sangita Das*\n",
        "\n",
        "### **Introduction**\n",
        "\n",
        "Now a days, technology has become an integral part of daily life, affecting various aspects of individual well-being. This dataset explores the intersection between technology usage and mental health by examining behavioral patterns and their associations with mental health indicators. The goal is to understand how factors such as social media engagement, screen time, and gaming relate to mental health outcomes including stress levels, and sleep quality. With the growing importance of mental health awareness, this dataset aims to shed light on the impact of digital habits on wellness.\n",
        "\n",
        "### **Objectives**\n",
        "\n",
        "- **Analyze the Relationship Between Technology and Mental Health:** To examine correlations between daily technology use (e.g., hours spent on social media, gaming, and screen time) and mental health indicators such as mental health status, stress, and sleep quality.\n",
        "\n",
        "- **Identify Behavioral Patterns Influencing Wellness:** To study behavioral patterns such as physical activity, access to support systems, and work environment impacts on mental health.\n",
        "\n",
        "- **Build Predictive Models for Mental Health Trends:** To create predictive models that can provide insights into mental health trends based on technology usage.\n",
        "\n",
        "\n",
        "### **Data**\n",
        "This dataset is publicly available on Kaggle and can be accessed via the following link: [Kaggle - Mental Health & Technology Usage Dataset](https://www.kaggle.com/datasets/waqi786/mental-health-and-technology-usage-dataset/data). It consists of 10,000 rows and 14 columns, offering detailed insights into variables associated with technology use and mental health outcomes. The key variables include:\n",
        "\n",
        "\n",
        "\n",
        "\n",
        "\n",
        "\n",
        "\n",
        "\n",
        "\n"
      ],
      "metadata": {
        "id": "UCblCn_wE7J5"
      }
    },
    {
      "cell_type": "markdown",
      "source": [
        "**Numerical Variables:**\n",
        "\n",
        "| **Variable Name**                | **Description**                                      |\n",
        "|-----------------------------------|------------------------------------------------------|\n",
        "| Age                               | Participant's age.                                   |\n",
        "| Technology_Usage_Hours            | Average daily time spent on technology in hours.     |\n",
        "| Social_Media_Usage_Hours         | Average daily time spent on social media in hours.   |\n",
        "| Gaming_Hours                      | Average daily time spent on online gaming in hours.  |\n",
        "| Screen_Time_Hours                 | Total average daily screen time in hours.            |\n",
        "| Sleep_Hours                       | Average daily sleep duration in hours.               |\n",
        "| Physical_Activity_Hours           | Average daily physical activity duration in hours.   |\n",
        "\n",
        "**Categorical Variables:**\n",
        "\n",
        "| **Variable Name**                | **Description**                                      |\n",
        "|-----------------------------------|------------------------------------------------------|\n",
        "| User_ID                           | A unique identifier for each participant.            |\n",
        "| Gender                            | Categorical variable with three options: male, female, and other. |\n",
        "| Mental_Health_Status              | Self-reported mental health status, categorized into four levels: poor, fair, good, and excellent. |\n",
        "| Stress_Level                      | Self-reported stress level, divided into three categories: low, medium, and high. |\n",
        "| Support_Systems_Access            | Binary variable indicating whether the participant has access to support systems (yes or no). |\n",
        "| Work_Environment_Impact           | Self-reported impact of work environment on mental health, categorized as positive, neutral, or negative. |\n",
        "| Online_Support_Usage             | Binary variable indicating whether the participant uses online support (yes or no). |\n"
      ],
      "metadata": {
        "id": "wXcWw64dTAJu"
      }
    },
    {
      "cell_type": "markdown",
      "source": [
        "## **Install required packages and load libraries**"
      ],
      "metadata": {
        "id": "qXbmJ8RO9dS2"
      }
    },
    {
      "cell_type": "code",
      "source": [
        "# Install MASS to support statistical analysis\n",
        "install.packages(\"MASS\")\n",
        "\n",
        "# Install dplyr for data manipulation and transformation\n",
        "install.packages(\"dplyr\")\n",
        "\n",
        "# Install fastDummies to create dummy variables from categorical data\n",
        "install.packages(\"fastDummies\")\n",
        "\n",
        "# Install caTools for tools to implement data splitting and evaluation\n",
        "install.packages(\"caTools\")\n",
        "\n",
        "# Install randomForest for creating random forest models for classification and regression\n",
        "install.packages(\"randomForest\")\n",
        "\n",
        "# Install xgboost for building optimized gradient boosting models\n",
        "install.packages(\"xgboost\")\n",
        "\n",
        "# Install readr to efficiently read and write data\n",
        "install.packages(\"readr\")\n",
        "\n",
        "# Install rpart for recursive partitioning for classification and regression trees\n",
        "install.packages(\"rpart\")\n",
        "\n",
        "# Install caret for easy machine learning model training and evaluation\n",
        "install.packages(\"caret\")\n",
        "\n",
        "# Install ggplot2 for data visualization using grammar of graphics\n",
        "install.packages(\"ggplot2\")\n",
        "\n",
        "# Install rsample for easy creation of resamples from data\n",
        "install.packages(\"rsample\")\n",
        "\n",
        "# Install corrplot for visualizing correlation matrices\n",
        "install.packages(\"corrplot\")\n",
        "\n",
        "# Install reshape2 for reshaping data, particularly for transforming data frames\n",
        "install.packages(\"reshape2\")\n",
        "\n",
        "# Install GGally for advanced graphical visualizations like pairs plots\n",
        "install.packages(\"GGally\")\n",
        "\n",
        "# Install neuralnet for building neural network models\n",
        "install.packages(\"neuralnet\")\n",
        "\n",
        "# # Install nnet for building multinomial logistic regression models\n",
        "install.packages(\"nnet\")\n",
        "\n",
        "# Install Metrics for evaluating machine learning model performance\n",
        "install.packages(\"Metrics\")\n",
        "\n",
        "# Install MLmetrics for machine learning evaluation metrics\n",
        "install.packages(\"MLmetrics\")\n"
      ],
      "metadata": {
        "colab": {
          "base_uri": "https://localhost:8080/"
        },
        "id": "bGQBwjgZRnaN",
        "outputId": "f4b9e93a-dfaf-4fc2-a924-75937fe4545d"
      },
      "execution_count": 86,
      "outputs": [
        {
          "output_type": "stream",
          "name": "stderr",
          "text": [
            "Installing package into ‘/usr/local/lib/R/site-library’\n",
            "(as ‘lib’ is unspecified)\n",
            "\n",
            "Installing package into ‘/usr/local/lib/R/site-library’\n",
            "(as ‘lib’ is unspecified)\n",
            "\n",
            "Installing package into ‘/usr/local/lib/R/site-library’\n",
            "(as ‘lib’ is unspecified)\n",
            "\n",
            "Installing package into ‘/usr/local/lib/R/site-library’\n",
            "(as ‘lib’ is unspecified)\n",
            "\n",
            "Installing package into ‘/usr/local/lib/R/site-library’\n",
            "(as ‘lib’ is unspecified)\n",
            "\n",
            "Installing package into ‘/usr/local/lib/R/site-library’\n",
            "(as ‘lib’ is unspecified)\n",
            "\n",
            "Installing package into ‘/usr/local/lib/R/site-library’\n",
            "(as ‘lib’ is unspecified)\n",
            "\n",
            "Installing package into ‘/usr/local/lib/R/site-library’\n",
            "(as ‘lib’ is unspecified)\n",
            "\n",
            "Installing package into ‘/usr/local/lib/R/site-library’\n",
            "(as ‘lib’ is unspecified)\n",
            "\n",
            "Installing package into ‘/usr/local/lib/R/site-library’\n",
            "(as ‘lib’ is unspecified)\n",
            "\n",
            "Installing package into ‘/usr/local/lib/R/site-library’\n",
            "(as ‘lib’ is unspecified)\n",
            "\n",
            "Installing package into ‘/usr/local/lib/R/site-library’\n",
            "(as ‘lib’ is unspecified)\n",
            "\n",
            "Installing package into ‘/usr/local/lib/R/site-library’\n",
            "(as ‘lib’ is unspecified)\n",
            "\n",
            "Installing package into ‘/usr/local/lib/R/site-library’\n",
            "(as ‘lib’ is unspecified)\n",
            "\n",
            "Installing package into ‘/usr/local/lib/R/site-library’\n",
            "(as ‘lib’ is unspecified)\n",
            "\n",
            "Installing package into ‘/usr/local/lib/R/site-library’\n",
            "(as ‘lib’ is unspecified)\n",
            "\n",
            "Installing package into ‘/usr/local/lib/R/site-library’\n",
            "(as ‘lib’ is unspecified)\n",
            "\n",
            "Installing package into ‘/usr/local/lib/R/site-library’\n",
            "(as ‘lib’ is unspecified)\n",
            "\n"
          ]
        }
      ]
    },
    {
      "cell_type": "code",
      "source": [
        "# Loading required libraries\n",
        "library(data.table)    # Data manipulation\n",
        "library(dplyr)         # Data manipulation\n",
        "library(readr)         # Reading CSV files\n",
        "library(fastDummies)   # Dummy variable creation\n",
        "library(caTools)       # Data splitting\n",
        "library(ggplot2)       # Visualization\n",
        "library(GGally)        # Visualization (pair plots)\n",
        "library(randomForest)  # Random Forest\n",
        "library(xgboost)       # XGBoost\n",
        "library(neuralnet)     # Neural Networks\n",
        "library(nnet)          # multinomial logiatic\n",
        "library(e1071)         # SVM, Naive Bayes\n",
        "library(rpart)         # Decision Trees\n",
        "library(caret)         # Model training and evaluation\n",
        "library(Metrics)       # Performance metrics\n",
        "library(MLmetrics)     # Accuracy, F1 Score, etc.\n"
      ],
      "metadata": {
        "id": "oapbkygpQzmv"
      },
      "execution_count": 87,
      "outputs": []
    },
    {
      "cell_type": "markdown",
      "source": [
        "## **Data Exploration**"
      ],
      "metadata": {
        "id": "Jq6MmwDGv14O"
      }
    },
    {
      "cell_type": "markdown",
      "source": [
        "### **Load and Read the data**"
      ],
      "metadata": {
        "id": "6hgcXgfO_z_G"
      }
    },
    {
      "cell_type": "code",
      "execution_count": 88,
      "metadata": {
        "colab": {
          "base_uri": "https://localhost:8080/",
          "height": 549
        },
        "id": "NPRDBT8HXflz",
        "outputId": "60cdaaf8-c902-4632-83d9-cf39f0fd03fa"
      },
      "outputs": [
        {
          "output_type": "stream",
          "name": "stderr",
          "text": [
            "\u001b[1mRows: \u001b[22m\u001b[34m10000\u001b[39m \u001b[1mColumns: \u001b[22m\u001b[34m14\u001b[39m\n",
            "\u001b[36m──\u001b[39m \u001b[1mColumn specification\u001b[22m \u001b[36m────────────────────────────────────────────────────────\u001b[39m\n",
            "\u001b[1mDelimiter:\u001b[22m \",\"\n",
            "\u001b[31mchr\u001b[39m (7): User_ID, Gender, Mental_Health_Status, Stress_Level, Support_System...\n",
            "\u001b[32mdbl\u001b[39m (7): Age, Technology_Usage_Hours, Social_Media_Usage_Hours, Gaming_Hours...\n",
            "\n",
            "\u001b[36mℹ\u001b[39m Use `spec()` to retrieve the full column specification for this data.\n",
            "\u001b[36mℹ\u001b[39m Specify the column types or set `show_col_types = FALSE` to quiet this message.\n"
          ]
        },
        {
          "output_type": "display_data",
          "data": {
            "text/html": [
              "<table class=\"dataframe\">\n",
              "<caption>A tibble: 6 × 14</caption>\n",
              "<thead>\n",
              "\t<tr><th scope=col>User_ID</th><th scope=col>Age</th><th scope=col>Gender</th><th scope=col>Technology_Usage_Hours</th><th scope=col>Social_Media_Usage_Hours</th><th scope=col>Gaming_Hours</th><th scope=col>Screen_Time_Hours</th><th scope=col>Mental_Health_Status</th><th scope=col>Stress_Level</th><th scope=col>Sleep_Hours</th><th scope=col>Physical_Activity_Hours</th><th scope=col>Support_Systems_Access</th><th scope=col>Work_Environment_Impact</th><th scope=col>Online_Support_Usage</th></tr>\n",
              "\t<tr><th scope=col>&lt;chr&gt;</th><th scope=col>&lt;dbl&gt;</th><th scope=col>&lt;chr&gt;</th><th scope=col>&lt;dbl&gt;</th><th scope=col>&lt;dbl&gt;</th><th scope=col>&lt;dbl&gt;</th><th scope=col>&lt;dbl&gt;</th><th scope=col>&lt;chr&gt;</th><th scope=col>&lt;chr&gt;</th><th scope=col>&lt;dbl&gt;</th><th scope=col>&lt;dbl&gt;</th><th scope=col>&lt;chr&gt;</th><th scope=col>&lt;chr&gt;</th><th scope=col>&lt;chr&gt;</th></tr>\n",
              "</thead>\n",
              "<tbody>\n",
              "\t<tr><td>USER-00001</td><td>23</td><td>Female</td><td>6.57</td><td>6.00</td><td>0.68</td><td>12.36</td><td>Good     </td><td>Low   </td><td>8.01</td><td>6.71</td><td>No </td><td>Negative</td><td>Yes</td></tr>\n",
              "\t<tr><td>USER-00002</td><td>21</td><td>Male  </td><td>3.01</td><td>2.57</td><td>3.74</td><td> 7.61</td><td>Poor     </td><td>High  </td><td>7.28</td><td>5.88</td><td>Yes</td><td>Positive</td><td>No </td></tr>\n",
              "\t<tr><td>USER-00003</td><td>51</td><td>Male  </td><td>3.04</td><td>6.14</td><td>1.26</td><td> 3.16</td><td>Fair     </td><td>High  </td><td>8.04</td><td>9.81</td><td>No </td><td>Negative</td><td>No </td></tr>\n",
              "\t<tr><td>USER-00004</td><td>25</td><td>Female</td><td>3.84</td><td>4.48</td><td>2.59</td><td>13.08</td><td>Excellent</td><td>Medium</td><td>5.62</td><td>5.28</td><td>Yes</td><td>Negative</td><td>Yes</td></tr>\n",
              "\t<tr><td>USER-00005</td><td>53</td><td>Male  </td><td>1.20</td><td>0.56</td><td>0.29</td><td>12.63</td><td>Good     </td><td>Low   </td><td>5.55</td><td>4.00</td><td>No </td><td>Positive</td><td>Yes</td></tr>\n",
              "\t<tr><td>USER-00006</td><td>58</td><td>Male  </td><td>5.59</td><td>5.74</td><td>0.11</td><td> 1.34</td><td>Poor     </td><td>Low   </td><td>8.61</td><td>6.54</td><td>Yes</td><td>Neutral </td><td>Yes</td></tr>\n",
              "</tbody>\n",
              "</table>\n"
            ],
            "text/markdown": "\nA tibble: 6 × 14\n\n| User_ID &lt;chr&gt; | Age &lt;dbl&gt; | Gender &lt;chr&gt; | Technology_Usage_Hours &lt;dbl&gt; | Social_Media_Usage_Hours &lt;dbl&gt; | Gaming_Hours &lt;dbl&gt; | Screen_Time_Hours &lt;dbl&gt; | Mental_Health_Status &lt;chr&gt; | Stress_Level &lt;chr&gt; | Sleep_Hours &lt;dbl&gt; | Physical_Activity_Hours &lt;dbl&gt; | Support_Systems_Access &lt;chr&gt; | Work_Environment_Impact &lt;chr&gt; | Online_Support_Usage &lt;chr&gt; |\n|---|---|---|---|---|---|---|---|---|---|---|---|---|---|\n| USER-00001 | 23 | Female | 6.57 | 6.00 | 0.68 | 12.36 | Good      | Low    | 8.01 | 6.71 | No  | Negative | Yes |\n| USER-00002 | 21 | Male   | 3.01 | 2.57 | 3.74 |  7.61 | Poor      | High   | 7.28 | 5.88 | Yes | Positive | No  |\n| USER-00003 | 51 | Male   | 3.04 | 6.14 | 1.26 |  3.16 | Fair      | High   | 8.04 | 9.81 | No  | Negative | No  |\n| USER-00004 | 25 | Female | 3.84 | 4.48 | 2.59 | 13.08 | Excellent | Medium | 5.62 | 5.28 | Yes | Negative | Yes |\n| USER-00005 | 53 | Male   | 1.20 | 0.56 | 0.29 | 12.63 | Good      | Low    | 5.55 | 4.00 | No  | Positive | Yes |\n| USER-00006 | 58 | Male   | 5.59 | 5.74 | 0.11 |  1.34 | Poor      | Low    | 8.61 | 6.54 | Yes | Neutral  | Yes |\n\n",
            "text/latex": "A tibble: 6 × 14\n\\begin{tabular}{llllllllllllll}\n User\\_ID & Age & Gender & Technology\\_Usage\\_Hours & Social\\_Media\\_Usage\\_Hours & Gaming\\_Hours & Screen\\_Time\\_Hours & Mental\\_Health\\_Status & Stress\\_Level & Sleep\\_Hours & Physical\\_Activity\\_Hours & Support\\_Systems\\_Access & Work\\_Environment\\_Impact & Online\\_Support\\_Usage\\\\\n <chr> & <dbl> & <chr> & <dbl> & <dbl> & <dbl> & <dbl> & <chr> & <chr> & <dbl> & <dbl> & <chr> & <chr> & <chr>\\\\\n\\hline\n\t USER-00001 & 23 & Female & 6.57 & 6.00 & 0.68 & 12.36 & Good      & Low    & 8.01 & 6.71 & No  & Negative & Yes\\\\\n\t USER-00002 & 21 & Male   & 3.01 & 2.57 & 3.74 &  7.61 & Poor      & High   & 7.28 & 5.88 & Yes & Positive & No \\\\\n\t USER-00003 & 51 & Male   & 3.04 & 6.14 & 1.26 &  3.16 & Fair      & High   & 8.04 & 9.81 & No  & Negative & No \\\\\n\t USER-00004 & 25 & Female & 3.84 & 4.48 & 2.59 & 13.08 & Excellent & Medium & 5.62 & 5.28 & Yes & Negative & Yes\\\\\n\t USER-00005 & 53 & Male   & 1.20 & 0.56 & 0.29 & 12.63 & Good      & Low    & 5.55 & 4.00 & No  & Positive & Yes\\\\\n\t USER-00006 & 58 & Male   & 5.59 & 5.74 & 0.11 &  1.34 & Poor      & Low    & 8.61 & 6.54 & Yes & Neutral  & Yes\\\\\n\\end{tabular}\n",
            "text/plain": [
              "  User_ID    Age Gender Technology_Usage_Hours Social_Media_Usage_Hours\n",
              "1 USER-00001 23  Female 6.57                   6.00                    \n",
              "2 USER-00002 21  Male   3.01                   2.57                    \n",
              "3 USER-00003 51  Male   3.04                   6.14                    \n",
              "4 USER-00004 25  Female 3.84                   4.48                    \n",
              "5 USER-00005 53  Male   1.20                   0.56                    \n",
              "6 USER-00006 58  Male   5.59                   5.74                    \n",
              "  Gaming_Hours Screen_Time_Hours Mental_Health_Status Stress_Level Sleep_Hours\n",
              "1 0.68         12.36             Good                 Low          8.01       \n",
              "2 3.74          7.61             Poor                 High         7.28       \n",
              "3 1.26          3.16             Fair                 High         8.04       \n",
              "4 2.59         13.08             Excellent            Medium       5.62       \n",
              "5 0.29         12.63             Good                 Low          5.55       \n",
              "6 0.11          1.34             Poor                 Low          8.61       \n",
              "  Physical_Activity_Hours Support_Systems_Access Work_Environment_Impact\n",
              "1 6.71                    No                     Negative               \n",
              "2 5.88                    Yes                    Positive               \n",
              "3 9.81                    No                     Negative               \n",
              "4 5.28                    Yes                    Negative               \n",
              "5 4.00                    No                     Positive               \n",
              "6 6.54                    Yes                    Neutral                \n",
              "  Online_Support_Usage\n",
              "1 Yes                 \n",
              "2 No                  \n",
              "3 No                  \n",
              "4 Yes                 \n",
              "5 Yes                 \n",
              "6 Yes                 "
            ]
          },
          "metadata": {}
        }
      ],
      "source": [
        "# Define the file path\n",
        "data = \"/content/mental_health_and_technology_usage_2024.csv\"\n",
        "# Read the CSV file into a data frame\n",
        "mydata = read_csv(data)\n",
        "\n",
        "head(mydata)"
      ]
    },
    {
      "cell_type": "markdown",
      "source": [
        "### **Rename columns**"
      ],
      "metadata": {
        "id": "dU6uRm03AEq5"
      }
    },
    {
      "cell_type": "code",
      "source": [
        "# Rename columns\n",
        "mydata <- mydata %>%\n",
        "  rename(\n",
        "    id = User_ID,\n",
        "    age = Age,\n",
        "    gender = Gender,\n",
        "    tech_hrs = Technology_Usage_Hours,\n",
        "    social_hrs = Social_Media_Usage_Hours,\n",
        "    game_hrs = Gaming_Hours,\n",
        "    screen_time_hrs = Screen_Time_Hours,\n",
        "    mental_health_sta = Mental_Health_Status,\n",
        "    stress_level = Stress_Level,\n",
        "    sleep_hrs = Sleep_Hours,\n",
        "    activity_hrs = Physical_Activity_Hours,\n",
        "    support_sys_access = Support_Systems_Access,\n",
        "    work_env_impact = Work_Environment_Impact,\n",
        "    online_use = Online_Support_Usage\n",
        "  )"
      ],
      "metadata": {
        "id": "aZcoWqDy3ILE"
      },
      "execution_count": 89,
      "outputs": []
    },
    {
      "cell_type": "markdown",
      "source": [
        "By renaming the columns in this dataset, it aims to improve readability and simplify the variable names for easier understanding and reference throughout the analysis."
      ],
      "metadata": {
        "id": "ouXQODIDJpmC"
      }
    },
    {
      "cell_type": "code",
      "source": [
        "# drop 'id' column\n",
        "mydata$id<-NULL"
      ],
      "metadata": {
        "id": "K80K7SZmJ53z"
      },
      "execution_count": 90,
      "outputs": []
    },
    {
      "cell_type": "markdown",
      "source": [
        "By dropping the id column, I try to simplify the dataset by removing an element that does not contribute to the analysis."
      ],
      "metadata": {
        "id": "xgLUMykIKa2z"
      }
    },
    {
      "cell_type": "markdown",
      "source": [
        "### **Data summary**"
      ],
      "metadata": {
        "id": "xrUpR1ukJu96"
      }
    },
    {
      "cell_type": "code",
      "source": [
        "# Display the first few rows of the data\n",
        "print(\"first few rows of the data\")\n",
        "head(mydata)\n",
        "\n",
        "# Check the number of rows\n",
        "num_rows <- nrow(mydata)\n",
        "\n",
        "# Check the number of columns\n",
        "num_cols <- ncol(mydata)\n",
        "\n",
        "# Print the shape of the data using concatenate\n",
        "cat(\"The dataset has\", num_rows, \"rows and\", num_cols, \"columns.\\n\")\n",
        "\n",
        "# check the data types\n",
        "print(\"structure of the data\")\n",
        "str(mydata)\n",
        "\n",
        "# to see the modified column names\n",
        "print(\"column names\")\n",
        "colnames(mydata)"
      ],
      "metadata": {
        "colab": {
          "base_uri": "https://localhost:8080/",
          "height": 966
        },
        "id": "mgCYYKEnI9Dq",
        "outputId": "4d3a6058-a058-4900-ec9e-0656562a6520"
      },
      "execution_count": 91,
      "outputs": [
        {
          "output_type": "stream",
          "name": "stdout",
          "text": [
            "[1] \"first few rows of the data\"\n"
          ]
        },
        {
          "output_type": "display_data",
          "data": {
            "text/html": [
              "<table class=\"dataframe\">\n",
              "<caption>A tibble: 6 × 13</caption>\n",
              "<thead>\n",
              "\t<tr><th scope=col>age</th><th scope=col>gender</th><th scope=col>tech_hrs</th><th scope=col>social_hrs</th><th scope=col>game_hrs</th><th scope=col>screen_time_hrs</th><th scope=col>mental_health_sta</th><th scope=col>stress_level</th><th scope=col>sleep_hrs</th><th scope=col>activity_hrs</th><th scope=col>support_sys_access</th><th scope=col>work_env_impact</th><th scope=col>online_use</th></tr>\n",
              "\t<tr><th scope=col>&lt;dbl&gt;</th><th scope=col>&lt;chr&gt;</th><th scope=col>&lt;dbl&gt;</th><th scope=col>&lt;dbl&gt;</th><th scope=col>&lt;dbl&gt;</th><th scope=col>&lt;dbl&gt;</th><th scope=col>&lt;chr&gt;</th><th scope=col>&lt;chr&gt;</th><th scope=col>&lt;dbl&gt;</th><th scope=col>&lt;dbl&gt;</th><th scope=col>&lt;chr&gt;</th><th scope=col>&lt;chr&gt;</th><th scope=col>&lt;chr&gt;</th></tr>\n",
              "</thead>\n",
              "<tbody>\n",
              "\t<tr><td>23</td><td>Female</td><td>6.57</td><td>6.00</td><td>0.68</td><td>12.36</td><td>Good     </td><td>Low   </td><td>8.01</td><td>6.71</td><td>No </td><td>Negative</td><td>Yes</td></tr>\n",
              "\t<tr><td>21</td><td>Male  </td><td>3.01</td><td>2.57</td><td>3.74</td><td> 7.61</td><td>Poor     </td><td>High  </td><td>7.28</td><td>5.88</td><td>Yes</td><td>Positive</td><td>No </td></tr>\n",
              "\t<tr><td>51</td><td>Male  </td><td>3.04</td><td>6.14</td><td>1.26</td><td> 3.16</td><td>Fair     </td><td>High  </td><td>8.04</td><td>9.81</td><td>No </td><td>Negative</td><td>No </td></tr>\n",
              "\t<tr><td>25</td><td>Female</td><td>3.84</td><td>4.48</td><td>2.59</td><td>13.08</td><td>Excellent</td><td>Medium</td><td>5.62</td><td>5.28</td><td>Yes</td><td>Negative</td><td>Yes</td></tr>\n",
              "\t<tr><td>53</td><td>Male  </td><td>1.20</td><td>0.56</td><td>0.29</td><td>12.63</td><td>Good     </td><td>Low   </td><td>5.55</td><td>4.00</td><td>No </td><td>Positive</td><td>Yes</td></tr>\n",
              "\t<tr><td>58</td><td>Male  </td><td>5.59</td><td>5.74</td><td>0.11</td><td> 1.34</td><td>Poor     </td><td>Low   </td><td>8.61</td><td>6.54</td><td>Yes</td><td>Neutral </td><td>Yes</td></tr>\n",
              "</tbody>\n",
              "</table>\n"
            ],
            "text/markdown": "\nA tibble: 6 × 13\n\n| age &lt;dbl&gt; | gender &lt;chr&gt; | tech_hrs &lt;dbl&gt; | social_hrs &lt;dbl&gt; | game_hrs &lt;dbl&gt; | screen_time_hrs &lt;dbl&gt; | mental_health_sta &lt;chr&gt; | stress_level &lt;chr&gt; | sleep_hrs &lt;dbl&gt; | activity_hrs &lt;dbl&gt; | support_sys_access &lt;chr&gt; | work_env_impact &lt;chr&gt; | online_use &lt;chr&gt; |\n|---|---|---|---|---|---|---|---|---|---|---|---|---|\n| 23 | Female | 6.57 | 6.00 | 0.68 | 12.36 | Good      | Low    | 8.01 | 6.71 | No  | Negative | Yes |\n| 21 | Male   | 3.01 | 2.57 | 3.74 |  7.61 | Poor      | High   | 7.28 | 5.88 | Yes | Positive | No  |\n| 51 | Male   | 3.04 | 6.14 | 1.26 |  3.16 | Fair      | High   | 8.04 | 9.81 | No  | Negative | No  |\n| 25 | Female | 3.84 | 4.48 | 2.59 | 13.08 | Excellent | Medium | 5.62 | 5.28 | Yes | Negative | Yes |\n| 53 | Male   | 1.20 | 0.56 | 0.29 | 12.63 | Good      | Low    | 5.55 | 4.00 | No  | Positive | Yes |\n| 58 | Male   | 5.59 | 5.74 | 0.11 |  1.34 | Poor      | Low    | 8.61 | 6.54 | Yes | Neutral  | Yes |\n\n",
            "text/latex": "A tibble: 6 × 13\n\\begin{tabular}{lllllllllllll}\n age & gender & tech\\_hrs & social\\_hrs & game\\_hrs & screen\\_time\\_hrs & mental\\_health\\_sta & stress\\_level & sleep\\_hrs & activity\\_hrs & support\\_sys\\_access & work\\_env\\_impact & online\\_use\\\\\n <dbl> & <chr> & <dbl> & <dbl> & <dbl> & <dbl> & <chr> & <chr> & <dbl> & <dbl> & <chr> & <chr> & <chr>\\\\\n\\hline\n\t 23 & Female & 6.57 & 6.00 & 0.68 & 12.36 & Good      & Low    & 8.01 & 6.71 & No  & Negative & Yes\\\\\n\t 21 & Male   & 3.01 & 2.57 & 3.74 &  7.61 & Poor      & High   & 7.28 & 5.88 & Yes & Positive & No \\\\\n\t 51 & Male   & 3.04 & 6.14 & 1.26 &  3.16 & Fair      & High   & 8.04 & 9.81 & No  & Negative & No \\\\\n\t 25 & Female & 3.84 & 4.48 & 2.59 & 13.08 & Excellent & Medium & 5.62 & 5.28 & Yes & Negative & Yes\\\\\n\t 53 & Male   & 1.20 & 0.56 & 0.29 & 12.63 & Good      & Low    & 5.55 & 4.00 & No  & Positive & Yes\\\\\n\t 58 & Male   & 5.59 & 5.74 & 0.11 &  1.34 & Poor      & Low    & 8.61 & 6.54 & Yes & Neutral  & Yes\\\\\n\\end{tabular}\n",
            "text/plain": [
              "  age gender tech_hrs social_hrs game_hrs screen_time_hrs mental_health_sta\n",
              "1 23  Female 6.57     6.00       0.68     12.36           Good             \n",
              "2 21  Male   3.01     2.57       3.74      7.61           Poor             \n",
              "3 51  Male   3.04     6.14       1.26      3.16           Fair             \n",
              "4 25  Female 3.84     4.48       2.59     13.08           Excellent        \n",
              "5 53  Male   1.20     0.56       0.29     12.63           Good             \n",
              "6 58  Male   5.59     5.74       0.11      1.34           Poor             \n",
              "  stress_level sleep_hrs activity_hrs support_sys_access work_env_impact\n",
              "1 Low          8.01      6.71         No                 Negative       \n",
              "2 High         7.28      5.88         Yes                Positive       \n",
              "3 High         8.04      9.81         No                 Negative       \n",
              "4 Medium       5.62      5.28         Yes                Negative       \n",
              "5 Low          5.55      4.00         No                 Positive       \n",
              "6 Low          8.61      6.54         Yes                Neutral        \n",
              "  online_use\n",
              "1 Yes       \n",
              "2 No        \n",
              "3 No        \n",
              "4 Yes       \n",
              "5 Yes       \n",
              "6 Yes       "
            ]
          },
          "metadata": {}
        },
        {
          "output_type": "stream",
          "name": "stdout",
          "text": [
            "The dataset has 10000 rows and 13 columns.\n",
            "[1] \"structure of the data\"\n",
            "spc_tbl_ [10,000 × 13] (S3: spec_tbl_df/tbl_df/tbl/data.frame)\n",
            " $ age               : num [1:10000] 23 21 51 25 53 58 63 51 57 31 ...\n",
            " $ gender            : chr [1:10000] \"Female\" \"Male\" \"Male\" \"Female\" ...\n",
            " $ tech_hrs          : num [1:10000] 6.57 3.01 3.04 3.84 1.2 ...\n",
            " $ social_hrs        : num [1:10000] 6 2.57 6.14 4.48 0.56 5.74 2.55 4.1 4.11 7.23 ...\n",
            " $ game_hrs          : num [1:10000] 0.68 3.74 1.26 2.59 0.29 0.11 3.79 4.74 0.08 0.81 ...\n",
            " $ screen_time_hrs   : num [1:10000] 12.36 7.61 3.16 13.08 12.63 ...\n",
            " $ mental_health_sta : chr [1:10000] \"Good\" \"Poor\" \"Fair\" \"Excellent\" ...\n",
            " $ stress_level      : chr [1:10000] \"Low\" \"High\" \"High\" \"Medium\" ...\n",
            " $ sleep_hrs         : num [1:10000] 8.01 7.28 8.04 5.62 5.55 8.61 8.61 7.11 7.19 5.09 ...\n",
            " $ activity_hrs      : num [1:10000] 6.71 5.88 9.81 5.28 4 6.54 1.34 5.27 5.22 0.47 ...\n",
            " $ support_sys_access: chr [1:10000] \"No\" \"Yes\" \"No\" \"Yes\" ...\n",
            " $ work_env_impact   : chr [1:10000] \"Negative\" \"Positive\" \"Negative\" \"Negative\" ...\n",
            " $ online_use        : chr [1:10000] \"Yes\" \"No\" \"No\" \"Yes\" ...\n",
            " - attr(*, \"spec\")=\n",
            "  .. cols(\n",
            "  ..   User_ID = \u001b[31mcol_character()\u001b[39m,\n",
            "  ..   Age = \u001b[32mcol_double()\u001b[39m,\n",
            "  ..   Gender = \u001b[31mcol_character()\u001b[39m,\n",
            "  ..   Technology_Usage_Hours = \u001b[32mcol_double()\u001b[39m,\n",
            "  ..   Social_Media_Usage_Hours = \u001b[32mcol_double()\u001b[39m,\n",
            "  ..   Gaming_Hours = \u001b[32mcol_double()\u001b[39m,\n",
            "  ..   Screen_Time_Hours = \u001b[32mcol_double()\u001b[39m,\n",
            "  ..   Mental_Health_Status = \u001b[31mcol_character()\u001b[39m,\n",
            "  ..   Stress_Level = \u001b[31mcol_character()\u001b[39m,\n",
            "  ..   Sleep_Hours = \u001b[32mcol_double()\u001b[39m,\n",
            "  ..   Physical_Activity_Hours = \u001b[32mcol_double()\u001b[39m,\n",
            "  ..   Support_Systems_Access = \u001b[31mcol_character()\u001b[39m,\n",
            "  ..   Work_Environment_Impact = \u001b[31mcol_character()\u001b[39m,\n",
            "  ..   Online_Support_Usage = \u001b[31mcol_character()\u001b[39m\n",
            "  .. )\n",
            " - attr(*, \"problems\")=<externalptr> \n",
            "[1] \"column names\"\n"
          ]
        },
        {
          "output_type": "display_data",
          "data": {
            "text/html": [
              "<style>\n",
              ".list-inline {list-style: none; margin:0; padding: 0}\n",
              ".list-inline>li {display: inline-block}\n",
              ".list-inline>li:not(:last-child)::after {content: \"\\00b7\"; padding: 0 .5ex}\n",
              "</style>\n",
              "<ol class=list-inline><li>'age'</li><li>'gender'</li><li>'tech_hrs'</li><li>'social_hrs'</li><li>'game_hrs'</li><li>'screen_time_hrs'</li><li>'mental_health_sta'</li><li>'stress_level'</li><li>'sleep_hrs'</li><li>'activity_hrs'</li><li>'support_sys_access'</li><li>'work_env_impact'</li><li>'online_use'</li></ol>\n"
            ],
            "text/markdown": "1. 'age'\n2. 'gender'\n3. 'tech_hrs'\n4. 'social_hrs'\n5. 'game_hrs'\n6. 'screen_time_hrs'\n7. 'mental_health_sta'\n8. 'stress_level'\n9. 'sleep_hrs'\n10. 'activity_hrs'\n11. 'support_sys_access'\n12. 'work_env_impact'\n13. 'online_use'\n\n\n",
            "text/latex": "\\begin{enumerate*}\n\\item 'age'\n\\item 'gender'\n\\item 'tech\\_hrs'\n\\item 'social\\_hrs'\n\\item 'game\\_hrs'\n\\item 'screen\\_time\\_hrs'\n\\item 'mental\\_health\\_sta'\n\\item 'stress\\_level'\n\\item 'sleep\\_hrs'\n\\item 'activity\\_hrs'\n\\item 'support\\_sys\\_access'\n\\item 'work\\_env\\_impact'\n\\item 'online\\_use'\n\\end{enumerate*}\n",
            "text/plain": [
              " [1] \"age\"                \"gender\"             \"tech_hrs\"          \n",
              " [4] \"social_hrs\"         \"game_hrs\"           \"screen_time_hrs\"   \n",
              " [7] \"mental_health_sta\"  \"stress_level\"       \"sleep_hrs\"         \n",
              "[10] \"activity_hrs\"       \"support_sys_access\" \"work_env_impact\"   \n",
              "[13] \"online_use\"        "
            ]
          },
          "metadata": {}
        }
      ]
    },
    {
      "cell_type": "markdown",
      "source": [
        "The above data exploration provides a summary of the dataset by displaying the first few rows, the number of rows and columns, the structure and data types of the variables, and the updated column names for better clarity and understanding."
      ],
      "metadata": {
        "id": "YJh3xOMtLogb"
      }
    },
    {
      "cell_type": "markdown",
      "source": [
        "### **Missing values**"
      ],
      "metadata": {
        "id": "oVRmbObeZ-_5"
      }
    },
    {
      "cell_type": "code",
      "source": [
        "# Check for missing values of all columns\n",
        "colSums(is.na(mydata))"
      ],
      "metadata": {
        "colab": {
          "base_uri": "https://localhost:8080/",
          "height": 52
        },
        "id": "-im_xa3ZZ-AV",
        "outputId": "a99380ec-ceb1-46dc-c526-ef82963951de"
      },
      "execution_count": 92,
      "outputs": [
        {
          "output_type": "display_data",
          "data": {
            "text/html": [
              "<style>\n",
              ".dl-inline {width: auto; margin:0; padding: 0}\n",
              ".dl-inline>dt, .dl-inline>dd {float: none; width: auto; display: inline-block}\n",
              ".dl-inline>dt::after {content: \":\\0020\"; padding-right: .5ex}\n",
              ".dl-inline>dt:not(:first-of-type) {padding-left: .5ex}\n",
              "</style><dl class=dl-inline><dt>age</dt><dd>0</dd><dt>gender</dt><dd>0</dd><dt>tech_hrs</dt><dd>0</dd><dt>social_hrs</dt><dd>0</dd><dt>game_hrs</dt><dd>0</dd><dt>screen_time_hrs</dt><dd>0</dd><dt>mental_health_sta</dt><dd>0</dd><dt>stress_level</dt><dd>0</dd><dt>sleep_hrs</dt><dd>0</dd><dt>activity_hrs</dt><dd>0</dd><dt>support_sys_access</dt><dd>0</dd><dt>work_env_impact</dt><dd>0</dd><dt>online_use</dt><dd>0</dd></dl>\n"
            ],
            "text/markdown": "age\n:   0gender\n:   0tech_hrs\n:   0social_hrs\n:   0game_hrs\n:   0screen_time_hrs\n:   0mental_health_sta\n:   0stress_level\n:   0sleep_hrs\n:   0activity_hrs\n:   0support_sys_access\n:   0work_env_impact\n:   0online_use\n:   0\n\n",
            "text/latex": "\\begin{description*}\n\\item[age] 0\n\\item[gender] 0\n\\item[tech\\textbackslash{}\\_hrs] 0\n\\item[social\\textbackslash{}\\_hrs] 0\n\\item[game\\textbackslash{}\\_hrs] 0\n\\item[screen\\textbackslash{}\\_time\\textbackslash{}\\_hrs] 0\n\\item[mental\\textbackslash{}\\_health\\textbackslash{}\\_sta] 0\n\\item[stress\\textbackslash{}\\_level] 0\n\\item[sleep\\textbackslash{}\\_hrs] 0\n\\item[activity\\textbackslash{}\\_hrs] 0\n\\item[support\\textbackslash{}\\_sys\\textbackslash{}\\_access] 0\n\\item[work\\textbackslash{}\\_env\\textbackslash{}\\_impact] 0\n\\item[online\\textbackslash{}\\_use] 0\n\\end{description*}\n",
            "text/plain": [
              "               age             gender           tech_hrs         social_hrs \n",
              "                 0                  0                  0                  0 \n",
              "          game_hrs    screen_time_hrs  mental_health_sta       stress_level \n",
              "                 0                  0                  0                  0 \n",
              "         sleep_hrs       activity_hrs support_sys_access    work_env_impact \n",
              "                 0                  0                  0                  0 \n",
              "        online_use \n",
              "                 0 "
            ]
          },
          "metadata": {}
        }
      ]
    },
    {
      "cell_type": "markdown",
      "source": [
        "The dataset contains no missing values."
      ],
      "metadata": {
        "id": "ofDN5rSDacO0"
      }
    },
    {
      "cell_type": "markdown",
      "source": [
        "### **Categorical Variables**\n",
        "\n",
        "The dataset contains the following categorical variables, which are encoded as:\n",
        "\n",
        "- **Gender (`gender`)**: Represents the gender of the participant. The possible values are:\n",
        "  - `Male`\n",
        "  - `Female`\n",
        "  - `Other`  \n",
        "  (This variable will be one-hot encoded for analysis.)\n",
        "\n",
        "- **Mental Health Status (`mental_health_sta`)**: A self-reported measure of the participant's mental health, categorized into:\n",
        "  - `Poor (0)`\n",
        "  - `Fair (1)`\n",
        "  - `Good (2)`\n",
        "  - `Excellent (3)`\n",
        "\n",
        "- **Stress Level (`stress_level`)**: A self-reported measure of stress, with the following categories:\n",
        "  - `Low (0)`\n",
        "  - `Medium (1)`\n",
        "  - `High (2)`\n",
        "\n",
        "- **Support Systems Access (`support_sys_access`)**: Indicates whether the participant has access to support systems, coded as:\n",
        "  - `No (0)`\n",
        "  - `Yes (1)`\n",
        "\n",
        "- **Work Environment Impact (`work_env_impact`)**: Self-reported impact of the work environment on mental health, categorized as:\n",
        "  - `Negative (0)`\n",
        "  - `Neutral (1)`\n",
        "  - `Positive (2)`\n",
        "\n",
        "- **Online Support Usage (`online_use`)**: Indicates whether the participant uses online support, coded as:\n",
        "  - `No (0)`\n",
        "  - `Yes (1)`\n",
        "\n"
      ],
      "metadata": {
        "id": "93YGq9WoA7z2"
      }
    },
    {
      "cell_type": "markdown",
      "source": [
        "#### **Gender**\n",
        "\n",
        "\n"
      ],
      "metadata": {
        "id": "0d85mX0RNeSm"
      }
    },
    {
      "cell_type": "code",
      "source": [
        "# to know the category of gender\n",
        "unique(mydata$gender)"
      ],
      "metadata": {
        "colab": {
          "base_uri": "https://localhost:8080/",
          "height": 34
        },
        "id": "tid6R746NjOp",
        "outputId": "df8231db-d4f6-4bfd-f352-67261802507c"
      },
      "execution_count": 93,
      "outputs": [
        {
          "output_type": "display_data",
          "data": {
            "text/html": [
              "<style>\n",
              ".list-inline {list-style: none; margin:0; padding: 0}\n",
              ".list-inline>li {display: inline-block}\n",
              ".list-inline>li:not(:last-child)::after {content: \"\\00b7\"; padding: 0 .5ex}\n",
              "</style>\n",
              "<ol class=list-inline><li>'Female'</li><li>'Male'</li><li>'Other'</li></ol>\n"
            ],
            "text/markdown": "1. 'Female'\n2. 'Male'\n3. 'Other'\n\n\n",
            "text/latex": "\\begin{enumerate*}\n\\item 'Female'\n\\item 'Male'\n\\item 'Other'\n\\end{enumerate*}\n",
            "text/plain": [
              "[1] \"Female\" \"Male\"   \"Other\" "
            ]
          },
          "metadata": {}
        }
      ]
    },
    {
      "cell_type": "code",
      "source": [
        "# Count the occurrences of each category in the Gender column\n",
        "table(mydata$gender)"
      ],
      "metadata": {
        "colab": {
          "base_uri": "https://localhost:8080/",
          "height": 69
        },
        "id": "cqAgT6MeNkCV",
        "outputId": "3a7c63b4-5223-444a-f772-c1aa8261a378"
      },
      "execution_count": 94,
      "outputs": [
        {
          "output_type": "display_data",
          "data": {
            "text/plain": [
              "\n",
              "Female   Male  Other \n",
              "  3286   3350   3364 "
            ]
          },
          "metadata": {}
        }
      ]
    },
    {
      "cell_type": "code",
      "source": [
        "## visualization of data using pie chart\n",
        "# Calculate proportions of each gender category\n",
        "gender_data <- mydata %>%\n",
        "  count(gender) %>%\n",
        "  mutate(percentage = n / sum(n) * 100) %>%\n",
        "  mutate(label = paste0(round(percentage, 1), \"%\"))  # Create percentage labels\n",
        "\n",
        "# Plot Gender Distribution as a pie chart with percentage labels\n",
        "ggplot(gender_data, aes(x = \"\", y = percentage, fill = gender)) +\n",
        "  geom_bar(stat = \"identity\", width = 1, color = \"black\") +\n",
        "  coord_polar(theta = \"y\") +\n",
        "  geom_text(aes(label = label), position = position_stack(vjust = 0.5), color = \"black\", size = 5) +\n",
        "  labs(title = \"Gender Distribution\") +\n",
        "  theme_minimal() +\n",
        "  theme(\n",
        "    plot.title = element_text(face = \"bold\", size = 16),  # Bold and larger title\n",
        "    axis.title.x = element_blank(),                      # Remove x-axis label\n",
        "    axis.title.y = element_blank(),                      # Remove y-axis label\n",
        "    axis.text = element_blank(),                         # Remove axis text/ticks\n",
        "    panel.grid = element_blank()                         # Remove grid lines\n",
        "  ) +\n",
        "  scale_fill_brewer(palette = \"Set2\")  # Use color palette\n"
      ],
      "metadata": {
        "colab": {
          "base_uri": "https://localhost:8080/",
          "height": 437
        },
        "id": "6vrkpgmfOtqm",
        "outputId": "3fb0d0da-e84c-42e0-e4be-7bb445c9f65d"
      },
      "execution_count": 95,
      "outputs": [
        {
          "output_type": "display_data",
          "data": {
            "text/plain": [
              "plot without title"
            ],
            "image/png": "[encoded data removed]"
          },
          "metadata": {
            "image/png": {
              "width": 420,
              "height": 420
            }
          }
        }
      ]
    },
    {
      "cell_type": "code",
      "source": [
        "## converting categorical to numerical variable by one-hot encoding\n",
        "# Create one-hot encoded columns for gender\n",
        "mydata_gender <- mydata %>%\n",
        "  mutate(\n",
        "    male = ifelse(tolower(trimws(gender)) == \"male\", 1, 0),\n",
        "    female = ifelse(tolower(trimws(gender)) == \"female\", 1, 0),\n",
        "    other = ifelse(tolower(trimws(gender)) == \"other\", 1, 0)\n",
        "  ) %>%\n",
        "  select(-gender)  # Remove the original gender column\n",
        "\n",
        "# Display the first few rows of the one-hot encoded data\n",
        "print(\"One-Hot Encoded Data:\")\n",
        "head(mydata_gender)"
      ],
      "metadata": {
        "colab": {
          "base_uri": "https://localhost:8080/",
          "height": 324
        },
        "id": "4MQHtsttMq-6",
        "outputId": "d000be33-02fc-416a-dfae-18257755aeb7"
      },
      "execution_count": 96,
      "outputs": [
        {
          "output_type": "stream",
          "name": "stdout",
          "text": [
            "[1] \"One-Hot Encoded Data:\"\n"
          ]
        },
        {
          "output_type": "display_data",
          "data": {
            "text/html": [
              "<table class=\"dataframe\">\n",
              "<caption>A tibble: 6 × 15</caption>\n",
              "<thead>\n",
              "\t<tr><th scope=col>age</th><th scope=col>tech_hrs</th><th scope=col>social_hrs</th><th scope=col>game_hrs</th><th scope=col>screen_time_hrs</th><th scope=col>mental_health_sta</th><th scope=col>stress_level</th><th scope=col>sleep_hrs</th><th scope=col>activity_hrs</th><th scope=col>support_sys_access</th><th scope=col>work_env_impact</th><th scope=col>online_use</th><th scope=col>male</th><th scope=col>female</th><th scope=col>other</th></tr>\n",
              "\t<tr><th scope=col>&lt;dbl&gt;</th><th scope=col>&lt;dbl&gt;</th><th scope=col>&lt;dbl&gt;</th><th scope=col>&lt;dbl&gt;</th><th scope=col>&lt;dbl&gt;</th><th scope=col>&lt;chr&gt;</th><th scope=col>&lt;chr&gt;</th><th scope=col>&lt;dbl&gt;</th><th scope=col>&lt;dbl&gt;</th><th scope=col>&lt;chr&gt;</th><th scope=col>&lt;chr&gt;</th><th scope=col>&lt;chr&gt;</th><th scope=col>&lt;dbl&gt;</th><th scope=col>&lt;dbl&gt;</th><th scope=col>&lt;dbl&gt;</th></tr>\n",
              "</thead>\n",
              "<tbody>\n",
              "\t<tr><td>23</td><td>6.57</td><td>6.00</td><td>0.68</td><td>12.36</td><td>Good     </td><td>Low   </td><td>8.01</td><td>6.71</td><td>No </td><td>Negative</td><td>Yes</td><td>0</td><td>1</td><td>0</td></tr>\n",
              "\t<tr><td>21</td><td>3.01</td><td>2.57</td><td>3.74</td><td> 7.61</td><td>Poor     </td><td>High  </td><td>7.28</td><td>5.88</td><td>Yes</td><td>Positive</td><td>No </td><td>1</td><td>0</td><td>0</td></tr>\n",
              "\t<tr><td>51</td><td>3.04</td><td>6.14</td><td>1.26</td><td> 3.16</td><td>Fair     </td><td>High  </td><td>8.04</td><td>9.81</td><td>No </td><td>Negative</td><td>No </td><td>1</td><td>0</td><td>0</td></tr>\n",
              "\t<tr><td>25</td><td>3.84</td><td>4.48</td><td>2.59</td><td>13.08</td><td>Excellent</td><td>Medium</td><td>5.62</td><td>5.28</td><td>Yes</td><td>Negative</td><td>Yes</td><td>0</td><td>1</td><td>0</td></tr>\n",
              "\t<tr><td>53</td><td>1.20</td><td>0.56</td><td>0.29</td><td>12.63</td><td>Good     </td><td>Low   </td><td>5.55</td><td>4.00</td><td>No </td><td>Positive</td><td>Yes</td><td>1</td><td>0</td><td>0</td></tr>\n",
              "\t<tr><td>58</td><td>5.59</td><td>5.74</td><td>0.11</td><td> 1.34</td><td>Poor     </td><td>Low   </td><td>8.61</td><td>6.54</td><td>Yes</td><td>Neutral </td><td>Yes</td><td>1</td><td>0</td><td>0</td></tr>\n",
              "</tbody>\n",
              "</table>\n"
            ],
            "text/markdown": "\nA tibble: 6 × 15\n\n| age &lt;dbl&gt; | tech_hrs &lt;dbl&gt; | social_hrs &lt;dbl&gt; | game_hrs &lt;dbl&gt; | screen_time_hrs &lt;dbl&gt; | mental_health_sta &lt;chr&gt; | stress_level &lt;chr&gt; | sleep_hrs &lt;dbl&gt; | activity_hrs &lt;dbl&gt; | support_sys_access &lt;chr&gt; | work_env_impact &lt;chr&gt; | online_use &lt;chr&gt; | male &lt;dbl&gt; | female &lt;dbl&gt; | other &lt;dbl&gt; |\n|---|---|---|---|---|---|---|---|---|---|---|---|---|---|---|\n| 23 | 6.57 | 6.00 | 0.68 | 12.36 | Good      | Low    | 8.01 | 6.71 | No  | Negative | Yes | 0 | 1 | 0 |\n| 21 | 3.01 | 2.57 | 3.74 |  7.61 | Poor      | High   | 7.28 | 5.88 | Yes | Positive | No  | 1 | 0 | 0 |\n| 51 | 3.04 | 6.14 | 1.26 |  3.16 | Fair      | High   | 8.04 | 9.81 | No  | Negative | No  | 1 | 0 | 0 |\n| 25 | 3.84 | 4.48 | 2.59 | 13.08 | Excellent | Medium | 5.62 | 5.28 | Yes | Negative | Yes | 0 | 1 | 0 |\n| 53 | 1.20 | 0.56 | 0.29 | 12.63 | Good      | Low    | 5.55 | 4.00 | No  | Positive | Yes | 1 | 0 | 0 |\n| 58 | 5.59 | 5.74 | 0.11 |  1.34 | Poor      | Low    | 8.61 | 6.54 | Yes | Neutral  | Yes | 1 | 0 | 0 |\n\n",
            "text/latex": "A tibble: 6 × 15\n\\begin{tabular}{lllllllllllllll}\n age & tech\\_hrs & social\\_hrs & game\\_hrs & screen\\_time\\_hrs & mental\\_health\\_sta & stress\\_level & sleep\\_hrs & activity\\_hrs & support\\_sys\\_access & work\\_env\\_impact & online\\_use & male & female & other\\\\\n <dbl> & <dbl> & <dbl> & <dbl> & <dbl> & <chr> & <chr> & <dbl> & <dbl> & <chr> & <chr> & <chr> & <dbl> & <dbl> & <dbl>\\\\\n\\hline\n\t 23 & 6.57 & 6.00 & 0.68 & 12.36 & Good      & Low    & 8.01 & 6.71 & No  & Negative & Yes & 0 & 1 & 0\\\\\n\t 21 & 3.01 & 2.57 & 3.74 &  7.61 & Poor      & High   & 7.28 & 5.88 & Yes & Positive & No  & 1 & 0 & 0\\\\\n\t 51 & 3.04 & 6.14 & 1.26 &  3.16 & Fair      & High   & 8.04 & 9.81 & No  & Negative & No  & 1 & 0 & 0\\\\\n\t 25 & 3.84 & 4.48 & 2.59 & 13.08 & Excellent & Medium & 5.62 & 5.28 & Yes & Negative & Yes & 0 & 1 & 0\\\\\n\t 53 & 1.20 & 0.56 & 0.29 & 12.63 & Good      & Low    & 5.55 & 4.00 & No  & Positive & Yes & 1 & 0 & 0\\\\\n\t 58 & 5.59 & 5.74 & 0.11 &  1.34 & Poor      & Low    & 8.61 & 6.54 & Yes & Neutral  & Yes & 1 & 0 & 0\\\\\n\\end{tabular}\n",
            "text/plain": [
              "  age tech_hrs social_hrs game_hrs screen_time_hrs mental_health_sta\n",
              "1 23  6.57     6.00       0.68     12.36           Good             \n",
              "2 21  3.01     2.57       3.74      7.61           Poor             \n",
              "3 51  3.04     6.14       1.26      3.16           Fair             \n",
              "4 25  3.84     4.48       2.59     13.08           Excellent        \n",
              "5 53  1.20     0.56       0.29     12.63           Good             \n",
              "6 58  5.59     5.74       0.11      1.34           Poor             \n",
              "  stress_level sleep_hrs activity_hrs support_sys_access work_env_impact\n",
              "1 Low          8.01      6.71         No                 Negative       \n",
              "2 High         7.28      5.88         Yes                Positive       \n",
              "3 High         8.04      9.81         No                 Negative       \n",
              "4 Medium       5.62      5.28         Yes                Negative       \n",
              "5 Low          5.55      4.00         No                 Positive       \n",
              "6 Low          8.61      6.54         Yes                Neutral        \n",
              "  online_use male female other\n",
              "1 Yes        0    1      0    \n",
              "2 No         1    0      0    \n",
              "3 No         1    0      0    \n",
              "4 Yes        0    1      0    \n",
              "5 Yes        1    0      0    \n",
              "6 Yes        1    0      0    "
            ]
          },
          "metadata": {}
        }
      ]
    },
    {
      "cell_type": "markdown",
      "source": [
        "#### **Mental_health_status**"
      ],
      "metadata": {
        "id": "ca5egb-2OCgg"
      }
    },
    {
      "cell_type": "code",
      "source": [
        "table(mydata$mental_health_sta)"
      ],
      "metadata": {
        "colab": {
          "base_uri": "https://localhost:8080/",
          "height": 69
        },
        "id": "CBeimciiOd7v",
        "outputId": "36012ea2-c652-46d3-fda5-d800ec3bf50f"
      },
      "execution_count": 97,
      "outputs": [
        {
          "output_type": "display_data",
          "data": {
            "text/plain": [
              "\n",
              "Excellent      Fair      Good      Poor \n",
              "     2518      2490      2508      2484 "
            ]
          },
          "metadata": {}
        }
      ]
    },
    {
      "cell_type": "code",
      "source": [
        "## visualization of the data using bar plot\n",
        "# Calculate the frequency of each category in mental_health_sta\n",
        "mental_health_counts <- table(mydata$mental_health_sta)\n",
        "\n",
        "# Plot the distribution using a bar plot\n",
        "barplot(mental_health_counts,\n",
        "        main = \"Distribution of mental health status\",\n",
        "        xlab = \"Mental health level\",\n",
        "        ylab = \"Frequency\",\n",
        "        col = \"skyblue\",\n",
        "        border = \"black\",\n",
        "        las = 1)  # las = 1 for horizontal labels"
      ],
      "metadata": {
        "colab": {
          "base_uri": "https://localhost:8080/",
          "height": 437
        },
        "id": "erb1fO4ROSm_",
        "outputId": "91f1a089-b9a0-4c62-f7d6-f195e079fb90"
      },
      "execution_count": 98,
      "outputs": [
        {
          "output_type": "display_data",
          "data": {
            "text/plain": [
              "Plot with title “Distribution of mental health status”"
            ],
            "image/png": "[encoded data removed]"
          },
          "metadata": {
            "image/png": {
              "width": 420,
              "height": 420
            }
          }
        }
      ]
    },
    {
      "cell_type": "code",
      "source": [
        "# converting categorical variable into a numerical format\n",
        "mydata_mental <- mydata_gender %>%\n",
        "  mutate(mental_health_sta = case_when(\n",
        "    tolower(trimws(mental_health_sta)) == \"poor\" ~ 0,\n",
        "    tolower(trimws(mental_health_sta)) == \"good\" ~ 1,\n",
        "    tolower(trimws(mental_health_sta)) == \"fair\" ~ 2,\n",
        "    tolower(trimws(mental_health_sta)) == \"excellent\" ~ 3,\n",
        "    TRUE ~ NA_real_  # This handles any unexpected values\n",
        "  ))"
      ],
      "metadata": {
        "id": "s35Mc6kHOGt5"
      },
      "execution_count": 99,
      "outputs": []
    },
    {
      "cell_type": "markdown",
      "source": [
        "#### **Stress_Level**"
      ],
      "metadata": {
        "id": "FwK9ugTkPnIv"
      }
    },
    {
      "cell_type": "code",
      "source": [
        "unique(mydata$stress_level)"
      ],
      "metadata": {
        "colab": {
          "base_uri": "https://localhost:8080/",
          "height": 34
        },
        "id": "7rZOKim0P7tg",
        "outputId": "e47046b2-31cc-4081-f1f4-6abe956ff059"
      },
      "execution_count": 100,
      "outputs": [
        {
          "output_type": "display_data",
          "data": {
            "text/html": [
              "<style>\n",
              ".list-inline {list-style: none; margin:0; padding: 0}\n",
              ".list-inline>li {display: inline-block}\n",
              ".list-inline>li:not(:last-child)::after {content: \"\\00b7\"; padding: 0 .5ex}\n",
              "</style>\n",
              "<ol class=list-inline><li>'Low'</li><li>'High'</li><li>'Medium'</li></ol>\n"
            ],
            "text/markdown": "1. 'Low'\n2. 'High'\n3. 'Medium'\n\n\n",
            "text/latex": "\\begin{enumerate*}\n\\item 'Low'\n\\item 'High'\n\\item 'Medium'\n\\end{enumerate*}\n",
            "text/plain": [
              "[1] \"Low\"    \"High\"   \"Medium\""
            ]
          },
          "metadata": {}
        }
      ]
    },
    {
      "cell_type": "code",
      "source": [
        "table(mydata$stress_level)"
      ],
      "metadata": {
        "colab": {
          "base_uri": "https://localhost:8080/",
          "height": 69
        },
        "id": "ZJSB6BvvPrVj",
        "outputId": "c33d88bb-51c5-4cab-8ebe-bd88e2ba91f3"
      },
      "execution_count": 101,
      "outputs": [
        {
          "output_type": "display_data",
          "data": {
            "text/plain": [
              "\n",
              "  High    Low Medium \n",
              "  3330   3332   3338 "
            ]
          },
          "metadata": {}
        }
      ]
    },
    {
      "cell_type": "code",
      "source": [
        "## visualization of the data using bar plot\n",
        "# Calculate the frequency of each category in mental_health_sta\n",
        "mental_stress_counts <- table(mydata$stress_level)\n",
        "\n",
        "# Plot the distribution using a bar plot\n",
        "barplot(mental_stress_counts,\n",
        "        main = \"Distribution of stress level\",\n",
        "        xlab = \"Stress level\",\n",
        "        ylab = \"Frequency\",\n",
        "        col = \"skyblue\",\n",
        "        border = \"black\",\n",
        "        las = 1)  # las = 1 for horizontal labels"
      ],
      "metadata": {
        "colab": {
          "base_uri": "https://localhost:8080/",
          "height": 437
        },
        "id": "tDULAmioQFz1",
        "outputId": "f1702403-35bb-4ae2-bfac-3a373e25c8e1"
      },
      "execution_count": 102,
      "outputs": [
        {
          "output_type": "display_data",
          "data": {
            "text/plain": [
              "Plot with title “Distribution of stress level”"
            ],
            "image/png": "[encoded data removed]"
          },
          "metadata": {
            "image/png": {
              "width": 420,
              "height": 420
            }
          }
        }
      ]
    },
    {
      "cell_type": "code",
      "source": [
        "# converting categorical variable into a numerical format\n",
        "mydata_stress <- mydata_mental %>%\n",
        "  mutate(stress_level = case_when(\n",
        "    tolower(trimws(stress_level)) == \"low\" ~ 0,\n",
        "    tolower(trimws(stress_level)) == \"medium\" ~ 1,\n",
        "    tolower(trimws(stress_level)) == \"high\" ~ 2,\n",
        "    TRUE ~ NA_real_  # This handles any unexpected values\n",
        "  ))\n",
        "\n",
        "# Display the first 10 rows of the modified data\n",
        "head(mydata_stress, 2)\n"
      ],
      "metadata": {
        "colab": {
          "base_uri": "https://localhost:8080/",
          "height": 181
        },
        "id": "RWCVl1TDQrfb",
        "outputId": "ffb5c7fd-2e6d-4893-9fb3-d6d6771ed7ae"
      },
      "execution_count": 103,
      "outputs": [
        {
          "output_type": "display_data",
          "data": {
            "text/html": [
              "<table class=\"dataframe\">\n",
              "<caption>A tibble: 2 × 15</caption>\n",
              "<thead>\n",
              "\t<tr><th scope=col>age</th><th scope=col>tech_hrs</th><th scope=col>social_hrs</th><th scope=col>game_hrs</th><th scope=col>screen_time_hrs</th><th scope=col>mental_health_sta</th><th scope=col>stress_level</th><th scope=col>sleep_hrs</th><th scope=col>activity_hrs</th><th scope=col>support_sys_access</th><th scope=col>work_env_impact</th><th scope=col>online_use</th><th scope=col>male</th><th scope=col>female</th><th scope=col>other</th></tr>\n",
              "\t<tr><th scope=col>&lt;dbl&gt;</th><th scope=col>&lt;dbl&gt;</th><th scope=col>&lt;dbl&gt;</th><th scope=col>&lt;dbl&gt;</th><th scope=col>&lt;dbl&gt;</th><th scope=col>&lt;dbl&gt;</th><th scope=col>&lt;dbl&gt;</th><th scope=col>&lt;dbl&gt;</th><th scope=col>&lt;dbl&gt;</th><th scope=col>&lt;chr&gt;</th><th scope=col>&lt;chr&gt;</th><th scope=col>&lt;chr&gt;</th><th scope=col>&lt;dbl&gt;</th><th scope=col>&lt;dbl&gt;</th><th scope=col>&lt;dbl&gt;</th></tr>\n",
              "</thead>\n",
              "<tbody>\n",
              "\t<tr><td>23</td><td>6.57</td><td>6.00</td><td>0.68</td><td>12.36</td><td>1</td><td>0</td><td>8.01</td><td>6.71</td><td>No </td><td>Negative</td><td>Yes</td><td>0</td><td>1</td><td>0</td></tr>\n",
              "\t<tr><td>21</td><td>3.01</td><td>2.57</td><td>3.74</td><td> 7.61</td><td>0</td><td>2</td><td>7.28</td><td>5.88</td><td>Yes</td><td>Positive</td><td>No </td><td>1</td><td>0</td><td>0</td></tr>\n",
              "</tbody>\n",
              "</table>\n"
            ],
            "text/markdown": "\nA tibble: 2 × 15\n\n| age &lt;dbl&gt; | tech_hrs &lt;dbl&gt; | social_hrs &lt;dbl&gt; | game_hrs &lt;dbl&gt; | screen_time_hrs &lt;dbl&gt; | mental_health_sta &lt;dbl&gt; | stress_level &lt;dbl&gt; | sleep_hrs &lt;dbl&gt; | activity_hrs &lt;dbl&gt; | support_sys_access &lt;chr&gt; | work_env_impact &lt;chr&gt; | online_use &lt;chr&gt; | male &lt;dbl&gt; | female &lt;dbl&gt; | other &lt;dbl&gt; |\n|---|---|---|---|---|---|---|---|---|---|---|---|---|---|---|\n| 23 | 6.57 | 6.00 | 0.68 | 12.36 | 1 | 0 | 8.01 | 6.71 | No  | Negative | Yes | 0 | 1 | 0 |\n| 21 | 3.01 | 2.57 | 3.74 |  7.61 | 0 | 2 | 7.28 | 5.88 | Yes | Positive | No  | 1 | 0 | 0 |\n\n",
            "text/latex": "A tibble: 2 × 15\n\\begin{tabular}{lllllllllllllll}\n age & tech\\_hrs & social\\_hrs & game\\_hrs & screen\\_time\\_hrs & mental\\_health\\_sta & stress\\_level & sleep\\_hrs & activity\\_hrs & support\\_sys\\_access & work\\_env\\_impact & online\\_use & male & female & other\\\\\n <dbl> & <dbl> & <dbl> & <dbl> & <dbl> & <dbl> & <dbl> & <dbl> & <dbl> & <chr> & <chr> & <chr> & <dbl> & <dbl> & <dbl>\\\\\n\\hline\n\t 23 & 6.57 & 6.00 & 0.68 & 12.36 & 1 & 0 & 8.01 & 6.71 & No  & Negative & Yes & 0 & 1 & 0\\\\\n\t 21 & 3.01 & 2.57 & 3.74 &  7.61 & 0 & 2 & 7.28 & 5.88 & Yes & Positive & No  & 1 & 0 & 0\\\\\n\\end{tabular}\n",
            "text/plain": [
              "  age tech_hrs social_hrs game_hrs screen_time_hrs mental_health_sta\n",
              "1 23  6.57     6.00       0.68     12.36           1                \n",
              "2 21  3.01     2.57       3.74      7.61           0                \n",
              "  stress_level sleep_hrs activity_hrs support_sys_access work_env_impact\n",
              "1 0            8.01      6.71         No                 Negative       \n",
              "2 2            7.28      5.88         Yes                Positive       \n",
              "  online_use male female other\n",
              "1 Yes        0    1      0    \n",
              "2 No         1    0      0    "
            ]
          },
          "metadata": {}
        }
      ]
    },
    {
      "cell_type": "markdown",
      "source": [
        "#### **Support_Systems_Access**"
      ],
      "metadata": {
        "id": "0WGTUiS6RBB6"
      }
    },
    {
      "cell_type": "code",
      "source": [
        "# converting categorical to numerical variables\n",
        "mydata_support <- mydata_stress %>%\n",
        "  mutate(support_sys_access = case_when(\n",
        "    tolower(trimws(support_sys_access)) == \"no\" ~ 0,\n",
        "    tolower(trimws(support_sys_access)) == \"yes\" ~ 1,\n",
        "    TRUE ~ NA_real_  # This handles any unexpected values\n",
        "  ))\n",
        "\n",
        "# Display the first 10 rows of the modified data\n",
        "head(mydata_support, 2)\n"
      ],
      "metadata": {
        "colab": {
          "base_uri": "https://localhost:8080/",
          "height": 181
        },
        "id": "EY85HecKRIYJ",
        "outputId": "5996a346-7093-44b3-9589-6b82eea1506c"
      },
      "execution_count": 104,
      "outputs": [
        {
          "output_type": "display_data",
          "data": {
            "text/html": [
              "<table class=\"dataframe\">\n",
              "<caption>A tibble: 2 × 15</caption>\n",
              "<thead>\n",
              "\t<tr><th scope=col>age</th><th scope=col>tech_hrs</th><th scope=col>social_hrs</th><th scope=col>game_hrs</th><th scope=col>screen_time_hrs</th><th scope=col>mental_health_sta</th><th scope=col>stress_level</th><th scope=col>sleep_hrs</th><th scope=col>activity_hrs</th><th scope=col>support_sys_access</th><th scope=col>work_env_impact</th><th scope=col>online_use</th><th scope=col>male</th><th scope=col>female</th><th scope=col>other</th></tr>\n",
              "\t<tr><th scope=col>&lt;dbl&gt;</th><th scope=col>&lt;dbl&gt;</th><th scope=col>&lt;dbl&gt;</th><th scope=col>&lt;dbl&gt;</th><th scope=col>&lt;dbl&gt;</th><th scope=col>&lt;dbl&gt;</th><th scope=col>&lt;dbl&gt;</th><th scope=col>&lt;dbl&gt;</th><th scope=col>&lt;dbl&gt;</th><th scope=col>&lt;dbl&gt;</th><th scope=col>&lt;chr&gt;</th><th scope=col>&lt;chr&gt;</th><th scope=col>&lt;dbl&gt;</th><th scope=col>&lt;dbl&gt;</th><th scope=col>&lt;dbl&gt;</th></tr>\n",
              "</thead>\n",
              "<tbody>\n",
              "\t<tr><td>23</td><td>6.57</td><td>6.00</td><td>0.68</td><td>12.36</td><td>1</td><td>0</td><td>8.01</td><td>6.71</td><td>0</td><td>Negative</td><td>Yes</td><td>0</td><td>1</td><td>0</td></tr>\n",
              "\t<tr><td>21</td><td>3.01</td><td>2.57</td><td>3.74</td><td> 7.61</td><td>0</td><td>2</td><td>7.28</td><td>5.88</td><td>1</td><td>Positive</td><td>No </td><td>1</td><td>0</td><td>0</td></tr>\n",
              "</tbody>\n",
              "</table>\n"
            ],
            "text/markdown": "\nA tibble: 2 × 15\n\n| age &lt;dbl&gt; | tech_hrs &lt;dbl&gt; | social_hrs &lt;dbl&gt; | game_hrs &lt;dbl&gt; | screen_time_hrs &lt;dbl&gt; | mental_health_sta &lt;dbl&gt; | stress_level &lt;dbl&gt; | sleep_hrs &lt;dbl&gt; | activity_hrs &lt;dbl&gt; | support_sys_access &lt;dbl&gt; | work_env_impact &lt;chr&gt; | online_use &lt;chr&gt; | male &lt;dbl&gt; | female &lt;dbl&gt; | other &lt;dbl&gt; |\n|---|---|---|---|---|---|---|---|---|---|---|---|---|---|---|\n| 23 | 6.57 | 6.00 | 0.68 | 12.36 | 1 | 0 | 8.01 | 6.71 | 0 | Negative | Yes | 0 | 1 | 0 |\n| 21 | 3.01 | 2.57 | 3.74 |  7.61 | 0 | 2 | 7.28 | 5.88 | 1 | Positive | No  | 1 | 0 | 0 |\n\n",
            "text/latex": "A tibble: 2 × 15\n\\begin{tabular}{lllllllllllllll}\n age & tech\\_hrs & social\\_hrs & game\\_hrs & screen\\_time\\_hrs & mental\\_health\\_sta & stress\\_level & sleep\\_hrs & activity\\_hrs & support\\_sys\\_access & work\\_env\\_impact & online\\_use & male & female & other\\\\\n <dbl> & <dbl> & <dbl> & <dbl> & <dbl> & <dbl> & <dbl> & <dbl> & <dbl> & <dbl> & <chr> & <chr> & <dbl> & <dbl> & <dbl>\\\\\n\\hline\n\t 23 & 6.57 & 6.00 & 0.68 & 12.36 & 1 & 0 & 8.01 & 6.71 & 0 & Negative & Yes & 0 & 1 & 0\\\\\n\t 21 & 3.01 & 2.57 & 3.74 &  7.61 & 0 & 2 & 7.28 & 5.88 & 1 & Positive & No  & 1 & 0 & 0\\\\\n\\end{tabular}\n",
            "text/plain": [
              "  age tech_hrs social_hrs game_hrs screen_time_hrs mental_health_sta\n",
              "1 23  6.57     6.00       0.68     12.36           1                \n",
              "2 21  3.01     2.57       3.74      7.61           0                \n",
              "  stress_level sleep_hrs activity_hrs support_sys_access work_env_impact\n",
              "1 0            8.01      6.71         0                  Negative       \n",
              "2 2            7.28      5.88         1                  Positive       \n",
              "  online_use male female other\n",
              "1 Yes        0    1      0    \n",
              "2 No         1    0      0    "
            ]
          },
          "metadata": {}
        }
      ]
    },
    {
      "cell_type": "markdown",
      "source": [
        "#### **Work_Environment_Impact**"
      ],
      "metadata": {
        "id": "_5QiM-M_RVVi"
      }
    },
    {
      "cell_type": "code",
      "source": [
        "mydata_env <- mydata_support %>%\n",
        "  mutate(work_env_impact = case_when(\n",
        "    tolower(trimws(work_env_impact)) == \"negative\" ~ 0,\n",
        "    tolower(trimws(work_env_impact)) == \"neutral\" ~ 1,\n",
        "    tolower(trimws(work_env_impact)) == \"positive\" ~ 2,\n",
        "    TRUE ~ NA_real_  # This handles any unexpected values\n",
        "  ))\n",
        "\n",
        "# Display the first 10 rows of the modified data\n",
        "head(mydata_env, 2)"
      ],
      "metadata": {
        "colab": {
          "base_uri": "https://localhost:8080/",
          "height": 181
        },
        "id": "PSEzJGFjRPlK",
        "outputId": "be953c90-4a4b-4cc2-8fe3-ba7d59f9b182"
      },
      "execution_count": 105,
      "outputs": [
        {
          "output_type": "display_data",
          "data": {
            "text/html": [
              "<table class=\"dataframe\">\n",
              "<caption>A tibble: 2 × 15</caption>\n",
              "<thead>\n",
              "\t<tr><th scope=col>age</th><th scope=col>tech_hrs</th><th scope=col>social_hrs</th><th scope=col>game_hrs</th><th scope=col>screen_time_hrs</th><th scope=col>mental_health_sta</th><th scope=col>stress_level</th><th scope=col>sleep_hrs</th><th scope=col>activity_hrs</th><th scope=col>support_sys_access</th><th scope=col>work_env_impact</th><th scope=col>online_use</th><th scope=col>male</th><th scope=col>female</th><th scope=col>other</th></tr>\n",
              "\t<tr><th scope=col>&lt;dbl&gt;</th><th scope=col>&lt;dbl&gt;</th><th scope=col>&lt;dbl&gt;</th><th scope=col>&lt;dbl&gt;</th><th scope=col>&lt;dbl&gt;</th><th scope=col>&lt;dbl&gt;</th><th scope=col>&lt;dbl&gt;</th><th scope=col>&lt;dbl&gt;</th><th scope=col>&lt;dbl&gt;</th><th scope=col>&lt;dbl&gt;</th><th scope=col>&lt;dbl&gt;</th><th scope=col>&lt;chr&gt;</th><th scope=col>&lt;dbl&gt;</th><th scope=col>&lt;dbl&gt;</th><th scope=col>&lt;dbl&gt;</th></tr>\n",
              "</thead>\n",
              "<tbody>\n",
              "\t<tr><td>23</td><td>6.57</td><td>6.00</td><td>0.68</td><td>12.36</td><td>1</td><td>0</td><td>8.01</td><td>6.71</td><td>0</td><td>0</td><td>Yes</td><td>0</td><td>1</td><td>0</td></tr>\n",
              "\t<tr><td>21</td><td>3.01</td><td>2.57</td><td>3.74</td><td> 7.61</td><td>0</td><td>2</td><td>7.28</td><td>5.88</td><td>1</td><td>2</td><td>No </td><td>1</td><td>0</td><td>0</td></tr>\n",
              "</tbody>\n",
              "</table>\n"
            ],
            "text/markdown": "\nA tibble: 2 × 15\n\n| age &lt;dbl&gt; | tech_hrs &lt;dbl&gt; | social_hrs &lt;dbl&gt; | game_hrs &lt;dbl&gt; | screen_time_hrs &lt;dbl&gt; | mental_health_sta &lt;dbl&gt; | stress_level &lt;dbl&gt; | sleep_hrs &lt;dbl&gt; | activity_hrs &lt;dbl&gt; | support_sys_access &lt;dbl&gt; | work_env_impact &lt;dbl&gt; | online_use &lt;chr&gt; | male &lt;dbl&gt; | female &lt;dbl&gt; | other &lt;dbl&gt; |\n|---|---|---|---|---|---|---|---|---|---|---|---|---|---|---|\n| 23 | 6.57 | 6.00 | 0.68 | 12.36 | 1 | 0 | 8.01 | 6.71 | 0 | 0 | Yes | 0 | 1 | 0 |\n| 21 | 3.01 | 2.57 | 3.74 |  7.61 | 0 | 2 | 7.28 | 5.88 | 1 | 2 | No  | 1 | 0 | 0 |\n\n",
            "text/latex": "A tibble: 2 × 15\n\\begin{tabular}{lllllllllllllll}\n age & tech\\_hrs & social\\_hrs & game\\_hrs & screen\\_time\\_hrs & mental\\_health\\_sta & stress\\_level & sleep\\_hrs & activity\\_hrs & support\\_sys\\_access & work\\_env\\_impact & online\\_use & male & female & other\\\\\n <dbl> & <dbl> & <dbl> & <dbl> & <dbl> & <dbl> & <dbl> & <dbl> & <dbl> & <dbl> & <dbl> & <chr> & <dbl> & <dbl> & <dbl>\\\\\n\\hline\n\t 23 & 6.57 & 6.00 & 0.68 & 12.36 & 1 & 0 & 8.01 & 6.71 & 0 & 0 & Yes & 0 & 1 & 0\\\\\n\t 21 & 3.01 & 2.57 & 3.74 &  7.61 & 0 & 2 & 7.28 & 5.88 & 1 & 2 & No  & 1 & 0 & 0\\\\\n\\end{tabular}\n",
            "text/plain": [
              "  age tech_hrs social_hrs game_hrs screen_time_hrs mental_health_sta\n",
              "1 23  6.57     6.00       0.68     12.36           1                \n",
              "2 21  3.01     2.57       3.74      7.61           0                \n",
              "  stress_level sleep_hrs activity_hrs support_sys_access work_env_impact\n",
              "1 0            8.01      6.71         0                  0              \n",
              "2 2            7.28      5.88         1                  2              \n",
              "  online_use male female other\n",
              "1 Yes        0    1      0    \n",
              "2 No         1    0      0    "
            ]
          },
          "metadata": {}
        }
      ]
    },
    {
      "cell_type": "markdown",
      "source": [
        "#### **Online_Support_Usage**"
      ],
      "metadata": {
        "id": "13UmePP4RXY3"
      }
    },
    {
      "cell_type": "code",
      "source": [
        "mydata_online <- mydata_env %>%\n",
        "  mutate(online_use = case_when(\n",
        "    tolower(trimws(online_use)) == \"no\" ~ 0,\n",
        "    tolower(trimws(online_use)) == \"yes\" ~ 1,\n",
        "    TRUE ~ NA_real_  # This handles any unexpected values\n",
        "  ))\n",
        "\n",
        "# Display the first 10 rows of the modified data\n",
        "head(mydata_online, 2)"
      ],
      "metadata": {
        "colab": {
          "base_uri": "https://localhost:8080/",
          "height": 181
        },
        "id": "c2aM8jSfRbXq",
        "outputId": "340e087a-f34a-4763-af66-445dd4ab8bef"
      },
      "execution_count": 106,
      "outputs": [
        {
          "output_type": "display_data",
          "data": {
            "text/html": [
              "<table class=\"dataframe\">\n",
              "<caption>A tibble: 2 × 15</caption>\n",
              "<thead>\n",
              "\t<tr><th scope=col>age</th><th scope=col>tech_hrs</th><th scope=col>social_hrs</th><th scope=col>game_hrs</th><th scope=col>screen_time_hrs</th><th scope=col>mental_health_sta</th><th scope=col>stress_level</th><th scope=col>sleep_hrs</th><th scope=col>activity_hrs</th><th scope=col>support_sys_access</th><th scope=col>work_env_impact</th><th scope=col>online_use</th><th scope=col>male</th><th scope=col>female</th><th scope=col>other</th></tr>\n",
              "\t<tr><th scope=col>&lt;dbl&gt;</th><th scope=col>&lt;dbl&gt;</th><th scope=col>&lt;dbl&gt;</th><th scope=col>&lt;dbl&gt;</th><th scope=col>&lt;dbl&gt;</th><th scope=col>&lt;dbl&gt;</th><th scope=col>&lt;dbl&gt;</th><th scope=col>&lt;dbl&gt;</th><th scope=col>&lt;dbl&gt;</th><th scope=col>&lt;dbl&gt;</th><th scope=col>&lt;dbl&gt;</th><th scope=col>&lt;dbl&gt;</th><th scope=col>&lt;dbl&gt;</th><th scope=col>&lt;dbl&gt;</th><th scope=col>&lt;dbl&gt;</th></tr>\n",
              "</thead>\n",
              "<tbody>\n",
              "\t<tr><td>23</td><td>6.57</td><td>6.00</td><td>0.68</td><td>12.36</td><td>1</td><td>0</td><td>8.01</td><td>6.71</td><td>0</td><td>0</td><td>1</td><td>0</td><td>1</td><td>0</td></tr>\n",
              "\t<tr><td>21</td><td>3.01</td><td>2.57</td><td>3.74</td><td> 7.61</td><td>0</td><td>2</td><td>7.28</td><td>5.88</td><td>1</td><td>2</td><td>0</td><td>1</td><td>0</td><td>0</td></tr>\n",
              "</tbody>\n",
              "</table>\n"
            ],
            "text/markdown": "\nA tibble: 2 × 15\n\n| age &lt;dbl&gt; | tech_hrs &lt;dbl&gt; | social_hrs &lt;dbl&gt; | game_hrs &lt;dbl&gt; | screen_time_hrs &lt;dbl&gt; | mental_health_sta &lt;dbl&gt; | stress_level &lt;dbl&gt; | sleep_hrs &lt;dbl&gt; | activity_hrs &lt;dbl&gt; | support_sys_access &lt;dbl&gt; | work_env_impact &lt;dbl&gt; | online_use &lt;dbl&gt; | male &lt;dbl&gt; | female &lt;dbl&gt; | other &lt;dbl&gt; |\n|---|---|---|---|---|---|---|---|---|---|---|---|---|---|---|\n| 23 | 6.57 | 6.00 | 0.68 | 12.36 | 1 | 0 | 8.01 | 6.71 | 0 | 0 | 1 | 0 | 1 | 0 |\n| 21 | 3.01 | 2.57 | 3.74 |  7.61 | 0 | 2 | 7.28 | 5.88 | 1 | 2 | 0 | 1 | 0 | 0 |\n\n",
            "text/latex": "A tibble: 2 × 15\n\\begin{tabular}{lllllllllllllll}\n age & tech\\_hrs & social\\_hrs & game\\_hrs & screen\\_time\\_hrs & mental\\_health\\_sta & stress\\_level & sleep\\_hrs & activity\\_hrs & support\\_sys\\_access & work\\_env\\_impact & online\\_use & male & female & other\\\\\n <dbl> & <dbl> & <dbl> & <dbl> & <dbl> & <dbl> & <dbl> & <dbl> & <dbl> & <dbl> & <dbl> & <dbl> & <dbl> & <dbl> & <dbl>\\\\\n\\hline\n\t 23 & 6.57 & 6.00 & 0.68 & 12.36 & 1 & 0 & 8.01 & 6.71 & 0 & 0 & 1 & 0 & 1 & 0\\\\\n\t 21 & 3.01 & 2.57 & 3.74 &  7.61 & 0 & 2 & 7.28 & 5.88 & 1 & 2 & 0 & 1 & 0 & 0\\\\\n\\end{tabular}\n",
            "text/plain": [
              "  age tech_hrs social_hrs game_hrs screen_time_hrs mental_health_sta\n",
              "1 23  6.57     6.00       0.68     12.36           1                \n",
              "2 21  3.01     2.57       3.74      7.61           0                \n",
              "  stress_level sleep_hrs activity_hrs support_sys_access work_env_impact\n",
              "1 0            8.01      6.71         0                  0              \n",
              "2 2            7.28      5.88         1                  2              \n",
              "  online_use male female other\n",
              "1 1          0    1      0    \n",
              "2 0          1    0      0    "
            ]
          },
          "metadata": {}
        }
      ]
    },
    {
      "cell_type": "markdown",
      "source": [
        "In the above code, I examine the details of categorical variables such as `gender`, `Mental_Health_Status`, `Stress_Level`, `Support_Systems_Access`, `Work_Environment_Impact`, and `Online_Support_Usage`. I then visualize these variables and convert them into numerical values to prepare the data for analysis."
      ],
      "metadata": {
        "id": "-E_GH-3BV01y"
      }
    },
    {
      "cell_type": "code",
      "source": [
        "# copy the data\n",
        "library(data.table)\n",
        "data <- copy(mydata_online)\n",
        "head(data,2)"
      ],
      "metadata": {
        "colab": {
          "base_uri": "https://localhost:8080/",
          "height": 181
        },
        "id": "1eomw2SmSbri",
        "outputId": "4d86dc2f-f00c-4a80-ccf6-2116e50e994e"
      },
      "execution_count": 107,
      "outputs": [
        {
          "output_type": "display_data",
          "data": {
            "text/html": [
              "<table class=\"dataframe\">\n",
              "<caption>A tibble: 2 × 15</caption>\n",
              "<thead>\n",
              "\t<tr><th scope=col>age</th><th scope=col>tech_hrs</th><th scope=col>social_hrs</th><th scope=col>game_hrs</th><th scope=col>screen_time_hrs</th><th scope=col>mental_health_sta</th><th scope=col>stress_level</th><th scope=col>sleep_hrs</th><th scope=col>activity_hrs</th><th scope=col>support_sys_access</th><th scope=col>work_env_impact</th><th scope=col>online_use</th><th scope=col>male</th><th scope=col>female</th><th scope=col>other</th></tr>\n",
              "\t<tr><th scope=col>&lt;dbl&gt;</th><th scope=col>&lt;dbl&gt;</th><th scope=col>&lt;dbl&gt;</th><th scope=col>&lt;dbl&gt;</th><th scope=col>&lt;dbl&gt;</th><th scope=col>&lt;dbl&gt;</th><th scope=col>&lt;dbl&gt;</th><th scope=col>&lt;dbl&gt;</th><th scope=col>&lt;dbl&gt;</th><th scope=col>&lt;dbl&gt;</th><th scope=col>&lt;dbl&gt;</th><th scope=col>&lt;dbl&gt;</th><th scope=col>&lt;dbl&gt;</th><th scope=col>&lt;dbl&gt;</th><th scope=col>&lt;dbl&gt;</th></tr>\n",
              "</thead>\n",
              "<tbody>\n",
              "\t<tr><td>23</td><td>6.57</td><td>6.00</td><td>0.68</td><td>12.36</td><td>1</td><td>0</td><td>8.01</td><td>6.71</td><td>0</td><td>0</td><td>1</td><td>0</td><td>1</td><td>0</td></tr>\n",
              "\t<tr><td>21</td><td>3.01</td><td>2.57</td><td>3.74</td><td> 7.61</td><td>0</td><td>2</td><td>7.28</td><td>5.88</td><td>1</td><td>2</td><td>0</td><td>1</td><td>0</td><td>0</td></tr>\n",
              "</tbody>\n",
              "</table>\n"
            ],
            "text/markdown": "\nA tibble: 2 × 15\n\n| age &lt;dbl&gt; | tech_hrs &lt;dbl&gt; | social_hrs &lt;dbl&gt; | game_hrs &lt;dbl&gt; | screen_time_hrs &lt;dbl&gt; | mental_health_sta &lt;dbl&gt; | stress_level &lt;dbl&gt; | sleep_hrs &lt;dbl&gt; | activity_hrs &lt;dbl&gt; | support_sys_access &lt;dbl&gt; | work_env_impact &lt;dbl&gt; | online_use &lt;dbl&gt; | male &lt;dbl&gt; | female &lt;dbl&gt; | other &lt;dbl&gt; |\n|---|---|---|---|---|---|---|---|---|---|---|---|---|---|---|\n| 23 | 6.57 | 6.00 | 0.68 | 12.36 | 1 | 0 | 8.01 | 6.71 | 0 | 0 | 1 | 0 | 1 | 0 |\n| 21 | 3.01 | 2.57 | 3.74 |  7.61 | 0 | 2 | 7.28 | 5.88 | 1 | 2 | 0 | 1 | 0 | 0 |\n\n",
            "text/latex": "A tibble: 2 × 15\n\\begin{tabular}{lllllllllllllll}\n age & tech\\_hrs & social\\_hrs & game\\_hrs & screen\\_time\\_hrs & mental\\_health\\_sta & stress\\_level & sleep\\_hrs & activity\\_hrs & support\\_sys\\_access & work\\_env\\_impact & online\\_use & male & female & other\\\\\n <dbl> & <dbl> & <dbl> & <dbl> & <dbl> & <dbl> & <dbl> & <dbl> & <dbl> & <dbl> & <dbl> & <dbl> & <dbl> & <dbl> & <dbl>\\\\\n\\hline\n\t 23 & 6.57 & 6.00 & 0.68 & 12.36 & 1 & 0 & 8.01 & 6.71 & 0 & 0 & 1 & 0 & 1 & 0\\\\\n\t 21 & 3.01 & 2.57 & 3.74 &  7.61 & 0 & 2 & 7.28 & 5.88 & 1 & 2 & 0 & 1 & 0 & 0\\\\\n\\end{tabular}\n",
            "text/plain": [
              "  age tech_hrs social_hrs game_hrs screen_time_hrs mental_health_sta\n",
              "1 23  6.57     6.00       0.68     12.36           1                \n",
              "2 21  3.01     2.57       3.74      7.61           0                \n",
              "  stress_level sleep_hrs activity_hrs support_sys_access work_env_impact\n",
              "1 0            8.01      6.71         0                  0              \n",
              "2 2            7.28      5.88         1                  2              \n",
              "  online_use male female other\n",
              "1 1          0    1      0    \n",
              "2 0          1    0      0    "
            ]
          },
          "metadata": {}
        }
      ]
    },
    {
      "cell_type": "markdown",
      "source": [
        "### **Numerical Variables**\n",
        "\n",
        " To gain insights into the numerical variables, I visualize them for better understanding."
      ],
      "metadata": {
        "id": "4_YG-9J5YslV"
      }
    },
    {
      "cell_type": "code",
      "source": [
        "## Histogram plotting\n",
        "# Set up a 2x2 plot layout\n",
        "par(mfrow = c(2, 2))\n",
        "\n",
        "# Plot histograms for each variable\n",
        "hist(mydata$tech_hrs, main = \"Technology Usage Hours\", xlab = \"Hours\", col = \"skyblue\", border = \"black\")\n",
        "hist(mydata$social_hrs, main = \"Social Media Usage Hours\", xlab = \"Hours\", col = \"lightgreen\", border = \"black\")\n",
        "hist(mydata$game_hrs, main = \"Gaming Hours\", xlab = \"Hours\", col = \"lightcoral\", border = \"black\")\n",
        "hist(mydata$screen_time_hrs, main = \"Screen Time Hours\", xlab = \"Hours\", col = \"lightpink\", border = \"black\")\n"
      ],
      "metadata": {
        "colab": {
          "base_uri": "https://localhost:8080/",
          "height": 437
        },
        "id": "sT1nOqRmRwrY",
        "outputId": "96d233d1-b310-4d72-961e-45b5e451fb3e"
      },
      "execution_count": 108,
      "outputs": [
        {
          "output_type": "display_data",
          "data": {
            "text/plain": [
              "Plot with title “Screen Time Hours”"
            ],
            "image/png": "[encoded data removed]"
          },
          "metadata": {
            "image/png": {
              "width": 420,
              "height": 420
            }
          }
        }
      ]
    },
    {
      "cell_type": "markdown",
      "source": [
        "#### **Boxplot for detecting outliers**"
      ],
      "metadata": {
        "id": "qK-m2SJdSGxS"
      }
    },
    {
      "cell_type": "code",
      "source": [
        "# Set up a 2x2 plot layout\n",
        "par(mfrow = c(2, 2))\n",
        "\n",
        "# Plot box plots for each variable to detect outliers\n",
        "boxplot(mydata$tech_hrs, main = \"Technology Usage Hours\", ylab = \"Hours\", col = \"skyblue\", border = \"black\")\n",
        "boxplot(mydata$social_hrs, main = \"Social Media Usage Hours\", ylab = \"Hours\", col = \"lightgreen\", border = \"black\")\n",
        "boxplot(mydata$game_hrs, main = \"Gaming Hours\", ylab = \"Hours\", col = \"lightcoral\", border = \"black\")\n",
        "boxplot(mydata$screen_time_hrs, main = \"Screen Time Hours\", ylab = \"Hours\", col = \"lightpink\", border = \"black\")\n"
      ],
      "metadata": {
        "colab": {
          "base_uri": "https://localhost:8080/",
          "height": 437
        },
        "id": "dMrGJxVrSF39",
        "outputId": "90beb9ec-bd1b-4951-e0a9-11ac0e6639d2"
      },
      "execution_count": 109,
      "outputs": [
        {
          "output_type": "display_data",
          "data": {
            "text/plain": [
              "Plot with title “Screen Time Hours”"
            ],
            "image/png": "[encoded data removed]"
          },
          "metadata": {
            "image/png": {
              "width": 420,
              "height": 420
            }
          }
        }
      ]
    },
    {
      "cell_type": "markdown",
      "source": [
        "Above four numerical variables contain no outliers."
      ],
      "metadata": {
        "id": "FEyYZJDZariX"
      }
    },
    {
      "cell_type": "code",
      "source": [
        "# summary statistics\n",
        "# Print a label, then the summary\n",
        "cat(\"Summary of the data:\\n\")\n",
        "summary(data)"
      ],
      "metadata": {
        "colab": {
          "base_uri": "https://localhost:8080/",
          "height": 520
        },
        "id": "XH-nC4DRTKl_",
        "outputId": "17d42c0f-9635-4fcc-db19-f28fe9e99eae"
      },
      "execution_count": 110,
      "outputs": [
        {
          "output_type": "stream",
          "name": "stdout",
          "text": [
            "Summary of the data:\n"
          ]
        },
        {
          "output_type": "display_data",
          "data": {
            "text/plain": [
              "      age           tech_hrs        social_hrs       game_hrs    \n",
              " Min.   :18.00   Min.   : 1.000   Min.   :0.000   Min.   :0.000  \n",
              " 1st Qu.:29.00   1st Qu.: 3.760   1st Qu.:1.980   1st Qu.:1.260  \n",
              " Median :42.00   Median : 6.425   Median :3.950   Median :2.520  \n",
              " Mean   :41.52   Mean   : 6.474   Mean   :3.972   Mean   :2.516  \n",
              " 3rd Qu.:54.00   3rd Qu.: 9.213   3rd Qu.:5.990   3rd Qu.:3.790  \n",
              " Max.   :65.00   Max.   :12.000   Max.   :8.000   Max.   :5.000  \n",
              " screen_time_hrs  mental_health_sta  stress_level      sleep_hrs    \n",
              " Min.   : 1.000   Min.   :0.000     Min.   :0.0000   Min.   :4.000  \n",
              " 1st Qu.: 4.520   1st Qu.:1.000     1st Qu.:0.0000   1st Qu.:5.260  \n",
              " Median : 7.900   Median :2.000     Median :1.0000   Median :6.500  \n",
              " Mean   : 7.976   Mean   :1.504     Mean   :0.9998   Mean   :6.501  \n",
              " 3rd Qu.:11.500   3rd Qu.:3.000     3rd Qu.:2.0000   3rd Qu.:7.760  \n",
              " Max.   :15.000   Max.   :3.000     Max.   :2.0000   Max.   :9.000  \n",
              "  activity_hrs    support_sys_access work_env_impact    online_use    \n",
              " Min.   : 0.000   Min.   :0.0000     Min.   :0.0000   Min.   :0.0000  \n",
              " 1st Qu.: 2.490   1st Qu.:0.0000     1st Qu.:0.0000   1st Qu.:0.0000  \n",
              " Median : 4.990   Median :0.0000     Median :1.0000   Median :0.0000  \n",
              " Mean   : 5.004   Mean   :0.4994     Mean   :0.9932   Mean   :0.4987  \n",
              " 3rd Qu.: 7.540   3rd Qu.:1.0000     3rd Qu.:2.0000   3rd Qu.:1.0000  \n",
              " Max.   :10.000   Max.   :1.0000     Max.   :2.0000   Max.   :1.0000  \n",
              "      male           female           other       \n",
              " Min.   :0.000   Min.   :0.0000   Min.   :0.0000  \n",
              " 1st Qu.:0.000   1st Qu.:0.0000   1st Qu.:0.0000  \n",
              " Median :0.000   Median :0.0000   Median :0.0000  \n",
              " Mean   :0.335   Mean   :0.3286   Mean   :0.3364  \n",
              " 3rd Qu.:1.000   3rd Qu.:1.0000   3rd Qu.:1.0000  \n",
              " Max.   :1.000   Max.   :1.0000   Max.   :1.0000  "
            ]
          },
          "metadata": {}
        }
      ]
    },
    {
      "cell_type": "markdown",
      "source": [
        "After data manipulation, I review the summary of the dataset to gain a better understanding of its structure and content."
      ],
      "metadata": {
        "id": "Tm20qADRa4dq"
      }
    },
    {
      "cell_type": "markdown",
      "source": [
        "### **Visualization**"
      ],
      "metadata": {
        "id": "36lU5S_0e3oG"
      }
    },
    {
      "cell_type": "markdown",
      "source": [
        "#### **Relationship between technology usage and mental health**"
      ],
      "metadata": {
        "id": "fLODdRmIuwHN"
      }
    },
    {
      "cell_type": "code",
      "source": [
        "# Density plot of tech usage by mental health status\n",
        "ggplot(data, aes(x = tech_hrs, fill = mental_health_sta)) +\n",
        "    geom_density(alpha = 0.6) +\n",
        "    labs(title = \"Technology Usage Distribution by Mental Health Status\", x = \"Technology Usage (hours)\", y = \"Density\")\n"
      ],
      "metadata": {
        "colab": {
          "base_uri": "https://localhost:8080/",
          "height": 541
        },
        "id": "5eOXBmd7eyq1",
        "outputId": "40635de1-7144-4ba4-f33c-f876e0a1793d"
      },
      "execution_count": 111,
      "outputs": [
        {
          "output_type": "stream",
          "name": "stderr",
          "text": [
            "Warning message:\n",
            "“\u001b[1m\u001b[22mThe following aesthetics were dropped during statistical transformation: \u001b[32mfill\u001b[39m.\n",
            "\u001b[36mℹ\u001b[39m This can happen when ggplot fails to infer the correct grouping structure in\n",
            "  the data.\n",
            "\u001b[36mℹ\u001b[39m Did you forget to specify a `group` aesthetic or to convert a numerical\n",
            "  variable into a factor?”\n"
          ]
        },
        {
          "output_type": "display_data",
          "data": {
            "text/plain": [
              "plot without title"
            ],
            "image/png": "[encoded data removed]"
          },
          "metadata": {
            "image/png": {
              "width": 420,
              "height": 420
            }
          }
        }
      ]
    },
    {
      "cell_type": "code",
      "source": [
        "# Pair Plot (Scatterplot Matrix)\n",
        "\n",
        "ggpairs(data[, c(\"tech_hrs\", \"social_hrs\", \"game_hrs\", \"screen_time_hrs\", \"stress_level\", \"sleep_hrs\")])\n"
      ],
      "metadata": {
        "colab": {
          "base_uri": "https://localhost:8080/",
          "height": 437
        },
        "id": "Pj1jhNqlf1lr",
        "outputId": "b4b2b80d-c15a-4026-fc4d-df484ecba674"
      },
      "execution_count": 112,
      "outputs": [
        {
          "output_type": "display_data",
          "data": {
            "text/plain": [
              "plot without title"
            ],
            "image/png": "[encoded data removed]"
          },
          "metadata": {
            "image/png": {
              "width": 420,
              "height": 420
            }
          }
        }
      ]
    },
    {
      "cell_type": "markdown",
      "source": [
        "#### **Identify Behavioral Patterns Influencing Wellness**"
      ],
      "metadata": {
        "id": "4RV31RqcP9Dz"
      }
    },
    {
      "cell_type": "code",
      "source": [
        "## Box plot\n",
        "ggplot(mydata, aes(x = as.factor(mental_health_sta), y = activity_hrs)) +\n",
        "  geom_boxplot() +\n",
        "  labs(title = \"Physical Activity Hours by Mental Health Status\", x = \"Mental Health Status\", y = \"Activity Hours\")\n"
      ],
      "metadata": {
        "colab": {
          "base_uri": "https://localhost:8080/",
          "height": 437
        },
        "id": "XGpPcnwzQA5w",
        "outputId": "9d4b6997-62f2-4adc-d985-e8d6f723bc0a"
      },
      "execution_count": 113,
      "outputs": [
        {
          "output_type": "display_data",
          "data": {
            "text/plain": [
              "plot without title"
            ],
            "image/png": "[encoded data removed]"
          },
          "metadata": {
            "image/png": {
              "width": 420,
              "height": 420
            }
          }
        }
      ]
    },
    {
      "cell_type": "markdown",
      "source": [
        "Use box plots to examine activity_hrs (physical activity hours) across mental_health_sta categories to see how physical activity relates to mental health status."
      ],
      "metadata": {
        "id": "xm-r6BaCQmbL"
      }
    },
    {
      "cell_type": "code",
      "source": [
        "## Scatter Plot with Faceting\n",
        "ggplot(mydata, aes(x = tech_hrs, y = stress_level)) +\n",
        "  geom_point() +\n",
        "  facet_wrap(~ work_env_impact) +\n",
        "  labs(title = \"Technology Usage vs. Stress Level by Work Environment Impact\")\n"
      ],
      "metadata": {
        "colab": {
          "base_uri": "https://localhost:8080/",
          "height": 437
        },
        "id": "HA0hFQ9qRklU",
        "outputId": "b2158da7-e6dc-479f-845a-7087b0b504f4"
      },
      "execution_count": 114,
      "outputs": [
        {
          "output_type": "display_data",
          "data": {
            "text/plain": [
              "plot without title"
            ],
            "image/png": "[encoded data removed]"
          },
          "metadata": {
            "image/png": {
              "width": 420,
              "height": 420
            }
          }
        }
      ]
    },
    {
      "cell_type": "markdown",
      "source": [
        "A scatter plot of `tech_Hrs` (technology usage hours) versus `stress_level`, faceted by `work_env_impact`."
      ],
      "metadata": {
        "id": "8imKh-r7SMtu"
      }
    },
    {
      "cell_type": "code",
      "source": [
        "## Heatmaps\n",
        "ggplot(mydata_stress, aes(x = work_env_impact, y = support_sys_access, fill = stress_level)) +\n",
        "  geom_tile() +\n",
        "  scale_fill_gradient(low = \"lightblue\", high = \"red\") +\n",
        "  labs(title = \"Stress Level by Work Environment and Support Access\")\n"
      ],
      "metadata": {
        "colab": {
          "base_uri": "https://localhost:8080/",
          "height": 437
        },
        "id": "tB5xCmrFQ_Ra",
        "outputId": "017c5644-9738-4d94-a5cc-c41e631b9a74"
      },
      "execution_count": 115,
      "outputs": [
        {
          "output_type": "display_data",
          "data": {
            "text/plain": [
              "plot without title"
            ],
            "image/png": "[encoded data removed]"
          },
          "metadata": {
            "image/png": {
              "width": 420,
              "height": 420
            }
          }
        }
      ]
    },
    {
      "cell_type": "markdown",
      "source": [
        "A heatmap to visualize the interaction between `work_env_impact` and `support_sys_access`, with color intensity representing average `stress_level`."
      ],
      "metadata": {
        "id": "z5C0-vmxSz6c"
      }
    },
    {
      "cell_type": "markdown",
      "source": [
        "## **Feature importance**\n",
        "\n",
        "The study analyzes the feature importance to identify the most correlated features, helping to understand which variables have the greatest impact on the target variable `mental_health_status`. By reviewing the feature importance, it can prioritize the most influential features, potentially reducing noise and improving the overall performance of the model."
      ],
      "metadata": {
        "id": "kvhCFbyUymCx"
      }
    },
    {
      "cell_type": "code",
      "source": [
        "## applying xgboost model for feature selection of the model\n",
        "\n",
        "# Prepare data\n",
        "data_matrix <- as.matrix(data[, -which(names(data) == \"mental_health_sta\")])\n",
        "label <- data$mental_health_sta\n",
        "\n",
        "# Fit the XGBoost model\n",
        "model <- xgboost(data = data_matrix, label = label, nrounds = 100, objective = \"reg:squarederror\")\n",
        "\n",
        "# Feature importance\n",
        "importance_matrix <- xgb.importance(model = model)\n",
        "print(importance_matrix)\n"
      ],
      "metadata": {
        "colab": {
          "base_uri": "https://localhost:8080/"
        },
        "id": "tGkIOpmYaeEC",
        "outputId": "35a11a33-87dc-40db-8cb9-cb52f3161cff"
      },
      "execution_count": 116,
      "outputs": [
        {
          "output_type": "stream",
          "name": "stdout",
          "text": [
            "[1]\ttrain-rmse:1.315206 \n",
            "[2]\ttrain-rmse:1.207942 \n",
            "[3]\ttrain-rmse:1.150247 \n",
            "[4]\ttrain-rmse:1.120438 \n",
            "[5]\ttrain-rmse:1.099638 \n",
            "[6]\ttrain-rmse:1.086065 \n",
            "[7]\ttrain-rmse:1.074585 \n",
            "[8]\ttrain-rmse:1.068310 \n",
            "[9]\ttrain-rmse:1.059518 \n",
            "[10]\ttrain-rmse:1.056899 \n",
            "[11]\ttrain-rmse:1.052171 \n",
            "[12]\ttrain-rmse:1.044469 \n",
            "[13]\ttrain-rmse:1.040176 \n",
            "[14]\ttrain-rmse:1.035340 \n",
            "[15]\ttrain-rmse:1.029527 \n",
            "[16]\ttrain-rmse:1.024242 \n",
            "[17]\ttrain-rmse:1.021078 \n",
            "[18]\ttrain-rmse:1.014461 \n",
            "[19]\ttrain-rmse:1.013399 \n",
            "[20]\ttrain-rmse:1.009144 \n",
            "[21]\ttrain-rmse:1.002049 \n",
            "[22]\ttrain-rmse:0.995998 \n",
            "[23]\ttrain-rmse:0.993618 \n",
            "[24]\ttrain-rmse:0.991472 \n",
            "[25]\ttrain-rmse:0.989997 \n",
            "[26]\ttrain-rmse:0.985230 \n",
            "[27]\ttrain-rmse:0.982235 \n",
            "[28]\ttrain-rmse:0.977020 \n",
            "[29]\ttrain-rmse:0.973202 \n",
            "[30]\ttrain-rmse:0.967453 \n",
            "[31]\ttrain-rmse:0.964427 \n",
            "[32]\ttrain-rmse:0.959683 \n",
            "[33]\ttrain-rmse:0.956004 \n",
            "[34]\ttrain-rmse:0.949037 \n",
            "[35]\ttrain-rmse:0.946509 \n",
            "[36]\ttrain-rmse:0.941151 \n",
            "[37]\ttrain-rmse:0.935479 \n",
            "[38]\ttrain-rmse:0.930092 \n",
            "[39]\ttrain-rmse:0.928842 \n",
            "[40]\ttrain-rmse:0.927713 \n",
            "[41]\ttrain-rmse:0.922211 \n",
            "[42]\ttrain-rmse:0.917279 \n",
            "[43]\ttrain-rmse:0.914830 \n",
            "[44]\ttrain-rmse:0.910744 \n",
            "[45]\ttrain-rmse:0.905380 \n",
            "[46]\ttrain-rmse:0.902172 \n",
            "[47]\ttrain-rmse:0.899282 \n",
            "[48]\ttrain-rmse:0.895341 \n",
            "[49]\ttrain-rmse:0.892868 \n",
            "[50]\ttrain-rmse:0.889598 \n",
            "[51]\ttrain-rmse:0.884697 \n",
            "[52]\ttrain-rmse:0.882638 \n",
            "[53]\ttrain-rmse:0.879701 \n",
            "[54]\ttrain-rmse:0.876394 \n",
            "[55]\ttrain-rmse:0.871089 \n",
            "[56]\ttrain-rmse:0.865636 \n",
            "[57]\ttrain-rmse:0.861321 \n",
            "[58]\ttrain-rmse:0.857092 \n",
            "[59]\ttrain-rmse:0.852169 \n",
            "[60]\ttrain-rmse:0.847244 \n",
            "[61]\ttrain-rmse:0.841999 \n",
            "[62]\ttrain-rmse:0.838756 \n",
            "[63]\ttrain-rmse:0.835394 \n",
            "[64]\ttrain-rmse:0.832315 \n",
            "[65]\ttrain-rmse:0.828565 \n",
            "[66]\ttrain-rmse:0.822383 \n",
            "[67]\ttrain-rmse:0.820646 \n",
            "[68]\ttrain-rmse:0.818520 \n",
            "[69]\ttrain-rmse:0.816197 \n",
            "[70]\ttrain-rmse:0.812995 \n",
            "[71]\ttrain-rmse:0.808342 \n",
            "[72]\ttrain-rmse:0.806059 \n",
            "[73]\ttrain-rmse:0.802274 \n",
            "[74]\ttrain-rmse:0.798697 \n",
            "[75]\ttrain-rmse:0.796218 \n",
            "[76]\ttrain-rmse:0.792076 \n",
            "[77]\ttrain-rmse:0.789400 \n",
            "[78]\ttrain-rmse:0.785828 \n",
            "[79]\ttrain-rmse:0.785203 \n",
            "[80]\ttrain-rmse:0.783365 \n",
            "[81]\ttrain-rmse:0.779729 \n",
            "[82]\ttrain-rmse:0.774423 \n",
            "[83]\ttrain-rmse:0.770359 \n",
            "[84]\ttrain-rmse:0.766661 \n",
            "[85]\ttrain-rmse:0.763238 \n",
            "[86]\ttrain-rmse:0.759496 \n",
            "[87]\ttrain-rmse:0.757231 \n",
            "[88]\ttrain-rmse:0.755212 \n",
            "[89]\ttrain-rmse:0.753445 \n",
            "[90]\ttrain-rmse:0.748320 \n",
            "[91]\ttrain-rmse:0.744162 \n",
            "[92]\ttrain-rmse:0.739132 \n",
            "[93]\ttrain-rmse:0.737481 \n",
            "[94]\ttrain-rmse:0.735353 \n",
            "[95]\ttrain-rmse:0.732637 \n",
            "[96]\ttrain-rmse:0.727513 \n",
            "[97]\ttrain-rmse:0.724342 \n",
            "[98]\ttrain-rmse:0.723076 \n",
            "[99]\ttrain-rmse:0.720544 \n",
            "[100]\ttrain-rmse:0.718396 \n",
            "               Feature        Gain       Cover   Frequency\n",
            "                <char>       <num>       <num>       <num>\n",
            " 1:         social_hrs 0.145517725 0.136737321 0.144912850\n",
            " 2:    screen_time_hrs 0.139122726 0.171614450 0.124847994\n",
            " 3:           tech_hrs 0.137436444 0.164920629 0.142886096\n",
            " 4:           game_hrs 0.133947396 0.136968740 0.125050669\n",
            " 5:          sleep_hrs 0.129840180 0.145890223 0.118565059\n",
            " 6:       activity_hrs 0.126531288 0.167780525 0.115119578\n",
            " 7:                age 0.101324632 0.048039021 0.138224564\n",
            " 8:       stress_level 0.022866682 0.007949288 0.023307661\n",
            " 9:    work_env_impact 0.015728861 0.005716625 0.017024726\n",
            "10:               male 0.013051920 0.002029087 0.012565869\n",
            "11:             female 0.010068793 0.002020251 0.009525740\n",
            "12:         online_use 0.008593635 0.001447038 0.009323064\n",
            "13: support_sys_access 0.008019547 0.005862512 0.009120389\n",
            "14:              other 0.007950170 0.003024291 0.009525740\n"
          ]
        }
      ]
    },
    {
      "cell_type": "code",
      "source": [
        "# Visualize the feature importance\n",
        "xgb.plot.importance(importance_matrix)"
      ],
      "metadata": {
        "colab": {
          "base_uri": "https://localhost:8080/",
          "height": 437
        },
        "id": "o6Vf32avcLes",
        "outputId": "a64281bb-4a7f-4019-9d11-9510da522fe6"
      },
      "execution_count": 117,
      "outputs": [
        {
          "output_type": "display_data",
          "data": {
            "text/plain": [
              "plot without title"
            ],
            "image/png": "[encoded data removed]"
          },
          "metadata": {
            "image/png": {
              "width": 420,
              "height": 420
            }
          }
        }
      ]
    },
    {
      "cell_type": "markdown",
      "source": [
        "Based on the feature importance visualization, the study identifies the following key features as significant predictors of mental health outcomes:\n",
        "\n",
        "- **Technology Usage Hours** (`tech_hrs`)  \n",
        "- **Social Media Usage Hours** (`social_hrs`)  \n",
        "- **Gaming Hours** (`game_hrs`)  \n",
        "- **Screen Time Hours** (`screen_time_hrs`)  \n",
        "- **Stress Level** (`stress_level`)  \n",
        "- **Sleep Duration** (`sleep_hrs`)  \n",
        "- **Physical Activity Hours** (`activity_hrs`)  \n",
        "- **Age** (`age`)"
      ],
      "metadata": {
        "id": "u42VX9A4xQBa"
      }
    },
    {
      "cell_type": "code",
      "source": [
        "# value count of the target variable\n",
        "table(data$mental_health_sta)"
      ],
      "metadata": {
        "colab": {
          "base_uri": "https://localhost:8080/",
          "height": 69
        },
        "id": "mJ5FDow9AmLR",
        "outputId": "d5d4effd-54fb-495b-83cb-b64faa069c2c"
      },
      "execution_count": 118,
      "outputs": [
        {
          "output_type": "display_data",
          "data": {
            "text/plain": [
              "\n",
              "   0    1    2    3 \n",
              "2484 2508 2490 2518 "
            ]
          },
          "metadata": {}
        }
      ]
    },
    {
      "cell_type": "markdown",
      "source": [
        "## **Classification tasks**\n",
        "\n",
        "\n",
        "In the study, as the target variable 'mental_health_sta' is categorical variable such as poor(0), Good(1), Fair(2) and Excellent(3), it is needed to apply the classifiers. It is checked that these four categories of mental_health_sta (mental health status) are balanced."
      ],
      "metadata": {
        "id": "_FVLsKkV9yF_"
      }
    },
    {
      "cell_type": "markdown",
      "source": [
        "### **Define target and features**"
      ],
      "metadata": {
        "id": "s7Sc-Jdz85D0"
      }
    },
    {
      "cell_type": "code",
      "source": [
        "# Define target and features\n",
        "target <- \"mental_health_sta\"\n",
        "features <- c(\"tech_hrs\", \"social_hrs\", \"game_hrs\",\n",
        "              \"screen_time_hrs\", \"stress_level\",\n",
        "              \"sleep_hrs\", \"activity_hrs\", \"age\")"
      ],
      "metadata": {
        "id": "s82zrVci9AIw"
      },
      "execution_count": 119,
      "outputs": []
    },
    {
      "cell_type": "markdown",
      "source": [
        "### **Train test split**"
      ],
      "metadata": {
        "id": "J_7nO0oY9Xd4"
      }
    },
    {
      "cell_type": "code",
      "source": [
        "# Prepare data\n",
        "set.seed(123)  # For reproducibility\n",
        "trainIndex <- createDataPartition(data[[target]], p = 0.8, list = FALSE)\n",
        "trainData <- data[trainIndex, ]\n",
        "testData <- data[-trainIndex, ]\n",
        "\n",
        "# Convert target variable to factor for classification\n",
        "trainData[[target]] <- as.factor(trainData[[target]])\n",
        "testData[[target]] <- as.factor(testData[[target]])"
      ],
      "metadata": {
        "id": "ZGzEM33v9a6j"
      },
      "execution_count": 120,
      "outputs": []
    },
    {
      "cell_type": "markdown",
      "source": [
        "### **Classifiers**\n",
        "\n",
        "The four classifiers are used in the study, described below-\n",
        "\n",
        "- **Random Forest**: A robust ensemble learning method that combines multiple decision trees to improve accuracy and control overfitting.\n",
        "- **XGBoost**: An efficient and scalable gradient boosting algorithm known for its performance in classification and regression tasks.\n",
        "- **Multinomial Regression**: A type of logistic regression used for predicting outcomes with more than two categories by modeling probabilities of each class.\n",
        "- **SVM (Support Vector Machine)**: A supervised learning algorithm that finds the optimal hyperplane to separate classes in a high-dimensional space.\n"
      ],
      "metadata": {
        "id": "uUv5W_eL-YIv"
      }
    },
    {
      "cell_type": "code",
      "source": [
        "# Initialize results dataframe\n",
        "results <- data.frame(Model = character(), Accuracy = numeric(), F1_Macro = numeric(), stringsAsFactors = FALSE)\n",
        "\n",
        "### 1. Random Forest\n",
        "rf_model <- randomForest(as.formula(paste(target, \"~\", paste(features, collapse = \"+\"))),\n",
        "                         data = trainData, importance = TRUE)\n",
        "rf_preds <- predict(rf_model, testData)\n",
        "rf_accuracy <- Accuracy(rf_preds, testData[[target]])\n",
        "rf_f1 <- F1_Score(y_pred = rf_preds, y_true = testData[[target]], positive = NULL)\n",
        "\n",
        "# Append results\n",
        "results <- rbind(results, data.frame(Model = \"Random Forest\", Accuracy = rf_accuracy, F1_Macro = rf_f1))\n",
        "\n",
        "### 2. XGBoost\n",
        "train_matrix <- xgb.DMatrix(data = as.matrix(trainData[features]),\n",
        "                            label = as.numeric(trainData[[target]]) - 1)\n",
        "test_matrix <- xgb.DMatrix(data = as.matrix(testData[features]),\n",
        "                           label = as.numeric(testData[[target]]) - 1)\n",
        "xgb_model <- xgboost(data = train_matrix,\n",
        "                     max_depth = 6,\n",
        "                     eta = 0.1,\n",
        "                     nrounds = 100,\n",
        "                     objective = \"multi:softmax\",\n",
        "                     num_class = 4,\n",
        "                     verbose = 0)\n",
        "xgb_preds <- predict(xgb_model, test_matrix)\n",
        "xgb_preds <- factor(xgb_preds, levels = 0:3)  # Convert back to factor\n",
        "xgb_accuracy <- Accuracy(xgb_preds, testData[[target]])\n",
        "xgb_f1 <- F1_Score(y_pred = xgb_preds, y_true = testData[[target]], positive = NULL)\n",
        "\n",
        "# Append results\n",
        "results <- rbind(results, data.frame(Model = \"XGBoost\", Accuracy = xgb_accuracy, F1_Macro = xgb_f1))\n",
        "\n",
        "### 3. SVM\n",
        "svm_model <- svm(as.formula(paste(target, \"~\", paste(features, collapse = \"+\"))),\n",
        "                 data = trainData,\n",
        "                 kernel = \"radial\",\n",
        "                 probability = TRUE)\n",
        "svm_preds <- predict(svm_model, testData)\n",
        "svm_accuracy <- Accuracy(svm_preds, testData[[target]])\n",
        "svm_f1 <- F1_Score(y_pred = svm_preds, y_true = testData[[target]], positive = NULL)\n",
        "\n",
        "# Append results\n",
        "results <- rbind(results, data.frame(Model = \"SVM\", Accuracy = svm_accuracy, F1_Macro = svm_f1))\n",
        "\n",
        "### 4. Multinomial Logistic Regression\n",
        "mlog_model <- multinom(as.formula(paste(target, \"~\", paste(features, collapse = \"+\"))),\n",
        "                       data = trainData)\n",
        "mlog_preds <- predict(mlog_model, testData)\n",
        "mlog_accuracy <- Accuracy(mlog_preds, testData[[target]])\n",
        "mlog_f1 <- F1_Score(y_pred = mlog_preds, y_true = testData[[target]], positive = NULL)\n",
        "\n",
        "# Append results\n",
        "results <- rbind(results, data.frame(Model = \"Multinomial Logistic Regression\", Accuracy = mlog_accuracy, F1_Macro = mlog_f1))\n",
        "\n"
      ],
      "metadata": {
        "colab": {
          "base_uri": "https://localhost:8080/"
        },
        "id": "DIcCnai36u0-",
        "outputId": "4b70c52a-6a70-4b8a-da18-68d3cf5f16a6"
      },
      "execution_count": 121,
      "outputs": [
        {
          "output_type": "stream",
          "name": "stdout",
          "text": [
            "# weights:  40 (27 variable)\n",
            "initial  value 11091.741183 \n",
            "iter  10 value 11082.939663\n",
            "iter  20 value 11082.769926\n",
            "iter  30 value 11081.719969\n",
            "final  value 11081.707774 \n",
            "converged\n"
          ]
        }
      ]
    },
    {
      "cell_type": "markdown",
      "source": [
        "#### **Results**"
      ],
      "metadata": {
        "id": "YzSqTjA6-yqP"
      }
    },
    {
      "cell_type": "code",
      "source": [
        "# Display Results\n",
        "print(\"Model Comparison:\")\n",
        "print(results)"
      ],
      "metadata": {
        "colab": {
          "base_uri": "https://localhost:8080/"
        },
        "id": "9iGq6sFv-xLU",
        "outputId": "9bf68879-7ea7-4b4b-f970-413f086bfe97"
      },
      "execution_count": 122,
      "outputs": [
        {
          "output_type": "stream",
          "name": "stdout",
          "text": [
            "[1] \"Model Comparison:\"\n",
            "                            Model  Accuracy  F1_Macro\n",
            "1                   Random Forest 0.2571286 0.2321244\n",
            "2                         XGBoost 0.2541271 0.2564103\n",
            "3                             SVM 0.2331166 0.2078473\n",
            "4 Multinomial Logistic Regression 0.2471236 0.1987578\n"
          ]
        }
      ]
    },
    {
      "cell_type": "markdown",
      "source": [
        "The results show that **Random Forest** achieved the highest accuracy (0.2571) and F1-Macro score (0.2321), indicating it is the most effective model for this dataset among the four tested. XGBoost followed closely, with an accuracy of 0.2541 and a slightly lower F1-Macro score (0.2564). Both SVM and Multinomial Logistic Regression had relatively lower performance, with SVM performing the worst in terms of both accuracy."
      ],
      "metadata": {
        "id": "Ju9d5Kc_BrKj"
      }
    },
    {
      "cell_type": "markdown",
      "source": [
        "#### **Confusion matrices**\n",
        "\n",
        "In the confusion matrix,\n",
        "- Rows represent the predicted classes- poor mental health status (0), good mental health status (1), fair mental health status (2), excellent mental health status (3).\n",
        "\n",
        "- Columns represent the actual (reference) classes.\n",
        "\n",
        "- The diagonal entries (e.g., 112 for class 0) show correctly classified instances for each class, while off-diagonal values indicate misclassifications.\n",
        "\n"
      ],
      "metadata": {
        "id": "x9J2YdTS-mky"
      }
    },
    {
      "cell_type": "markdown",
      "source": [
        "**Components of Confusion Matrix**\n",
        "\n",
        "The components of confusion matrix are explained below-\n",
        "\n",
        "1. **Overall statistics**\n",
        "\n",
        "(a) **Accuracy:**  The proportion of correct predictions among the total predictions.  \n",
        "\n",
        "   $$ \\text{Accuracy} = \\frac{\\text{TP} + \\text{TN}}{\\text{Total}} $$\n",
        "\n",
        "(b) **95% Confidence Interval (CI):**  The range within which the true accuracy is likely to fall, with 95% certainty.\n",
        "\n",
        "(c) **No Information Rate (NIR):**  The accuracy that would be achieved by always predicting the most frequent class.\n",
        "\n",
        "(d) **Kappa:**  A measure of agreement between predictions and actual labels, adjusted for chance. Values close to 0 indicate random performance.\n",
        "\n",
        "(e) **McNemar's Test P-Value:**  A statistical test that determines if the prediction errors are significantly different from random errors.\n",
        "\n",
        "**2. Statistics by class:**\n",
        "\n",
        "(a) **Sensitivity (Recall):**  The ability of the model to correctly identify positive instances of a class.  \n",
        "   \n",
        "   $$ \\text{Sensitivity} = \\frac{\\text{TP}}{\\text{TP} + \\text{FN}} $$\n",
        "\n",
        "(b) **Specificity:**  The ability of the model to correctly identify negative instances of a class.  \n",
        "\n",
        "   $$ \\text{Specificity} = \\frac{\\text{TN}}{\\text{TN} + \\text{FP}} $$\n",
        "\n",
        "(c) **Pos Pred Value (Precision):**  The proportion of correctly predicted instances for a class out of all predictions made for that class.  \n",
        "\n",
        "   $$ \\text{Precision} = \\frac{\\text{TP}}{\\text{TP} + \\text{FP}} $$\n",
        "\n",
        "(d) **Neg Pred Value:**  The proportion of true negatives among all instances predicted as negatives.  \n",
        "\n",
        "   $$ \\text{Neg Pred Value} = \\frac{\\text{TN}}{\\text{TN} + \\text{FN}} $$\n",
        "\n",
        "(e) **Prevalence:**  The proportion of instances belonging to a specific class in the dataset.\n",
        "\n",
        "(f) **Detection Rate:**  The proportion of true positives for a class relative to the total number of instances.\n",
        "\n",
        "(g) **Detection Prevalence:**  The proportion of predictions made for a specific class out of all predictions.\n",
        "\n",
        "(h) **Balanced Accuracy:**  The average of sensitivity and specificity for a class.  \n",
        "      \n",
        "$$ \\text{Balanced Accuracy} = \\frac{\\text{Sensitivity} + \\text{Specificity}}{2} $$\n"
      ],
      "metadata": {
        "id": "PHRf0tbGGj27"
      }
    },
    {
      "cell_type": "markdown",
      "source": [
        "**Confusion Matrix for Random Forest**"
      ],
      "metadata": {
        "id": "4pR8U012AJSt"
      }
    },
    {
      "cell_type": "code",
      "source": [
        "# Confusion Matrix for Random Forest\n",
        "cat(\"\\nConfusion Matrix - Random Forest\\n\")\n",
        "print(confusionMatrix(rf_preds, testData[[target]]))"
      ],
      "metadata": {
        "colab": {
          "base_uri": "https://localhost:8080/"
        },
        "id": "LZLNWlU2__fN",
        "outputId": "e46789ae-b547-4bf5-d6a6-158004d82e66"
      },
      "execution_count": 123,
      "outputs": [
        {
          "output_type": "stream",
          "name": "stdout",
          "text": [
            "\n",
            "Confusion Matrix - Random Forest\n",
            "Confusion Matrix and Statistics\n",
            "\n",
            "          Reference\n",
            "Prediction   0   1   2   3\n",
            "         0 112 118 106 125\n",
            "         1 117 132 114 121\n",
            "         2 138 109 137 124\n",
            "         3 137 135 141 133\n",
            "\n",
            "Overall Statistics\n",
            "                                          \n",
            "               Accuracy : 0.2571          \n",
            "                 95% CI : (0.2381, 0.2769)\n",
            "    No Information Rate : 0.2521          \n",
            "    P-Value [Acc > NIR] : 0.3112          \n",
            "                                          \n",
            "                  Kappa : 0.0095          \n",
            "                                          \n",
            " Mcnemar's Test P-Value : 0.3476          \n",
            "\n",
            "Statistics by Class:\n",
            "\n",
            "                     Class: 0 Class: 1 Class: 2 Class: 3\n",
            "Sensitivity           0.22222  0.26721  0.27510  0.26441\n",
            "Specificity           0.76656  0.76611  0.75283  0.72393\n",
            "Pos Pred Value        0.24295  0.27273  0.26969  0.24359\n",
            "Neg Pred Value        0.74512  0.76106  0.75788  0.74535\n",
            "Prevalence            0.25213  0.24712  0.24912  0.25163\n",
            "Detection Rate        0.05603  0.06603  0.06853  0.06653\n",
            "Detection Prevalence  0.23062  0.24212  0.25413  0.27314\n",
            "Balanced Accuracy     0.49439  0.51666  0.51397  0.49417\n"
          ]
        }
      ]
    },
    {
      "cell_type": "markdown",
      "source": [
        "The confusion matrix and statistics for the **Random Forest** model show that its overall accuracy is 0.2571, with a 95% confidence interval of (0.2381, 0.2769), indicating moderate performance. The model's **Kappa** value of 0.0095 suggests poor agreement between the predicted and actual classes. Class-level metrics indicate that **Sensitivity** (the ability to correctly identify positive cases) ranges from 0.22 to 0.28, and **Specificity** (the ability to correctly identify negative cases) is generally higher, ranging from 0.72 to 0.77, indicating a bias toward predicting negative outcomes."
      ],
      "metadata": {
        "id": "KhhvWkLQCwGv"
      }
    },
    {
      "cell_type": "markdown",
      "source": [
        "**Confusion Matrix for XGBoost**"
      ],
      "metadata": {
        "id": "cE8oZ8uYAvKX"
      }
    },
    {
      "cell_type": "code",
      "source": [
        "# Confusion Matrix for XGBoost\n",
        "cat(\"\\nConfusion Matrix - XGBoost\\n\")\n",
        "print(confusionMatrix(xgb_preds, testData[[target]]))\n"
      ],
      "metadata": {
        "colab": {
          "base_uri": "https://localhost:8080/"
        },
        "id": "jTQZYieb-l7F",
        "outputId": "73141ef1-ef72-4e12-cfbf-1a35d74d3a88"
      },
      "execution_count": 124,
      "outputs": [
        {
          "output_type": "stream",
          "name": "stdout",
          "text": [
            "\n",
            "Confusion Matrix - XGBoost\n",
            "Confusion Matrix and Statistics\n",
            "\n",
            "          Reference\n",
            "Prediction   0   1   2   3\n",
            "         0 125 123  90 133\n",
            "         1 125 118 124 122\n",
            "         2 128 107 127 110\n",
            "         3 126 146 157 138\n",
            "\n",
            "Overall Statistics\n",
            "                                          \n",
            "               Accuracy : 0.2541          \n",
            "                 95% CI : (0.2352, 0.2738)\n",
            "    No Information Rate : 0.2521          \n",
            "    P-Value [Acc > NIR] : 0.426856        \n",
            "                                          \n",
            "                  Kappa : 0.0054          \n",
            "                                          \n",
            " Mcnemar's Test P-Value : 0.005091        \n",
            "\n",
            "Statistics by Class:\n",
            "\n",
            "                     Class: 0 Class: 1 Class: 2 Class: 3\n",
            "Sensitivity           0.24802  0.23887  0.25502  0.27435\n",
            "Specificity           0.76856  0.75349  0.77015  0.71324\n",
            "Pos Pred Value        0.26539  0.24131  0.26907  0.24339\n",
            "Neg Pred Value        0.75196  0.75099  0.75704  0.74511\n",
            "Prevalence            0.25213  0.24712  0.24912  0.25163\n",
            "Detection Rate        0.06253  0.05903  0.06353  0.06903\n",
            "Detection Prevalence  0.23562  0.24462  0.23612  0.28364\n",
            "Balanced Accuracy     0.50829  0.49618  0.51259  0.49379\n"
          ]
        }
      ]
    },
    {
      "cell_type": "markdown",
      "source": [
        "The confusion matrix and statistics for the **XGBoost** model show an overall accuracy of 0.2541, with a 95% confidence interval of (0.2352, 0.2738), which is slightly better than Random Forest. The **Kappa** value of 0.0054 suggests very little agreement between predicted and actual classes. Class-level metrics show that **Sensitivity** (ability to correctly identify positive cases) ranges from 0.24 to 0.27, and **Specificity** (ability to correctly identify negative cases) ranges from 0.71 to 0.77. The model performs better at detecting class 3, with higher sensitivity and detection rate. The **Mcnemar's test p-value** of 0.0051 indicates some significant differences between the predicted and actual class distributions."
      ],
      "metadata": {
        "id": "eQXjQCOlK6mx"
      }
    },
    {
      "cell_type": "markdown",
      "source": [
        "**Confusion Matrix for SVM**"
      ],
      "metadata": {
        "id": "mUGrvIQFAzoh"
      }
    },
    {
      "cell_type": "code",
      "source": [
        "# Confusion Matrix for SVM\n",
        "cat(\"\\nConfusion Matrix - SVM\\n\")\n",
        "print(confusionMatrix(svm_preds, testData[[target]]))"
      ],
      "metadata": {
        "colab": {
          "base_uri": "https://localhost:8080/"
        },
        "id": "qClGnKU1AdZa",
        "outputId": "25a3e1dc-9c0c-40d0-adf2-daa01618ea8d"
      },
      "execution_count": 125,
      "outputs": [
        {
          "output_type": "stream",
          "name": "stdout",
          "text": [
            "\n",
            "Confusion Matrix - SVM\n",
            "Confusion Matrix and Statistics\n",
            "\n",
            "          Reference\n",
            "Prediction   0   1   2   3\n",
            "         0  98 110 104 127\n",
            "         1 124 114 125 120\n",
            "         2 132 116 131 133\n",
            "         3 150 154 138 123\n",
            "\n",
            "Overall Statistics\n",
            "                                          \n",
            "               Accuracy : 0.2331          \n",
            "                 95% CI : (0.2147, 0.2523)\n",
            "    No Information Rate : 0.2521          \n",
            "    P-Value [Acc > NIR] : 0.97704         \n",
            "                                          \n",
            "                  Kappa : -0.0225         \n",
            "                                          \n",
            " Mcnemar's Test P-Value : 0.09754         \n",
            "\n",
            "Statistics by Class:\n",
            "\n",
            "                     Class: 0 Class: 1 Class: 2 Class: 3\n",
            "Sensitivity           0.19444  0.23077  0.26305  0.24453\n",
            "Specificity           0.77191  0.75482  0.74617  0.70455\n",
            "Pos Pred Value        0.22323  0.23602  0.25586  0.21770\n",
            "Neg Pred Value        0.73974  0.74934  0.75319  0.73501\n",
            "Prevalence            0.25213  0.24712  0.24912  0.25163\n",
            "Detection Rate        0.04902  0.05703  0.06553  0.06153\n",
            "Detection Prevalence  0.21961  0.24162  0.25613  0.28264\n",
            "Balanced Accuracy     0.48318  0.49279  0.50461  0.47454\n"
          ]
        }
      ]
    },
    {
      "cell_type": "markdown",
      "source": [
        "The confusion matrix and statistics for the **SVM** model show an overall accuracy of 0.2331, which is lower than both Random Forest and XGBoost, with a 95% confidence interval of (0.2147, 0.2523). The **Kappa** value of -0.0225 indicates poor agreement between predicted and actual classes. Sensitivity values range from 0.19 to 0.26, suggesting the model struggles to correctly identify classes. The **Specificity** values (ranging from 0.70 to 0.77) indicate better performance in identifying negative cases. The **Mcnemar's test p-value** of 0.09754 indicates no significant differences between predicted and actual class distributions, suggesting that the model might not have a significant impact compared to random guessing."
      ],
      "metadata": {
        "id": "07k-rJ05LS0O"
      }
    },
    {
      "cell_type": "markdown",
      "source": [
        "**Confusion Matrix for Logistic Regression**"
      ],
      "metadata": {
        "id": "WU77ystBA1_a"
      }
    },
    {
      "cell_type": "code",
      "source": [
        "# Confusion Matrix for Logistic Regression\n",
        "cat(\"\\nConfusion Matrix - Multinomial Logistic Regression\\n\")\n",
        "print(confusionMatrix(mlog_preds, testData[[target]]))"
      ],
      "metadata": {
        "colab": {
          "base_uri": "https://localhost:8080/"
        },
        "id": "JwqMVgV6Afk4",
        "outputId": "42e295e7-c283-47ec-9f3e-82c7d96ef586"
      },
      "execution_count": 126,
      "outputs": [
        {
          "output_type": "stream",
          "name": "stdout",
          "text": [
            "\n",
            "Confusion Matrix - Multinomial Logistic Regression\n",
            "Confusion Matrix and Statistics\n",
            "\n",
            "          Reference\n",
            "Prediction   0   1   2   3\n",
            "         0  80  80  59  82\n",
            "         1 150 151 159 160\n",
            "         2 127 119 122 120\n",
            "         3 147 144 158 141\n",
            "\n",
            "Overall Statistics\n",
            "                                          \n",
            "               Accuracy : 0.2471          \n",
            "                 95% CI : (0.2283, 0.2666)\n",
            "    No Information Rate : 0.2521          \n",
            "    P-Value [Acc > NIR] : 0.7046          \n",
            "                                          \n",
            "                  Kappa : -0.0034         \n",
            "                                          \n",
            " Mcnemar's Test P-Value : 1.97e-14        \n",
            "\n",
            "Statistics by Class:\n",
            "\n",
            "                     Class: 0 Class: 1 Class: 2 Class: 3\n",
            "Sensitivity           0.15873  0.30567  0.24498  0.28032\n",
            "Specificity           0.85217  0.68837  0.75616  0.69987\n",
            "Pos Pred Value        0.26578  0.24355  0.25000  0.23898\n",
            "Neg Pred Value        0.75029  0.75127  0.75116  0.74308\n",
            "Prevalence            0.25213  0.24712  0.24912  0.25163\n",
            "Detection Rate        0.04002  0.07554  0.06103  0.07054\n",
            "Detection Prevalence  0.15058  0.31016  0.24412  0.29515\n",
            "Balanced Accuracy     0.50545  0.49702  0.50057  0.49009\n"
          ]
        }
      ]
    },
    {
      "cell_type": "markdown",
      "source": [
        "The confusion matrix for the **Multinomial Logistic Regression** model shows an overall accuracy of 0.2471, which is similar to the Random Forest and XGBoost models. The **Kappa** value of -0.0034 indicates poor agreement between predicted and actual classes. **Sensitivity** ranges from 0.16 to 0.31, suggesting that the model performs poorly in detecting certain classes, particularly Class 0, with the highest sensitivity being for Class 1 (0.30567). The **Specificity** values indicate that the model is better at identifying negative cases for Class 0 (0.85217) compared to others. The **Mcnemar's test p-value** of 1.97e-14 suggests significant differences between predicted and actual distributions, indicating that the model's predictions differ considerably from the actual labels."
      ],
      "metadata": {
        "id": "0Ox1vttVL21b"
      }
    },
    {
      "cell_type": "markdown",
      "source": [
        "## **Summary of the Study**\n",
        "\n",
        "This study evaluates the performance of four classification models—Random Forest, XGBoost, SVM, and Multinomial Logistic Regression—in predicting mental health status based on various features such as daily time spent on social media (`social_hrs`), screen time (`screen_time_hrs`), technology usage (`tech_hrs`), and gaming hours (`game_hrs`), among others.\n",
        "\n",
        "Among the models, Random Forest achieved the highest accuracy at 25.71%, followed by XGBoost Regression at 25.41%. However, sensitivity values across all models were relatively low, indicating challenges in accurately predicting minority classes. The Kappa values were also low, reflecting a weak agreement between predicted and actual labels. Additionally, low detection rates and McNemar’s Test P-values suggest that there is significant room for improvement in model performance."
      ],
      "metadata": {
        "id": "4o67iF8pxEXW"
      }
    },
    {
      "cell_type": "markdown",
      "source": [
        "## **LImitation of study**\n",
        "The main limitation of this study is the use of synthetic data from Kaggle, which may not accurately represent real-world scenarios and can lead to suboptimal model performance. The datasets may contain biases or patterns that do not generalize well to actual data, resulting in lower accuracy and sensitivity in the models. Additionally, the data may lack the complexity and variability found in real-world datasets, which can limit the model’s ability to capture important patterns and relationships. The results of this study should therefore be viewed with caution, and further work is needed to evaluate these models on real-world datasets to assess their true performance and robustness."
      ],
      "metadata": {
        "id": "ZMZRZ6fw_JRd"
      }
    }
  ]
}