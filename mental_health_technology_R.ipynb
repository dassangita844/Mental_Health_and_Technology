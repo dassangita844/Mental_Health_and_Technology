{
  "nbformat": 4,
  "nbformat_minor": 0,
  "metadata": {
    "colab": {
      "provenance": [],
      "toc_visible": true
    },
    "kernelspec": {
      "name": "ir",
      "display_name": "R"
    },
    "language_info": {
      "name": "R"
    }
  },
  "cells": [
    {
      "cell_type": "markdown",
      "source": [
        "# **Digital technology and Mental health**\n",
        "\n",
        "*Sangita Das*\n",
        "\n",
        "### **Introduction**\n",
        "\n",
        "Now a days, technology has become an integral part of daily life, affecting various aspects of individual well-being. This dataset explores the intersection between technology usage and mental health by examining behavioral patterns and their associations with mental health indicators. The goal is to understand how factors such as social media engagement, screen time, and gaming relate to mental health outcomes, stress levels, and sleep quality. With the growing importance of mental health awareness, this dataset aims to shed light on the impact of digital habits on wellness.\n",
        "\n",
        "### **Objectives**\n",
        "\n",
        "- ##### **Analyze the Relationship Between Technology and Mental Health:** To examine correlations between daily technology use (e.g., hours spent on social media, gaming, and screen time) and mental health indicators such as mental health status, stress, and sleep quality.\n",
        "\n",
        "- ##### **Identify Behavioral Patterns Influencing Wellness:** To study behavioral patterns such as physical activity, access to support systems, and work environment impacts on mental health.\n",
        "\n",
        "- ##### **Build Predictive Models for Mental Health Trends:** To create predictive models that can provide insights into mental health trends based on technology usage.\n",
        "\n",
        "\n",
        "### **Data**\n",
        "This dataset is publicly available on Kaggle and can be accessed via the following link: [Kaggle - Mental Health & Technology Usage Dataset](https://www.kaggle.com/datasets/waqi786/mental-health-and-technology-usage-dataset/data). It consists of 10,000 rows and 14 columns, offering detailed insights into variables associated with technology use and mental health outcomes. The key variables include:\n",
        "\n",
        "- **User_ID**: A unique identifier for each participant.\n",
        "- **Age**: Participant's age.\n",
        "- **Gender**: Categorical variable with three options: male, female, and other.\n",
        "- **Technology_Usage_Hours**: Average daily time spent on technology in hours.\n",
        "- **Social_Media_Usage_Hours**: Average daily time spent on social media in hours.\n",
        "- **Gaming_Hours**: Average daily time spent on online gaming in hours.\n",
        "- **Screen_Time_Hours**: Total average daily screen time in hours.\n",
        "- **Mental_Health_Status**: Self-reported mental health status, categorized into four levels: poor, fair, good, and excellent.\n",
        "- **Stress_Level**: Self-reported stress level, divided into three categories: low, medium, and high.\n",
        "- **Sleep_Hours**: Average daily sleep duration in hours.\n",
        "- **Physical_Activity_Hours**: Average daily physical activity duration in hours.\n",
        "- **Support_Systems_Access**: Binary variable indicating whether the participant has access to support systems (yes or no).\n",
        "- **Work_Environment_Impact**: Self-reported impact of work environment on mental health, categorized as positive, neutral, or negative.\n",
        "- **Online_Support_Usage**: Binary variable indicating whether the participant uses online support (yes or no).\n",
        "\n",
        "This dataset provides a comprehensive foundation for analyzing how digital habits influence mental health, supporting research and model development in this critical area.\n",
        "\n",
        "\n",
        "\n",
        "\n",
        "\n",
        "\n",
        "\n",
        "\n",
        "\n"
      ],
      "metadata": {
        "id": "UCblCn_wE7J5"
      }
    },
    {
      "cell_type": "markdown",
      "source": [
        "## **Install required packages and load libraries**"
      ],
      "metadata": {
        "id": "qXbmJ8RO9dS2"
      }
    },
    {
      "cell_type": "code",
      "source": [
        "install.packages(\"MASS\")"
      ],
      "metadata": {
        "colab": {
          "base_uri": "https://localhost:8080/"
        },
        "id": "VHwEgp2sX7UB",
        "outputId": "d4983842-1a86-4785-fc88-6fdc4fd536bb"
      },
      "execution_count": 1,
      "outputs": [
        {
          "output_type": "stream",
          "name": "stderr",
          "text": [
            "Installing package into ‘/usr/local/lib/R/site-library’\n",
            "(as ‘lib’ is unspecified)\n",
            "\n"
          ]
        }
      ]
    },
    {
      "cell_type": "code",
      "source": [
        "# Install required libraries\n",
        "install.packages(c(\"dplyr\", \"fastDummies\", \"caTools\", \"randomForest\", \"xgboost\", \"readr\", \"rpart\", \"caret\",\n",
        "                    \"ggplot2\", \"rsample\", \"corrplot\", \"reshape2\", \"GGally\", \"neuralnet\"))\n",
        "\n",
        "# Load libraries\n",
        "library(data.table)\n",
        "library(rpart)\n",
        "library(readr)\n",
        "library(dplyr)\n",
        "library(fastDummies)\n",
        "library(caTools)\n",
        "library(randomForest)\n",
        "library(ggplot2)\n",
        "library(caret)\n",
        "library(xgboost)\n",
        "library(neuralnet)\n",
        "library(GGally)\n"
      ],
      "metadata": {
        "colab": {
          "base_uri": "https://localhost:8080/"
        },
        "id": "oapbkygpQzmv",
        "outputId": "e15bcfcb-b8cc-48e0-dfb4-01a3a3bf91c2"
      },
      "execution_count": 2,
      "outputs": [
        {
          "output_type": "stream",
          "name": "stderr",
          "text": [
            "Installing packages into ‘/usr/local/lib/R/site-library’\n",
            "(as ‘lib’ is unspecified)\n",
            "\n",
            "\n",
            "Attaching package: ‘dplyr’\n",
            "\n",
            "\n",
            "The following objects are masked from ‘package:data.table’:\n",
            "\n",
            "    between, first, last\n",
            "\n",
            "\n",
            "The following objects are masked from ‘package:stats’:\n",
            "\n",
            "    filter, lag\n",
            "\n",
            "\n",
            "The following objects are masked from ‘package:base’:\n",
            "\n",
            "    intersect, setdiff, setequal, union\n",
            "\n",
            "\n",
            "randomForest 4.7-1.2\n",
            "\n",
            "Type rfNews() to see new features/changes/bug fixes.\n",
            "\n",
            "\n",
            "Attaching package: ‘randomForest’\n",
            "\n",
            "\n",
            "The following object is masked from ‘package:dplyr’:\n",
            "\n",
            "    combine\n",
            "\n",
            "\n",
            "\n",
            "Attaching package: ‘ggplot2’\n",
            "\n",
            "\n",
            "The following object is masked from ‘package:randomForest’:\n",
            "\n",
            "    margin\n",
            "\n",
            "\n",
            "Loading required package: lattice\n",
            "\n",
            "\n",
            "Attaching package: ‘xgboost’\n",
            "\n",
            "\n",
            "The following object is masked from ‘package:dplyr’:\n",
            "\n",
            "    slice\n",
            "\n",
            "\n",
            "\n",
            "Attaching package: ‘neuralnet’\n",
            "\n",
            "\n",
            "The following object is masked from ‘package:dplyr’:\n",
            "\n",
            "    compute\n",
            "\n",
            "\n",
            "Registered S3 method overwritten by 'GGally':\n",
            "  method from   \n",
            "  +.gg   ggplot2\n",
            "\n"
          ]
        }
      ]
    },
    {
      "cell_type": "markdown",
      "source": [
        "## **Load and Read the data**"
      ],
      "metadata": {
        "id": "6hgcXgfO_z_G"
      }
    },
    {
      "cell_type": "code",
      "execution_count": 3,
      "metadata": {
        "colab": {
          "base_uri": "https://localhost:8080/",
          "height": 549
        },
        "id": "NPRDBT8HXflz",
        "outputId": "8d158f86-36c3-4d53-993f-03629e19597a"
      },
      "outputs": [
        {
          "output_type": "stream",
          "name": "stderr",
          "text": [
            "\u001b[1mRows: \u001b[22m\u001b[34m10000\u001b[39m \u001b[1mColumns: \u001b[22m\u001b[34m14\u001b[39m\n",
            "\u001b[36m──\u001b[39m \u001b[1mColumn specification\u001b[22m \u001b[36m────────────────────────────────────────────────────────\u001b[39m\n",
            "\u001b[1mDelimiter:\u001b[22m \",\"\n",
            "\u001b[31mchr\u001b[39m (7): User_ID, Gender, Mental_Health_Status, Stress_Level, Support_System...\n",
            "\u001b[32mdbl\u001b[39m (7): Age, Technology_Usage_Hours, Social_Media_Usage_Hours, Gaming_Hours...\n",
            "\n",
            "\u001b[36mℹ\u001b[39m Use `spec()` to retrieve the full column specification for this data.\n",
            "\u001b[36mℹ\u001b[39m Specify the column types or set `show_col_types = FALSE` to quiet this message.\n"
          ]
        },
        {
          "output_type": "display_data",
          "data": {
            "text/html": [
              "<table class=\"dataframe\">\n",
              "<caption>A tibble: 6 × 14</caption>\n",
              "<thead>\n",
              "\t<tr><th scope=col>User_ID</th><th scope=col>Age</th><th scope=col>Gender</th><th scope=col>Technology_Usage_Hours</th><th scope=col>Social_Media_Usage_Hours</th><th scope=col>Gaming_Hours</th><th scope=col>Screen_Time_Hours</th><th scope=col>Mental_Health_Status</th><th scope=col>Stress_Level</th><th scope=col>Sleep_Hours</th><th scope=col>Physical_Activity_Hours</th><th scope=col>Support_Systems_Access</th><th scope=col>Work_Environment_Impact</th><th scope=col>Online_Support_Usage</th></tr>\n",
              "\t<tr><th scope=col>&lt;chr&gt;</th><th scope=col>&lt;dbl&gt;</th><th scope=col>&lt;chr&gt;</th><th scope=col>&lt;dbl&gt;</th><th scope=col>&lt;dbl&gt;</th><th scope=col>&lt;dbl&gt;</th><th scope=col>&lt;dbl&gt;</th><th scope=col>&lt;chr&gt;</th><th scope=col>&lt;chr&gt;</th><th scope=col>&lt;dbl&gt;</th><th scope=col>&lt;dbl&gt;</th><th scope=col>&lt;chr&gt;</th><th scope=col>&lt;chr&gt;</th><th scope=col>&lt;chr&gt;</th></tr>\n",
              "</thead>\n",
              "<tbody>\n",
              "\t<tr><td>USER-00001</td><td>23</td><td>Female</td><td>6.57</td><td>6.00</td><td>0.68</td><td>12.36</td><td>Good     </td><td>Low   </td><td>8.01</td><td>6.71</td><td>No </td><td>Negative</td><td>Yes</td></tr>\n",
              "\t<tr><td>USER-00002</td><td>21</td><td>Male  </td><td>3.01</td><td>2.57</td><td>3.74</td><td> 7.61</td><td>Poor     </td><td>High  </td><td>7.28</td><td>5.88</td><td>Yes</td><td>Positive</td><td>No </td></tr>\n",
              "\t<tr><td>USER-00003</td><td>51</td><td>Male  </td><td>3.04</td><td>6.14</td><td>1.26</td><td> 3.16</td><td>Fair     </td><td>High  </td><td>8.04</td><td>9.81</td><td>No </td><td>Negative</td><td>No </td></tr>\n",
              "\t<tr><td>USER-00004</td><td>25</td><td>Female</td><td>3.84</td><td>4.48</td><td>2.59</td><td>13.08</td><td>Excellent</td><td>Medium</td><td>5.62</td><td>5.28</td><td>Yes</td><td>Negative</td><td>Yes</td></tr>\n",
              "\t<tr><td>USER-00005</td><td>53</td><td>Male  </td><td>1.20</td><td>0.56</td><td>0.29</td><td>12.63</td><td>Good     </td><td>Low   </td><td>5.55</td><td>4.00</td><td>No </td><td>Positive</td><td>Yes</td></tr>\n",
              "\t<tr><td>USER-00006</td><td>58</td><td>Male  </td><td>5.59</td><td>5.74</td><td>0.11</td><td> 1.34</td><td>Poor     </td><td>Low   </td><td>8.61</td><td>6.54</td><td>Yes</td><td>Neutral </td><td>Yes</td></tr>\n",
              "</tbody>\n",
              "</table>\n"
            ],
            "text/markdown": "\nA tibble: 6 × 14\n\n| User_ID &lt;chr&gt; | Age &lt;dbl&gt; | Gender &lt;chr&gt; | Technology_Usage_Hours &lt;dbl&gt; | Social_Media_Usage_Hours &lt;dbl&gt; | Gaming_Hours &lt;dbl&gt; | Screen_Time_Hours &lt;dbl&gt; | Mental_Health_Status &lt;chr&gt; | Stress_Level &lt;chr&gt; | Sleep_Hours &lt;dbl&gt; | Physical_Activity_Hours &lt;dbl&gt; | Support_Systems_Access &lt;chr&gt; | Work_Environment_Impact &lt;chr&gt; | Online_Support_Usage &lt;chr&gt; |\n|---|---|---|---|---|---|---|---|---|---|---|---|---|---|\n| USER-00001 | 23 | Female | 6.57 | 6.00 | 0.68 | 12.36 | Good      | Low    | 8.01 | 6.71 | No  | Negative | Yes |\n| USER-00002 | 21 | Male   | 3.01 | 2.57 | 3.74 |  7.61 | Poor      | High   | 7.28 | 5.88 | Yes | Positive | No  |\n| USER-00003 | 51 | Male   | 3.04 | 6.14 | 1.26 |  3.16 | Fair      | High   | 8.04 | 9.81 | No  | Negative | No  |\n| USER-00004 | 25 | Female | 3.84 | 4.48 | 2.59 | 13.08 | Excellent | Medium | 5.62 | 5.28 | Yes | Negative | Yes |\n| USER-00005 | 53 | Male   | 1.20 | 0.56 | 0.29 | 12.63 | Good      | Low    | 5.55 | 4.00 | No  | Positive | Yes |\n| USER-00006 | 58 | Male   | 5.59 | 5.74 | 0.11 |  1.34 | Poor      | Low    | 8.61 | 6.54 | Yes | Neutral  | Yes |\n\n",
            "text/latex": "A tibble: 6 × 14\n\\begin{tabular}{llllllllllllll}\n User\\_ID & Age & Gender & Technology\\_Usage\\_Hours & Social\\_Media\\_Usage\\_Hours & Gaming\\_Hours & Screen\\_Time\\_Hours & Mental\\_Health\\_Status & Stress\\_Level & Sleep\\_Hours & Physical\\_Activity\\_Hours & Support\\_Systems\\_Access & Work\\_Environment\\_Impact & Online\\_Support\\_Usage\\\\\n <chr> & <dbl> & <chr> & <dbl> & <dbl> & <dbl> & <dbl> & <chr> & <chr> & <dbl> & <dbl> & <chr> & <chr> & <chr>\\\\\n\\hline\n\t USER-00001 & 23 & Female & 6.57 & 6.00 & 0.68 & 12.36 & Good      & Low    & 8.01 & 6.71 & No  & Negative & Yes\\\\\n\t USER-00002 & 21 & Male   & 3.01 & 2.57 & 3.74 &  7.61 & Poor      & High   & 7.28 & 5.88 & Yes & Positive & No \\\\\n\t USER-00003 & 51 & Male   & 3.04 & 6.14 & 1.26 &  3.16 & Fair      & High   & 8.04 & 9.81 & No  & Negative & No \\\\\n\t USER-00004 & 25 & Female & 3.84 & 4.48 & 2.59 & 13.08 & Excellent & Medium & 5.62 & 5.28 & Yes & Negative & Yes\\\\\n\t USER-00005 & 53 & Male   & 1.20 & 0.56 & 0.29 & 12.63 & Good      & Low    & 5.55 & 4.00 & No  & Positive & Yes\\\\\n\t USER-00006 & 58 & Male   & 5.59 & 5.74 & 0.11 &  1.34 & Poor      & Low    & 8.61 & 6.54 & Yes & Neutral  & Yes\\\\\n\\end{tabular}\n",
            "text/plain": [
              "  User_ID    Age Gender Technology_Usage_Hours Social_Media_Usage_Hours\n",
              "1 USER-00001 23  Female 6.57                   6.00                    \n",
              "2 USER-00002 21  Male   3.01                   2.57                    \n",
              "3 USER-00003 51  Male   3.04                   6.14                    \n",
              "4 USER-00004 25  Female 3.84                   4.48                    \n",
              "5 USER-00005 53  Male   1.20                   0.56                    \n",
              "6 USER-00006 58  Male   5.59                   5.74                    \n",
              "  Gaming_Hours Screen_Time_Hours Mental_Health_Status Stress_Level Sleep_Hours\n",
              "1 0.68         12.36             Good                 Low          8.01       \n",
              "2 3.74          7.61             Poor                 High         7.28       \n",
              "3 1.26          3.16             Fair                 High         8.04       \n",
              "4 2.59         13.08             Excellent            Medium       5.62       \n",
              "5 0.29         12.63             Good                 Low          5.55       \n",
              "6 0.11          1.34             Poor                 Low          8.61       \n",
              "  Physical_Activity_Hours Support_Systems_Access Work_Environment_Impact\n",
              "1 6.71                    No                     Negative               \n",
              "2 5.88                    Yes                    Positive               \n",
              "3 9.81                    No                     Negative               \n",
              "4 5.28                    Yes                    Negative               \n",
              "5 4.00                    No                     Positive               \n",
              "6 6.54                    Yes                    Neutral                \n",
              "  Online_Support_Usage\n",
              "1 Yes                 \n",
              "2 No                  \n",
              "3 No                  \n",
              "4 Yes                 \n",
              "5 Yes                 \n",
              "6 Yes                 "
            ]
          },
          "metadata": {}
        }
      ],
      "source": [
        "# Define the file path\n",
        "data = \"/content/mental_health.csv\"\n",
        "\n",
        "# Read the CSV file into a data frame\n",
        "mydata = read_csv(data)\n",
        "\n",
        "head(mydata)"
      ]
    },
    {
      "cell_type": "markdown",
      "source": [
        "## **Data manipulation**"
      ],
      "metadata": {
        "id": "dU6uRm03AEq5"
      }
    },
    {
      "cell_type": "code",
      "source": [
        "# Rename columns\n",
        "mydata <- mydata %>%\n",
        "  rename(\n",
        "    id = User_ID,\n",
        "    age = Age,\n",
        "    gender = Gender,\n",
        "    tech_Hrs = Technology_Usage_Hours,\n",
        "    social_Hrs = Social_Media_Usage_Hours,\n",
        "    game_hrs = Gaming_Hours,\n",
        "    screen_time_hrs = Screen_Time_Hours,\n",
        "    mental_health_sta = Mental_Health_Status,\n",
        "    stress_level = Stress_Level,\n",
        "    sleep_hrs = Sleep_Hours,\n",
        "    activity_hrs = Physical_Activity_Hours,\n",
        "    support_sys_access = Support_Systems_Access,\n",
        "    work_env_impact = Work_Environment_Impact,\n",
        "    online_use = Online_Support_Usage\n",
        "  )"
      ],
      "metadata": {
        "id": "aZcoWqDy3ILE"
      },
      "execution_count": 4,
      "outputs": []
    },
    {
      "cell_type": "markdown",
      "source": [
        "By renaming the columns in this dataset, I aim to improve readability and simplify the variable names for easier understanding and reference throughout the analysis."
      ],
      "metadata": {
        "id": "ouXQODIDJpmC"
      }
    },
    {
      "cell_type": "code",
      "source": [
        "# drop 'id' column\n",
        "mydata$id<-NULL"
      ],
      "metadata": {
        "id": "K80K7SZmJ53z"
      },
      "execution_count": 5,
      "outputs": []
    },
    {
      "cell_type": "markdown",
      "source": [
        "By dropping the id column, I try to simplify the dataset by removing an element that does not contribute to the analysis."
      ],
      "metadata": {
        "id": "xgLUMykIKa2z"
      }
    },
    {
      "cell_type": "markdown",
      "source": [
        "### **Explore the data**"
      ],
      "metadata": {
        "id": "xrUpR1ukJu96"
      }
    },
    {
      "cell_type": "code",
      "source": [
        "# Display the first few rows of the data\n",
        "print(\"first few rows of the data\")\n",
        "head(mydata)\n",
        "\n",
        "# Check the number of rows\n",
        "num_rows <- nrow(mydata)\n",
        "\n",
        "# Check the number of columns\n",
        "num_cols <- ncol(mydata)\n",
        "\n",
        "# Print the shape of the data using concatenate\n",
        "cat(\"The dataset has\", num_rows, \"rows and\", num_cols, \"columns.\\n\")\n",
        "\n",
        "# check the data types\n",
        "print(\"structure of the data\")\n",
        "str(mydata)\n",
        "\n",
        "# to see the modified column names\n",
        "print(\"column names\")\n",
        "colnames(mydata)"
      ],
      "metadata": {
        "colab": {
          "base_uri": "https://localhost:8080/",
          "height": 966
        },
        "id": "mgCYYKEnI9Dq",
        "outputId": "f17a82e0-655c-4169-df52-30a647e58fe4"
      },
      "execution_count": 6,
      "outputs": [
        {
          "output_type": "stream",
          "name": "stdout",
          "text": [
            "[1] \"first few rows of the data\"\n"
          ]
        },
        {
          "output_type": "display_data",
          "data": {
            "text/html": [
              "<table class=\"dataframe\">\n",
              "<caption>A tibble: 6 × 13</caption>\n",
              "<thead>\n",
              "\t<tr><th scope=col>age</th><th scope=col>gender</th><th scope=col>tech_Hrs</th><th scope=col>social_Hrs</th><th scope=col>game_hrs</th><th scope=col>screen_time_hrs</th><th scope=col>mental_health_sta</th><th scope=col>stress_level</th><th scope=col>sleep_hrs</th><th scope=col>activity_hrs</th><th scope=col>support_sys_access</th><th scope=col>work_env_impact</th><th scope=col>online_use</th></tr>\n",
              "\t<tr><th scope=col>&lt;dbl&gt;</th><th scope=col>&lt;chr&gt;</th><th scope=col>&lt;dbl&gt;</th><th scope=col>&lt;dbl&gt;</th><th scope=col>&lt;dbl&gt;</th><th scope=col>&lt;dbl&gt;</th><th scope=col>&lt;chr&gt;</th><th scope=col>&lt;chr&gt;</th><th scope=col>&lt;dbl&gt;</th><th scope=col>&lt;dbl&gt;</th><th scope=col>&lt;chr&gt;</th><th scope=col>&lt;chr&gt;</th><th scope=col>&lt;chr&gt;</th></tr>\n",
              "</thead>\n",
              "<tbody>\n",
              "\t<tr><td>23</td><td>Female</td><td>6.57</td><td>6.00</td><td>0.68</td><td>12.36</td><td>Good     </td><td>Low   </td><td>8.01</td><td>6.71</td><td>No </td><td>Negative</td><td>Yes</td></tr>\n",
              "\t<tr><td>21</td><td>Male  </td><td>3.01</td><td>2.57</td><td>3.74</td><td> 7.61</td><td>Poor     </td><td>High  </td><td>7.28</td><td>5.88</td><td>Yes</td><td>Positive</td><td>No </td></tr>\n",
              "\t<tr><td>51</td><td>Male  </td><td>3.04</td><td>6.14</td><td>1.26</td><td> 3.16</td><td>Fair     </td><td>High  </td><td>8.04</td><td>9.81</td><td>No </td><td>Negative</td><td>No </td></tr>\n",
              "\t<tr><td>25</td><td>Female</td><td>3.84</td><td>4.48</td><td>2.59</td><td>13.08</td><td>Excellent</td><td>Medium</td><td>5.62</td><td>5.28</td><td>Yes</td><td>Negative</td><td>Yes</td></tr>\n",
              "\t<tr><td>53</td><td>Male  </td><td>1.20</td><td>0.56</td><td>0.29</td><td>12.63</td><td>Good     </td><td>Low   </td><td>5.55</td><td>4.00</td><td>No </td><td>Positive</td><td>Yes</td></tr>\n",
              "\t<tr><td>58</td><td>Male  </td><td>5.59</td><td>5.74</td><td>0.11</td><td> 1.34</td><td>Poor     </td><td>Low   </td><td>8.61</td><td>6.54</td><td>Yes</td><td>Neutral </td><td>Yes</td></tr>\n",
              "</tbody>\n",
              "</table>\n"
            ],
            "text/markdown": "\nA tibble: 6 × 13\n\n| age &lt;dbl&gt; | gender &lt;chr&gt; | tech_Hrs &lt;dbl&gt; | social_Hrs &lt;dbl&gt; | game_hrs &lt;dbl&gt; | screen_time_hrs &lt;dbl&gt; | mental_health_sta &lt;chr&gt; | stress_level &lt;chr&gt; | sleep_hrs &lt;dbl&gt; | activity_hrs &lt;dbl&gt; | support_sys_access &lt;chr&gt; | work_env_impact &lt;chr&gt; | online_use &lt;chr&gt; |\n|---|---|---|---|---|---|---|---|---|---|---|---|---|\n| 23 | Female | 6.57 | 6.00 | 0.68 | 12.36 | Good      | Low    | 8.01 | 6.71 | No  | Negative | Yes |\n| 21 | Male   | 3.01 | 2.57 | 3.74 |  7.61 | Poor      | High   | 7.28 | 5.88 | Yes | Positive | No  |\n| 51 | Male   | 3.04 | 6.14 | 1.26 |  3.16 | Fair      | High   | 8.04 | 9.81 | No  | Negative | No  |\n| 25 | Female | 3.84 | 4.48 | 2.59 | 13.08 | Excellent | Medium | 5.62 | 5.28 | Yes | Negative | Yes |\n| 53 | Male   | 1.20 | 0.56 | 0.29 | 12.63 | Good      | Low    | 5.55 | 4.00 | No  | Positive | Yes |\n| 58 | Male   | 5.59 | 5.74 | 0.11 |  1.34 | Poor      | Low    | 8.61 | 6.54 | Yes | Neutral  | Yes |\n\n",
            "text/latex": "A tibble: 6 × 13\n\\begin{tabular}{lllllllllllll}\n age & gender & tech\\_Hrs & social\\_Hrs & game\\_hrs & screen\\_time\\_hrs & mental\\_health\\_sta & stress\\_level & sleep\\_hrs & activity\\_hrs & support\\_sys\\_access & work\\_env\\_impact & online\\_use\\\\\n <dbl> & <chr> & <dbl> & <dbl> & <dbl> & <dbl> & <chr> & <chr> & <dbl> & <dbl> & <chr> & <chr> & <chr>\\\\\n\\hline\n\t 23 & Female & 6.57 & 6.00 & 0.68 & 12.36 & Good      & Low    & 8.01 & 6.71 & No  & Negative & Yes\\\\\n\t 21 & Male   & 3.01 & 2.57 & 3.74 &  7.61 & Poor      & High   & 7.28 & 5.88 & Yes & Positive & No \\\\\n\t 51 & Male   & 3.04 & 6.14 & 1.26 &  3.16 & Fair      & High   & 8.04 & 9.81 & No  & Negative & No \\\\\n\t 25 & Female & 3.84 & 4.48 & 2.59 & 13.08 & Excellent & Medium & 5.62 & 5.28 & Yes & Negative & Yes\\\\\n\t 53 & Male   & 1.20 & 0.56 & 0.29 & 12.63 & Good      & Low    & 5.55 & 4.00 & No  & Positive & Yes\\\\\n\t 58 & Male   & 5.59 & 5.74 & 0.11 &  1.34 & Poor      & Low    & 8.61 & 6.54 & Yes & Neutral  & Yes\\\\\n\\end{tabular}\n",
            "text/plain": [
              "  age gender tech_Hrs social_Hrs game_hrs screen_time_hrs mental_health_sta\n",
              "1 23  Female 6.57     6.00       0.68     12.36           Good             \n",
              "2 21  Male   3.01     2.57       3.74      7.61           Poor             \n",
              "3 51  Male   3.04     6.14       1.26      3.16           Fair             \n",
              "4 25  Female 3.84     4.48       2.59     13.08           Excellent        \n",
              "5 53  Male   1.20     0.56       0.29     12.63           Good             \n",
              "6 58  Male   5.59     5.74       0.11      1.34           Poor             \n",
              "  stress_level sleep_hrs activity_hrs support_sys_access work_env_impact\n",
              "1 Low          8.01      6.71         No                 Negative       \n",
              "2 High         7.28      5.88         Yes                Positive       \n",
              "3 High         8.04      9.81         No                 Negative       \n",
              "4 Medium       5.62      5.28         Yes                Negative       \n",
              "5 Low          5.55      4.00         No                 Positive       \n",
              "6 Low          8.61      6.54         Yes                Neutral        \n",
              "  online_use\n",
              "1 Yes       \n",
              "2 No        \n",
              "3 No        \n",
              "4 Yes       \n",
              "5 Yes       \n",
              "6 Yes       "
            ]
          },
          "metadata": {}
        },
        {
          "output_type": "stream",
          "name": "stdout",
          "text": [
            "The dataset has 10000 rows and 13 columns.\n",
            "[1] \"structure of the data\"\n",
            "spc_tbl_ [10,000 × 13] (S3: spec_tbl_df/tbl_df/tbl/data.frame)\n",
            " $ age               : num [1:10000] 23 21 51 25 53 58 63 51 57 31 ...\n",
            " $ gender            : chr [1:10000] \"Female\" \"Male\" \"Male\" \"Female\" ...\n",
            " $ tech_Hrs          : num [1:10000] 6.57 3.01 3.04 3.84 1.2 ...\n",
            " $ social_Hrs        : num [1:10000] 6 2.57 6.14 4.48 0.56 5.74 2.55 4.1 4.11 7.23 ...\n",
            " $ game_hrs          : num [1:10000] 0.68 3.74 1.26 2.59 0.29 0.11 3.79 4.74 0.08 0.81 ...\n",
            " $ screen_time_hrs   : num [1:10000] 12.36 7.61 3.16 13.08 12.63 ...\n",
            " $ mental_health_sta : chr [1:10000] \"Good\" \"Poor\" \"Fair\" \"Excellent\" ...\n",
            " $ stress_level      : chr [1:10000] \"Low\" \"High\" \"High\" \"Medium\" ...\n",
            " $ sleep_hrs         : num [1:10000] 8.01 7.28 8.04 5.62 5.55 8.61 8.61 7.11 7.19 5.09 ...\n",
            " $ activity_hrs      : num [1:10000] 6.71 5.88 9.81 5.28 4 6.54 1.34 5.27 5.22 0.47 ...\n",
            " $ support_sys_access: chr [1:10000] \"No\" \"Yes\" \"No\" \"Yes\" ...\n",
            " $ work_env_impact   : chr [1:10000] \"Negative\" \"Positive\" \"Negative\" \"Negative\" ...\n",
            " $ online_use        : chr [1:10000] \"Yes\" \"No\" \"No\" \"Yes\" ...\n",
            " - attr(*, \"spec\")=\n",
            "  .. cols(\n",
            "  ..   User_ID = \u001b[31mcol_character()\u001b[39m,\n",
            "  ..   Age = \u001b[32mcol_double()\u001b[39m,\n",
            "  ..   Gender = \u001b[31mcol_character()\u001b[39m,\n",
            "  ..   Technology_Usage_Hours = \u001b[32mcol_double()\u001b[39m,\n",
            "  ..   Social_Media_Usage_Hours = \u001b[32mcol_double()\u001b[39m,\n",
            "  ..   Gaming_Hours = \u001b[32mcol_double()\u001b[39m,\n",
            "  ..   Screen_Time_Hours = \u001b[32mcol_double()\u001b[39m,\n",
            "  ..   Mental_Health_Status = \u001b[31mcol_character()\u001b[39m,\n",
            "  ..   Stress_Level = \u001b[31mcol_character()\u001b[39m,\n",
            "  ..   Sleep_Hours = \u001b[32mcol_double()\u001b[39m,\n",
            "  ..   Physical_Activity_Hours = \u001b[32mcol_double()\u001b[39m,\n",
            "  ..   Support_Systems_Access = \u001b[31mcol_character()\u001b[39m,\n",
            "  ..   Work_Environment_Impact = \u001b[31mcol_character()\u001b[39m,\n",
            "  ..   Online_Support_Usage = \u001b[31mcol_character()\u001b[39m\n",
            "  .. )\n",
            " - attr(*, \"problems\")=<externalptr> \n",
            "[1] \"column names\"\n"
          ]
        },
        {
          "output_type": "display_data",
          "data": {
            "text/html": [
              "<style>\n",
              ".list-inline {list-style: none; margin:0; padding: 0}\n",
              ".list-inline>li {display: inline-block}\n",
              ".list-inline>li:not(:last-child)::after {content: \"\\00b7\"; padding: 0 .5ex}\n",
              "</style>\n",
              "<ol class=list-inline><li>'age'</li><li>'gender'</li><li>'tech_Hrs'</li><li>'social_Hrs'</li><li>'game_hrs'</li><li>'screen_time_hrs'</li><li>'mental_health_sta'</li><li>'stress_level'</li><li>'sleep_hrs'</li><li>'activity_hrs'</li><li>'support_sys_access'</li><li>'work_env_impact'</li><li>'online_use'</li></ol>\n"
            ],
            "text/markdown": "1. 'age'\n2. 'gender'\n3. 'tech_Hrs'\n4. 'social_Hrs'\n5. 'game_hrs'\n6. 'screen_time_hrs'\n7. 'mental_health_sta'\n8. 'stress_level'\n9. 'sleep_hrs'\n10. 'activity_hrs'\n11. 'support_sys_access'\n12. 'work_env_impact'\n13. 'online_use'\n\n\n",
            "text/latex": "\\begin{enumerate*}\n\\item 'age'\n\\item 'gender'\n\\item 'tech\\_Hrs'\n\\item 'social\\_Hrs'\n\\item 'game\\_hrs'\n\\item 'screen\\_time\\_hrs'\n\\item 'mental\\_health\\_sta'\n\\item 'stress\\_level'\n\\item 'sleep\\_hrs'\n\\item 'activity\\_hrs'\n\\item 'support\\_sys\\_access'\n\\item 'work\\_env\\_impact'\n\\item 'online\\_use'\n\\end{enumerate*}\n",
            "text/plain": [
              " [1] \"age\"                \"gender\"             \"tech_Hrs\"          \n",
              " [4] \"social_Hrs\"         \"game_hrs\"           \"screen_time_hrs\"   \n",
              " [7] \"mental_health_sta\"  \"stress_level\"       \"sleep_hrs\"         \n",
              "[10] \"activity_hrs\"       \"support_sys_access\" \"work_env_impact\"   \n",
              "[13] \"online_use\"        "
            ]
          },
          "metadata": {}
        }
      ]
    },
    {
      "cell_type": "markdown",
      "source": [
        "The above data exploration provides a summary of the dataset by displaying the first few rows, the number of rows and columns, the structure and data types of the variables, and the updated column names for better clarity and understanding."
      ],
      "metadata": {
        "id": "YJh3xOMtLogb"
      }
    },
    {
      "cell_type": "markdown",
      "source": [
        "### **Missing values**"
      ],
      "metadata": {
        "id": "oVRmbObeZ-_5"
      }
    },
    {
      "cell_type": "code",
      "source": [
        "# Check for missing values of all columns\n",
        "colSums(is.na(mydata))"
      ],
      "metadata": {
        "colab": {
          "base_uri": "https://localhost:8080/",
          "height": 52
        },
        "id": "-im_xa3ZZ-AV",
        "outputId": "0c0fb439-3bc7-440a-8de1-eab2f21c87c9"
      },
      "execution_count": 7,
      "outputs": [
        {
          "output_type": "display_data",
          "data": {
            "text/html": [
              "<style>\n",
              ".dl-inline {width: auto; margin:0; padding: 0}\n",
              ".dl-inline>dt, .dl-inline>dd {float: none; width: auto; display: inline-block}\n",
              ".dl-inline>dt::after {content: \":\\0020\"; padding-right: .5ex}\n",
              ".dl-inline>dt:not(:first-of-type) {padding-left: .5ex}\n",
              "</style><dl class=dl-inline><dt>age</dt><dd>0</dd><dt>gender</dt><dd>0</dd><dt>tech_Hrs</dt><dd>0</dd><dt>social_Hrs</dt><dd>0</dd><dt>game_hrs</dt><dd>0</dd><dt>screen_time_hrs</dt><dd>0</dd><dt>mental_health_sta</dt><dd>0</dd><dt>stress_level</dt><dd>0</dd><dt>sleep_hrs</dt><dd>0</dd><dt>activity_hrs</dt><dd>0</dd><dt>support_sys_access</dt><dd>0</dd><dt>work_env_impact</dt><dd>0</dd><dt>online_use</dt><dd>0</dd></dl>\n"
            ],
            "text/markdown": "age\n:   0gender\n:   0tech_Hrs\n:   0social_Hrs\n:   0game_hrs\n:   0screen_time_hrs\n:   0mental_health_sta\n:   0stress_level\n:   0sleep_hrs\n:   0activity_hrs\n:   0support_sys_access\n:   0work_env_impact\n:   0online_use\n:   0\n\n",
            "text/latex": "\\begin{description*}\n\\item[age] 0\n\\item[gender] 0\n\\item[tech\\textbackslash{}\\_Hrs] 0\n\\item[social\\textbackslash{}\\_Hrs] 0\n\\item[game\\textbackslash{}\\_hrs] 0\n\\item[screen\\textbackslash{}\\_time\\textbackslash{}\\_hrs] 0\n\\item[mental\\textbackslash{}\\_health\\textbackslash{}\\_sta] 0\n\\item[stress\\textbackslash{}\\_level] 0\n\\item[sleep\\textbackslash{}\\_hrs] 0\n\\item[activity\\textbackslash{}\\_hrs] 0\n\\item[support\\textbackslash{}\\_sys\\textbackslash{}\\_access] 0\n\\item[work\\textbackslash{}\\_env\\textbackslash{}\\_impact] 0\n\\item[online\\textbackslash{}\\_use] 0\n\\end{description*}\n",
            "text/plain": [
              "               age             gender           tech_Hrs         social_Hrs \n",
              "                 0                  0                  0                  0 \n",
              "          game_hrs    screen_time_hrs  mental_health_sta       stress_level \n",
              "                 0                  0                  0                  0 \n",
              "         sleep_hrs       activity_hrs support_sys_access    work_env_impact \n",
              "                 0                  0                  0                  0 \n",
              "        online_use \n",
              "                 0 "
            ]
          },
          "metadata": {}
        }
      ]
    },
    {
      "cell_type": "markdown",
      "source": [
        "The dataset contains no missing values."
      ],
      "metadata": {
        "id": "ofDN5rSDacO0"
      }
    },
    {
      "cell_type": "markdown",
      "source": [
        "#### **Categorical variables**"
      ],
      "metadata": {
        "id": "93YGq9WoA7z2"
      }
    },
    {
      "cell_type": "markdown",
      "source": [
        "##### **Gender**\n",
        "\n",
        "\n"
      ],
      "metadata": {
        "id": "0d85mX0RNeSm"
      }
    },
    {
      "cell_type": "code",
      "source": [
        "# to know the category of gender\n",
        "unique(mydata$gender)"
      ],
      "metadata": {
        "colab": {
          "base_uri": "https://localhost:8080/",
          "height": 34
        },
        "id": "tid6R746NjOp",
        "outputId": "6759c5ad-909c-47b9-86ae-df5fd4895489"
      },
      "execution_count": 8,
      "outputs": [
        {
          "output_type": "display_data",
          "data": {
            "text/html": [
              "<style>\n",
              ".list-inline {list-style: none; margin:0; padding: 0}\n",
              ".list-inline>li {display: inline-block}\n",
              ".list-inline>li:not(:last-child)::after {content: \"\\00b7\"; padding: 0 .5ex}\n",
              "</style>\n",
              "<ol class=list-inline><li>'Female'</li><li>'Male'</li><li>'Other'</li></ol>\n"
            ],
            "text/markdown": "1. 'Female'\n2. 'Male'\n3. 'Other'\n\n\n",
            "text/latex": "\\begin{enumerate*}\n\\item 'Female'\n\\item 'Male'\n\\item 'Other'\n\\end{enumerate*}\n",
            "text/plain": [
              "[1] \"Female\" \"Male\"   \"Other\" "
            ]
          },
          "metadata": {}
        }
      ]
    },
    {
      "cell_type": "code",
      "source": [
        "# Count the occurrences of each category in the Gender column\n",
        "table(mydata$gender)"
      ],
      "metadata": {
        "colab": {
          "base_uri": "https://localhost:8080/",
          "height": 69
        },
        "id": "cqAgT6MeNkCV",
        "outputId": "88817e5d-aeb9-40aa-8ace-5f741360c9d8"
      },
      "execution_count": 9,
      "outputs": [
        {
          "output_type": "display_data",
          "data": {
            "text/plain": [
              "\n",
              "Female   Male  Other \n",
              "  3286   3350   3364 "
            ]
          },
          "metadata": {}
        }
      ]
    },
    {
      "cell_type": "code",
      "source": [
        "## visualization of data using pie chart\n",
        "# Calculate proportions of each gender category\n",
        "gender_data <- mydata %>%\n",
        "  count(gender) %>%\n",
        "  mutate(percentage = n / sum(n) * 100) %>%\n",
        "  mutate(label = paste0(round(percentage, 1), \"%\"))  # Create percentage labels\n",
        "\n",
        "# Plot Gender Distribution as a pie chart with percentage labels\n",
        "ggplot(gender_data, aes(x = \"\", y = percentage, fill = gender)) +\n",
        "  geom_bar(stat = \"identity\", width = 1, color = \"black\") +\n",
        "  coord_polar(theta = \"y\") +\n",
        "  geom_text(aes(label = label), position = position_stack(vjust = 0.5), color = \"black\", size = 5) +\n",
        "  labs(title = \"Gender Distribution\") +\n",
        "  theme_minimal() +\n",
        "  theme(\n",
        "    plot.title = element_text(face = \"bold\", size = 16),  # Bold and larger title\n",
        "    axis.title.x = element_blank(),                      # Remove x-axis label\n",
        "    axis.title.y = element_blank(),                      # Remove y-axis label\n",
        "    axis.text = element_blank(),                         # Remove axis text/ticks\n",
        "    panel.grid = element_blank()                         # Remove grid lines\n",
        "  ) +\n",
        "  scale_fill_brewer(palette = \"Set2\")  # Use color palette\n"
      ],
      "metadata": {
        "colab": {
          "base_uri": "https://localhost:8080/",
          "height": 437
        },
        "id": "6vrkpgmfOtqm",
        "outputId": "57f3e3b6-623b-4e25-85b5-4cee44674533"
      },
      "execution_count": 10,
      "outputs": [
        {
          "output_type": "display_data",
          "data": {
            "text/plain": [
              "plot without title"
            ],
            "image/png": "[encoded data removed]"
          },
          "metadata": {
            "image/png": {
              "width": 420,
              "height": 420
            }
          }
        }
      ]
    },
    {
      "cell_type": "code",
      "source": [
        "## converting categorical to numerical variable by one-hot encoding\n",
        "# Create one-hot encoded columns for gender\n",
        "mydata_gender <- mydata %>%\n",
        "  mutate(\n",
        "    male = ifelse(tolower(trimws(gender)) == \"male\", 1, 0),\n",
        "    female = ifelse(tolower(trimws(gender)) == \"female\", 1, 0),\n",
        "    other = ifelse(tolower(trimws(gender)) == \"other\", 1, 0)\n",
        "  ) %>%\n",
        "  select(-gender)  # Remove the original gender column\n",
        "\n",
        "# Display the first few rows of the one-hot encoded data\n",
        "print(\"One-Hot Encoded Data:\")\n",
        "head(mydata_gender)"
      ],
      "metadata": {
        "colab": {
          "base_uri": "https://localhost:8080/",
          "height": 324
        },
        "id": "4MQHtsttMq-6",
        "outputId": "87f5ec8d-f3e6-404d-cad5-f1e3d4e16f69"
      },
      "execution_count": 11,
      "outputs": [
        {
          "output_type": "stream",
          "name": "stdout",
          "text": [
            "[1] \"One-Hot Encoded Data:\"\n"
          ]
        },
        {
          "output_type": "display_data",
          "data": {
            "text/html": [
              "<table class=\"dataframe\">\n",
              "<caption>A tibble: 6 × 15</caption>\n",
              "<thead>\n",
              "\t<tr><th scope=col>age</th><th scope=col>tech_Hrs</th><th scope=col>social_Hrs</th><th scope=col>game_hrs</th><th scope=col>screen_time_hrs</th><th scope=col>mental_health_sta</th><th scope=col>stress_level</th><th scope=col>sleep_hrs</th><th scope=col>activity_hrs</th><th scope=col>support_sys_access</th><th scope=col>work_env_impact</th><th scope=col>online_use</th><th scope=col>male</th><th scope=col>female</th><th scope=col>other</th></tr>\n",
              "\t<tr><th scope=col>&lt;dbl&gt;</th><th scope=col>&lt;dbl&gt;</th><th scope=col>&lt;dbl&gt;</th><th scope=col>&lt;dbl&gt;</th><th scope=col>&lt;dbl&gt;</th><th scope=col>&lt;chr&gt;</th><th scope=col>&lt;chr&gt;</th><th scope=col>&lt;dbl&gt;</th><th scope=col>&lt;dbl&gt;</th><th scope=col>&lt;chr&gt;</th><th scope=col>&lt;chr&gt;</th><th scope=col>&lt;chr&gt;</th><th scope=col>&lt;dbl&gt;</th><th scope=col>&lt;dbl&gt;</th><th scope=col>&lt;dbl&gt;</th></tr>\n",
              "</thead>\n",
              "<tbody>\n",
              "\t<tr><td>23</td><td>6.57</td><td>6.00</td><td>0.68</td><td>12.36</td><td>Good     </td><td>Low   </td><td>8.01</td><td>6.71</td><td>No </td><td>Negative</td><td>Yes</td><td>0</td><td>1</td><td>0</td></tr>\n",
              "\t<tr><td>21</td><td>3.01</td><td>2.57</td><td>3.74</td><td> 7.61</td><td>Poor     </td><td>High  </td><td>7.28</td><td>5.88</td><td>Yes</td><td>Positive</td><td>No </td><td>1</td><td>0</td><td>0</td></tr>\n",
              "\t<tr><td>51</td><td>3.04</td><td>6.14</td><td>1.26</td><td> 3.16</td><td>Fair     </td><td>High  </td><td>8.04</td><td>9.81</td><td>No </td><td>Negative</td><td>No </td><td>1</td><td>0</td><td>0</td></tr>\n",
              "\t<tr><td>25</td><td>3.84</td><td>4.48</td><td>2.59</td><td>13.08</td><td>Excellent</td><td>Medium</td><td>5.62</td><td>5.28</td><td>Yes</td><td>Negative</td><td>Yes</td><td>0</td><td>1</td><td>0</td></tr>\n",
              "\t<tr><td>53</td><td>1.20</td><td>0.56</td><td>0.29</td><td>12.63</td><td>Good     </td><td>Low   </td><td>5.55</td><td>4.00</td><td>No </td><td>Positive</td><td>Yes</td><td>1</td><td>0</td><td>0</td></tr>\n",
              "\t<tr><td>58</td><td>5.59</td><td>5.74</td><td>0.11</td><td> 1.34</td><td>Poor     </td><td>Low   </td><td>8.61</td><td>6.54</td><td>Yes</td><td>Neutral </td><td>Yes</td><td>1</td><td>0</td><td>0</td></tr>\n",
              "</tbody>\n",
              "</table>\n"
            ],
            "text/markdown": "\nA tibble: 6 × 15\n\n| age &lt;dbl&gt; | tech_Hrs &lt;dbl&gt; | social_Hrs &lt;dbl&gt; | game_hrs &lt;dbl&gt; | screen_time_hrs &lt;dbl&gt; | mental_health_sta &lt;chr&gt; | stress_level &lt;chr&gt; | sleep_hrs &lt;dbl&gt; | activity_hrs &lt;dbl&gt; | support_sys_access &lt;chr&gt; | work_env_impact &lt;chr&gt; | online_use &lt;chr&gt; | male &lt;dbl&gt; | female &lt;dbl&gt; | other &lt;dbl&gt; |\n|---|---|---|---|---|---|---|---|---|---|---|---|---|---|---|\n| 23 | 6.57 | 6.00 | 0.68 | 12.36 | Good      | Low    | 8.01 | 6.71 | No  | Negative | Yes | 0 | 1 | 0 |\n| 21 | 3.01 | 2.57 | 3.74 |  7.61 | Poor      | High   | 7.28 | 5.88 | Yes | Positive | No  | 1 | 0 | 0 |\n| 51 | 3.04 | 6.14 | 1.26 |  3.16 | Fair      | High   | 8.04 | 9.81 | No  | Negative | No  | 1 | 0 | 0 |\n| 25 | 3.84 | 4.48 | 2.59 | 13.08 | Excellent | Medium | 5.62 | 5.28 | Yes | Negative | Yes | 0 | 1 | 0 |\n| 53 | 1.20 | 0.56 | 0.29 | 12.63 | Good      | Low    | 5.55 | 4.00 | No  | Positive | Yes | 1 | 0 | 0 |\n| 58 | 5.59 | 5.74 | 0.11 |  1.34 | Poor      | Low    | 8.61 | 6.54 | Yes | Neutral  | Yes | 1 | 0 | 0 |\n\n",
            "text/latex": "A tibble: 6 × 15\n\\begin{tabular}{lllllllllllllll}\n age & tech\\_Hrs & social\\_Hrs & game\\_hrs & screen\\_time\\_hrs & mental\\_health\\_sta & stress\\_level & sleep\\_hrs & activity\\_hrs & support\\_sys\\_access & work\\_env\\_impact & online\\_use & male & female & other\\\\\n <dbl> & <dbl> & <dbl> & <dbl> & <dbl> & <chr> & <chr> & <dbl> & <dbl> & <chr> & <chr> & <chr> & <dbl> & <dbl> & <dbl>\\\\\n\\hline\n\t 23 & 6.57 & 6.00 & 0.68 & 12.36 & Good      & Low    & 8.01 & 6.71 & No  & Negative & Yes & 0 & 1 & 0\\\\\n\t 21 & 3.01 & 2.57 & 3.74 &  7.61 & Poor      & High   & 7.28 & 5.88 & Yes & Positive & No  & 1 & 0 & 0\\\\\n\t 51 & 3.04 & 6.14 & 1.26 &  3.16 & Fair      & High   & 8.04 & 9.81 & No  & Negative & No  & 1 & 0 & 0\\\\\n\t 25 & 3.84 & 4.48 & 2.59 & 13.08 & Excellent & Medium & 5.62 & 5.28 & Yes & Negative & Yes & 0 & 1 & 0\\\\\n\t 53 & 1.20 & 0.56 & 0.29 & 12.63 & Good      & Low    & 5.55 & 4.00 & No  & Positive & Yes & 1 & 0 & 0\\\\\n\t 58 & 5.59 & 5.74 & 0.11 &  1.34 & Poor      & Low    & 8.61 & 6.54 & Yes & Neutral  & Yes & 1 & 0 & 0\\\\\n\\end{tabular}\n",
            "text/plain": [
              "  age tech_Hrs social_Hrs game_hrs screen_time_hrs mental_health_sta\n",
              "1 23  6.57     6.00       0.68     12.36           Good             \n",
              "2 21  3.01     2.57       3.74      7.61           Poor             \n",
              "3 51  3.04     6.14       1.26      3.16           Fair             \n",
              "4 25  3.84     4.48       2.59     13.08           Excellent        \n",
              "5 53  1.20     0.56       0.29     12.63           Good             \n",
              "6 58  5.59     5.74       0.11      1.34           Poor             \n",
              "  stress_level sleep_hrs activity_hrs support_sys_access work_env_impact\n",
              "1 Low          8.01      6.71         No                 Negative       \n",
              "2 High         7.28      5.88         Yes                Positive       \n",
              "3 High         8.04      9.81         No                 Negative       \n",
              "4 Medium       5.62      5.28         Yes                Negative       \n",
              "5 Low          5.55      4.00         No                 Positive       \n",
              "6 Low          8.61      6.54         Yes                Neutral        \n",
              "  online_use male female other\n",
              "1 Yes        0    1      0    \n",
              "2 No         1    0      0    \n",
              "3 No         1    0      0    \n",
              "4 Yes        0    1      0    \n",
              "5 Yes        1    0      0    \n",
              "6 Yes        1    0      0    "
            ]
          },
          "metadata": {}
        }
      ]
    },
    {
      "cell_type": "markdown",
      "source": [
        "##### **Mental_health_status**"
      ],
      "metadata": {
        "id": "ca5egb-2OCgg"
      }
    },
    {
      "cell_type": "code",
      "source": [
        "table(mydata$mental_health_sta)"
      ],
      "metadata": {
        "colab": {
          "base_uri": "https://localhost:8080/",
          "height": 69
        },
        "id": "CBeimciiOd7v",
        "outputId": "ede765c2-fe6d-4735-89e5-145c3196d45e"
      },
      "execution_count": 12,
      "outputs": [
        {
          "output_type": "display_data",
          "data": {
            "text/plain": [
              "\n",
              "Excellent      Fair      Good      Poor \n",
              "     2518      2490      2508      2484 "
            ]
          },
          "metadata": {}
        }
      ]
    },
    {
      "cell_type": "code",
      "source": [
        "## visualization of the data using bar plot\n",
        "# Calculate the frequency of each category in mental_health_sta\n",
        "mental_health_counts <- table(mydata$mental_health_sta)\n",
        "\n",
        "# Plot the distribution using a bar plot\n",
        "barplot(mental_health_counts,\n",
        "        main = \"Distribution of mental health status\",\n",
        "        xlab = \"Mental health level\",\n",
        "        ylab = \"Frequency\",\n",
        "        col = \"skyblue\",\n",
        "        border = \"black\",\n",
        "        las = 1)  # las = 1 for horizontal labels"
      ],
      "metadata": {
        "colab": {
          "base_uri": "https://localhost:8080/",
          "height": 437
        },
        "id": "erb1fO4ROSm_",
        "outputId": "5c02428b-d26b-4100-c369-aeff2dc53e42"
      },
      "execution_count": 13,
      "outputs": [
        {
          "output_type": "display_data",
          "data": {
            "text/plain": [
              "Plot with title “Distribution of mental health status”"
            ],
            "image/png": "[encoded data removed]"
          },
          "metadata": {
            "image/png": {
              "width": 420,
              "height": 420
            }
          }
        }
      ]
    },
    {
      "cell_type": "code",
      "source": [
        "# converting categorical variable into a numerical format\n",
        "mydata_mental <- mydata_gender %>%\n",
        "  mutate(mental_health_sta = case_when(\n",
        "    tolower(trimws(mental_health_sta)) == \"poor\" ~ 0,\n",
        "    tolower(trimws(mental_health_sta)) == \"fair\" ~ 1,\n",
        "    tolower(trimws(mental_health_sta)) == \"good\" ~ 2,\n",
        "    tolower(trimws(mental_health_sta)) == \"excellent\" ~ 3,\n",
        "    TRUE ~ NA_real_  # This handles any unexpected values\n",
        "  ))"
      ],
      "metadata": {
        "id": "s35Mc6kHOGt5"
      },
      "execution_count": 14,
      "outputs": []
    },
    {
      "cell_type": "markdown",
      "source": [
        "##### **Stress_Level**"
      ],
      "metadata": {
        "id": "FwK9ugTkPnIv"
      }
    },
    {
      "cell_type": "code",
      "source": [
        "unique(mydata$stress_level)"
      ],
      "metadata": {
        "colab": {
          "base_uri": "https://localhost:8080/",
          "height": 34
        },
        "id": "7rZOKim0P7tg",
        "outputId": "ae676a96-d430-4bbf-a657-a30bd8476895"
      },
      "execution_count": 15,
      "outputs": [
        {
          "output_type": "display_data",
          "data": {
            "text/html": [
              "<style>\n",
              ".list-inline {list-style: none; margin:0; padding: 0}\n",
              ".list-inline>li {display: inline-block}\n",
              ".list-inline>li:not(:last-child)::after {content: \"\\00b7\"; padding: 0 .5ex}\n",
              "</style>\n",
              "<ol class=list-inline><li>'Low'</li><li>'High'</li><li>'Medium'</li></ol>\n"
            ],
            "text/markdown": "1. 'Low'\n2. 'High'\n3. 'Medium'\n\n\n",
            "text/latex": "\\begin{enumerate*}\n\\item 'Low'\n\\item 'High'\n\\item 'Medium'\n\\end{enumerate*}\n",
            "text/plain": [
              "[1] \"Low\"    \"High\"   \"Medium\""
            ]
          },
          "metadata": {}
        }
      ]
    },
    {
      "cell_type": "code",
      "source": [
        "table(mydata$stress_level)"
      ],
      "metadata": {
        "colab": {
          "base_uri": "https://localhost:8080/",
          "height": 69
        },
        "id": "ZJSB6BvvPrVj",
        "outputId": "b91ae76f-ecc5-4c10-a697-d00772378bbd"
      },
      "execution_count": 16,
      "outputs": [
        {
          "output_type": "display_data",
          "data": {
            "text/plain": [
              "\n",
              "  High    Low Medium \n",
              "  3330   3332   3338 "
            ]
          },
          "metadata": {}
        }
      ]
    },
    {
      "cell_type": "code",
      "source": [
        "## visualization of the data using bar plot\n",
        "# Calculate the frequency of each category in mental_health_sta\n",
        "mental_stress_counts <- table(mydata$stress_level)\n",
        "\n",
        "# Plot the distribution using a bar plot\n",
        "barplot(mental_stress_counts,\n",
        "        main = \"Distribution of stress level\",\n",
        "        xlab = \"Stress level\",\n",
        "        ylab = \"Frequency\",\n",
        "        col = \"skyblue\",\n",
        "        border = \"black\",\n",
        "        las = 1)  # las = 1 for horizontal labels"
      ],
      "metadata": {
        "colab": {
          "base_uri": "https://localhost:8080/",
          "height": 437
        },
        "id": "tDULAmioQFz1",
        "outputId": "2012e84b-2d99-429a-d591-f0cdaa347471"
      },
      "execution_count": 17,
      "outputs": [
        {
          "output_type": "display_data",
          "data": {
            "text/plain": [
              "Plot with title “Distribution of stress level”"
            ],
            "image/png": "[encoded data removed]"
          },
          "metadata": {
            "image/png": {
              "width": 420,
              "height": 420
            }
          }
        }
      ]
    },
    {
      "cell_type": "code",
      "source": [
        "# converting categorical variable into a numerical format\n",
        "mydata_stress <- mydata_mental %>%\n",
        "  mutate(stress_level = case_when(\n",
        "    tolower(trimws(stress_level)) == \"low\" ~ 0,\n",
        "    tolower(trimws(stress_level)) == \"medium\" ~ 1,\n",
        "    tolower(trimws(stress_level)) == \"high\" ~ 2,\n",
        "    TRUE ~ NA_real_  # This handles any unexpected values\n",
        "  ))\n",
        "\n",
        "# Display the first 10 rows of the modified data\n",
        "head(mydata_stress, 2)\n"
      ],
      "metadata": {
        "colab": {
          "base_uri": "https://localhost:8080/",
          "height": 181
        },
        "id": "RWCVl1TDQrfb",
        "outputId": "7c04f82c-1dd7-4d66-dd6a-70d431305e32"
      },
      "execution_count": 18,
      "outputs": [
        {
          "output_type": "display_data",
          "data": {
            "text/html": [
              "<table class=\"dataframe\">\n",
              "<caption>A tibble: 2 × 15</caption>\n",
              "<thead>\n",
              "\t<tr><th scope=col>age</th><th scope=col>tech_Hrs</th><th scope=col>social_Hrs</th><th scope=col>game_hrs</th><th scope=col>screen_time_hrs</th><th scope=col>mental_health_sta</th><th scope=col>stress_level</th><th scope=col>sleep_hrs</th><th scope=col>activity_hrs</th><th scope=col>support_sys_access</th><th scope=col>work_env_impact</th><th scope=col>online_use</th><th scope=col>male</th><th scope=col>female</th><th scope=col>other</th></tr>\n",
              "\t<tr><th scope=col>&lt;dbl&gt;</th><th scope=col>&lt;dbl&gt;</th><th scope=col>&lt;dbl&gt;</th><th scope=col>&lt;dbl&gt;</th><th scope=col>&lt;dbl&gt;</th><th scope=col>&lt;dbl&gt;</th><th scope=col>&lt;dbl&gt;</th><th scope=col>&lt;dbl&gt;</th><th scope=col>&lt;dbl&gt;</th><th scope=col>&lt;chr&gt;</th><th scope=col>&lt;chr&gt;</th><th scope=col>&lt;chr&gt;</th><th scope=col>&lt;dbl&gt;</th><th scope=col>&lt;dbl&gt;</th><th scope=col>&lt;dbl&gt;</th></tr>\n",
              "</thead>\n",
              "<tbody>\n",
              "\t<tr><td>23</td><td>6.57</td><td>6.00</td><td>0.68</td><td>12.36</td><td>2</td><td>0</td><td>8.01</td><td>6.71</td><td>No </td><td>Negative</td><td>Yes</td><td>0</td><td>1</td><td>0</td></tr>\n",
              "\t<tr><td>21</td><td>3.01</td><td>2.57</td><td>3.74</td><td> 7.61</td><td>0</td><td>2</td><td>7.28</td><td>5.88</td><td>Yes</td><td>Positive</td><td>No </td><td>1</td><td>0</td><td>0</td></tr>\n",
              "</tbody>\n",
              "</table>\n"
            ],
            "text/markdown": "\nA tibble: 2 × 15\n\n| age &lt;dbl&gt; | tech_Hrs &lt;dbl&gt; | social_Hrs &lt;dbl&gt; | game_hrs &lt;dbl&gt; | screen_time_hrs &lt;dbl&gt; | mental_health_sta &lt;dbl&gt; | stress_level &lt;dbl&gt; | sleep_hrs &lt;dbl&gt; | activity_hrs &lt;dbl&gt; | support_sys_access &lt;chr&gt; | work_env_impact &lt;chr&gt; | online_use &lt;chr&gt; | male &lt;dbl&gt; | female &lt;dbl&gt; | other &lt;dbl&gt; |\n|---|---|---|---|---|---|---|---|---|---|---|---|---|---|---|\n| 23 | 6.57 | 6.00 | 0.68 | 12.36 | 2 | 0 | 8.01 | 6.71 | No  | Negative | Yes | 0 | 1 | 0 |\n| 21 | 3.01 | 2.57 | 3.74 |  7.61 | 0 | 2 | 7.28 | 5.88 | Yes | Positive | No  | 1 | 0 | 0 |\n\n",
            "text/latex": "A tibble: 2 × 15\n\\begin{tabular}{lllllllllllllll}\n age & tech\\_Hrs & social\\_Hrs & game\\_hrs & screen\\_time\\_hrs & mental\\_health\\_sta & stress\\_level & sleep\\_hrs & activity\\_hrs & support\\_sys\\_access & work\\_env\\_impact & online\\_use & male & female & other\\\\\n <dbl> & <dbl> & <dbl> & <dbl> & <dbl> & <dbl> & <dbl> & <dbl> & <dbl> & <chr> & <chr> & <chr> & <dbl> & <dbl> & <dbl>\\\\\n\\hline\n\t 23 & 6.57 & 6.00 & 0.68 & 12.36 & 2 & 0 & 8.01 & 6.71 & No  & Negative & Yes & 0 & 1 & 0\\\\\n\t 21 & 3.01 & 2.57 & 3.74 &  7.61 & 0 & 2 & 7.28 & 5.88 & Yes & Positive & No  & 1 & 0 & 0\\\\\n\\end{tabular}\n",
            "text/plain": [
              "  age tech_Hrs social_Hrs game_hrs screen_time_hrs mental_health_sta\n",
              "1 23  6.57     6.00       0.68     12.36           2                \n",
              "2 21  3.01     2.57       3.74      7.61           0                \n",
              "  stress_level sleep_hrs activity_hrs support_sys_access work_env_impact\n",
              "1 0            8.01      6.71         No                 Negative       \n",
              "2 2            7.28      5.88         Yes                Positive       \n",
              "  online_use male female other\n",
              "1 Yes        0    1      0    \n",
              "2 No         1    0      0    "
            ]
          },
          "metadata": {}
        }
      ]
    },
    {
      "cell_type": "markdown",
      "source": [
        "##### **Support_Systems_Access**"
      ],
      "metadata": {
        "id": "0WGTUiS6RBB6"
      }
    },
    {
      "cell_type": "code",
      "source": [
        "# converting categorical to numerical variables\n",
        "mydata_support <- mydata_stress %>%\n",
        "  mutate(support_sys_access = case_when(\n",
        "    tolower(trimws(support_sys_access)) == \"no\" ~ 0,\n",
        "    tolower(trimws(support_sys_access)) == \"yes\" ~ 1,\n",
        "    TRUE ~ NA_real_  # This handles any unexpected values\n",
        "  ))\n",
        "\n",
        "# Display the first 10 rows of the modified data\n",
        "head(mydata_support, 2)\n"
      ],
      "metadata": {
        "colab": {
          "base_uri": "https://localhost:8080/",
          "height": 181
        },
        "id": "EY85HecKRIYJ",
        "outputId": "e4132976-0f65-41e7-a7c5-287b278f6c6b"
      },
      "execution_count": 19,
      "outputs": [
        {
          "output_type": "display_data",
          "data": {
            "text/html": [
              "<table class=\"dataframe\">\n",
              "<caption>A tibble: 2 × 15</caption>\n",
              "<thead>\n",
              "\t<tr><th scope=col>age</th><th scope=col>tech_Hrs</th><th scope=col>social_Hrs</th><th scope=col>game_hrs</th><th scope=col>screen_time_hrs</th><th scope=col>mental_health_sta</th><th scope=col>stress_level</th><th scope=col>sleep_hrs</th><th scope=col>activity_hrs</th><th scope=col>support_sys_access</th><th scope=col>work_env_impact</th><th scope=col>online_use</th><th scope=col>male</th><th scope=col>female</th><th scope=col>other</th></tr>\n",
              "\t<tr><th scope=col>&lt;dbl&gt;</th><th scope=col>&lt;dbl&gt;</th><th scope=col>&lt;dbl&gt;</th><th scope=col>&lt;dbl&gt;</th><th scope=col>&lt;dbl&gt;</th><th scope=col>&lt;dbl&gt;</th><th scope=col>&lt;dbl&gt;</th><th scope=col>&lt;dbl&gt;</th><th scope=col>&lt;dbl&gt;</th><th scope=col>&lt;dbl&gt;</th><th scope=col>&lt;chr&gt;</th><th scope=col>&lt;chr&gt;</th><th scope=col>&lt;dbl&gt;</th><th scope=col>&lt;dbl&gt;</th><th scope=col>&lt;dbl&gt;</th></tr>\n",
              "</thead>\n",
              "<tbody>\n",
              "\t<tr><td>23</td><td>6.57</td><td>6.00</td><td>0.68</td><td>12.36</td><td>2</td><td>0</td><td>8.01</td><td>6.71</td><td>0</td><td>Negative</td><td>Yes</td><td>0</td><td>1</td><td>0</td></tr>\n",
              "\t<tr><td>21</td><td>3.01</td><td>2.57</td><td>3.74</td><td> 7.61</td><td>0</td><td>2</td><td>7.28</td><td>5.88</td><td>1</td><td>Positive</td><td>No </td><td>1</td><td>0</td><td>0</td></tr>\n",
              "</tbody>\n",
              "</table>\n"
            ],
            "text/markdown": "\nA tibble: 2 × 15\n\n| age &lt;dbl&gt; | tech_Hrs &lt;dbl&gt; | social_Hrs &lt;dbl&gt; | game_hrs &lt;dbl&gt; | screen_time_hrs &lt;dbl&gt; | mental_health_sta &lt;dbl&gt; | stress_level &lt;dbl&gt; | sleep_hrs &lt;dbl&gt; | activity_hrs &lt;dbl&gt; | support_sys_access &lt;dbl&gt; | work_env_impact &lt;chr&gt; | online_use &lt;chr&gt; | male &lt;dbl&gt; | female &lt;dbl&gt; | other &lt;dbl&gt; |\n|---|---|---|---|---|---|---|---|---|---|---|---|---|---|---|\n| 23 | 6.57 | 6.00 | 0.68 | 12.36 | 2 | 0 | 8.01 | 6.71 | 0 | Negative | Yes | 0 | 1 | 0 |\n| 21 | 3.01 | 2.57 | 3.74 |  7.61 | 0 | 2 | 7.28 | 5.88 | 1 | Positive | No  | 1 | 0 | 0 |\n\n",
            "text/latex": "A tibble: 2 × 15\n\\begin{tabular}{lllllllllllllll}\n age & tech\\_Hrs & social\\_Hrs & game\\_hrs & screen\\_time\\_hrs & mental\\_health\\_sta & stress\\_level & sleep\\_hrs & activity\\_hrs & support\\_sys\\_access & work\\_env\\_impact & online\\_use & male & female & other\\\\\n <dbl> & <dbl> & <dbl> & <dbl> & <dbl> & <dbl> & <dbl> & <dbl> & <dbl> & <dbl> & <chr> & <chr> & <dbl> & <dbl> & <dbl>\\\\\n\\hline\n\t 23 & 6.57 & 6.00 & 0.68 & 12.36 & 2 & 0 & 8.01 & 6.71 & 0 & Negative & Yes & 0 & 1 & 0\\\\\n\t 21 & 3.01 & 2.57 & 3.74 &  7.61 & 0 & 2 & 7.28 & 5.88 & 1 & Positive & No  & 1 & 0 & 0\\\\\n\\end{tabular}\n",
            "text/plain": [
              "  age tech_Hrs social_Hrs game_hrs screen_time_hrs mental_health_sta\n",
              "1 23  6.57     6.00       0.68     12.36           2                \n",
              "2 21  3.01     2.57       3.74      7.61           0                \n",
              "  stress_level sleep_hrs activity_hrs support_sys_access work_env_impact\n",
              "1 0            8.01      6.71         0                  Negative       \n",
              "2 2            7.28      5.88         1                  Positive       \n",
              "  online_use male female other\n",
              "1 Yes        0    1      0    \n",
              "2 No         1    0      0    "
            ]
          },
          "metadata": {}
        }
      ]
    },
    {
      "cell_type": "markdown",
      "source": [
        "##### **Work_Environment_Impact**"
      ],
      "metadata": {
        "id": "_5QiM-M_RVVi"
      }
    },
    {
      "cell_type": "code",
      "source": [
        "mydata_env <- mydata_support %>%\n",
        "  mutate(work_env_impact = case_when(\n",
        "    tolower(trimws(work_env_impact)) == \"negative\" ~ 0,\n",
        "    tolower(trimws(work_env_impact)) == \"neutral\" ~ 1,\n",
        "    tolower(trimws(work_env_impact)) == \"positive\" ~ 2,\n",
        "    TRUE ~ NA_real_  # This handles any unexpected values\n",
        "  ))\n",
        "\n",
        "# Display the first 10 rows of the modified data\n",
        "head(mydata_env, 2)"
      ],
      "metadata": {
        "colab": {
          "base_uri": "https://localhost:8080/",
          "height": 181
        },
        "id": "PSEzJGFjRPlK",
        "outputId": "f8ac7e18-81f7-4cfb-dd90-ee00cac090e6"
      },
      "execution_count": 20,
      "outputs": [
        {
          "output_type": "display_data",
          "data": {
            "text/html": [
              "<table class=\"dataframe\">\n",
              "<caption>A tibble: 2 × 15</caption>\n",
              "<thead>\n",
              "\t<tr><th scope=col>age</th><th scope=col>tech_Hrs</th><th scope=col>social_Hrs</th><th scope=col>game_hrs</th><th scope=col>screen_time_hrs</th><th scope=col>mental_health_sta</th><th scope=col>stress_level</th><th scope=col>sleep_hrs</th><th scope=col>activity_hrs</th><th scope=col>support_sys_access</th><th scope=col>work_env_impact</th><th scope=col>online_use</th><th scope=col>male</th><th scope=col>female</th><th scope=col>other</th></tr>\n",
              "\t<tr><th scope=col>&lt;dbl&gt;</th><th scope=col>&lt;dbl&gt;</th><th scope=col>&lt;dbl&gt;</th><th scope=col>&lt;dbl&gt;</th><th scope=col>&lt;dbl&gt;</th><th scope=col>&lt;dbl&gt;</th><th scope=col>&lt;dbl&gt;</th><th scope=col>&lt;dbl&gt;</th><th scope=col>&lt;dbl&gt;</th><th scope=col>&lt;dbl&gt;</th><th scope=col>&lt;dbl&gt;</th><th scope=col>&lt;chr&gt;</th><th scope=col>&lt;dbl&gt;</th><th scope=col>&lt;dbl&gt;</th><th scope=col>&lt;dbl&gt;</th></tr>\n",
              "</thead>\n",
              "<tbody>\n",
              "\t<tr><td>23</td><td>6.57</td><td>6.00</td><td>0.68</td><td>12.36</td><td>2</td><td>0</td><td>8.01</td><td>6.71</td><td>0</td><td>0</td><td>Yes</td><td>0</td><td>1</td><td>0</td></tr>\n",
              "\t<tr><td>21</td><td>3.01</td><td>2.57</td><td>3.74</td><td> 7.61</td><td>0</td><td>2</td><td>7.28</td><td>5.88</td><td>1</td><td>2</td><td>No </td><td>1</td><td>0</td><td>0</td></tr>\n",
              "</tbody>\n",
              "</table>\n"
            ],
            "text/markdown": "\nA tibble: 2 × 15\n\n| age &lt;dbl&gt; | tech_Hrs &lt;dbl&gt; | social_Hrs &lt;dbl&gt; | game_hrs &lt;dbl&gt; | screen_time_hrs &lt;dbl&gt; | mental_health_sta &lt;dbl&gt; | stress_level &lt;dbl&gt; | sleep_hrs &lt;dbl&gt; | activity_hrs &lt;dbl&gt; | support_sys_access &lt;dbl&gt; | work_env_impact &lt;dbl&gt; | online_use &lt;chr&gt; | male &lt;dbl&gt; | female &lt;dbl&gt; | other &lt;dbl&gt; |\n|---|---|---|---|---|---|---|---|---|---|---|---|---|---|---|\n| 23 | 6.57 | 6.00 | 0.68 | 12.36 | 2 | 0 | 8.01 | 6.71 | 0 | 0 | Yes | 0 | 1 | 0 |\n| 21 | 3.01 | 2.57 | 3.74 |  7.61 | 0 | 2 | 7.28 | 5.88 | 1 | 2 | No  | 1 | 0 | 0 |\n\n",
            "text/latex": "A tibble: 2 × 15\n\\begin{tabular}{lllllllllllllll}\n age & tech\\_Hrs & social\\_Hrs & game\\_hrs & screen\\_time\\_hrs & mental\\_health\\_sta & stress\\_level & sleep\\_hrs & activity\\_hrs & support\\_sys\\_access & work\\_env\\_impact & online\\_use & male & female & other\\\\\n <dbl> & <dbl> & <dbl> & <dbl> & <dbl> & <dbl> & <dbl> & <dbl> & <dbl> & <dbl> & <dbl> & <chr> & <dbl> & <dbl> & <dbl>\\\\\n\\hline\n\t 23 & 6.57 & 6.00 & 0.68 & 12.36 & 2 & 0 & 8.01 & 6.71 & 0 & 0 & Yes & 0 & 1 & 0\\\\\n\t 21 & 3.01 & 2.57 & 3.74 &  7.61 & 0 & 2 & 7.28 & 5.88 & 1 & 2 & No  & 1 & 0 & 0\\\\\n\\end{tabular}\n",
            "text/plain": [
              "  age tech_Hrs social_Hrs game_hrs screen_time_hrs mental_health_sta\n",
              "1 23  6.57     6.00       0.68     12.36           2                \n",
              "2 21  3.01     2.57       3.74      7.61           0                \n",
              "  stress_level sleep_hrs activity_hrs support_sys_access work_env_impact\n",
              "1 0            8.01      6.71         0                  0              \n",
              "2 2            7.28      5.88         1                  2              \n",
              "  online_use male female other\n",
              "1 Yes        0    1      0    \n",
              "2 No         1    0      0    "
            ]
          },
          "metadata": {}
        }
      ]
    },
    {
      "cell_type": "markdown",
      "source": [
        "##### **Online_Support_Usage**"
      ],
      "metadata": {
        "id": "13UmePP4RXY3"
      }
    },
    {
      "cell_type": "code",
      "source": [
        "mydata_online <- mydata_env %>%\n",
        "  mutate(online_use = case_when(\n",
        "    tolower(trimws(online_use)) == \"no\" ~ 0,\n",
        "    tolower(trimws(online_use)) == \"yes\" ~ 1,\n",
        "    TRUE ~ NA_real_  # This handles any unexpected values\n",
        "  ))\n",
        "\n",
        "# Display the first 10 rows of the modified data\n",
        "head(mydata_online, 2)"
      ],
      "metadata": {
        "colab": {
          "base_uri": "https://localhost:8080/",
          "height": 181
        },
        "id": "c2aM8jSfRbXq",
        "outputId": "1b3cf575-1358-4a6a-a71a-4fb27cc6517d"
      },
      "execution_count": 21,
      "outputs": [
        {
          "output_type": "display_data",
          "data": {
            "text/html": [
              "<table class=\"dataframe\">\n",
              "<caption>A tibble: 2 × 15</caption>\n",
              "<thead>\n",
              "\t<tr><th scope=col>age</th><th scope=col>tech_Hrs</th><th scope=col>social_Hrs</th><th scope=col>game_hrs</th><th scope=col>screen_time_hrs</th><th scope=col>mental_health_sta</th><th scope=col>stress_level</th><th scope=col>sleep_hrs</th><th scope=col>activity_hrs</th><th scope=col>support_sys_access</th><th scope=col>work_env_impact</th><th scope=col>online_use</th><th scope=col>male</th><th scope=col>female</th><th scope=col>other</th></tr>\n",
              "\t<tr><th scope=col>&lt;dbl&gt;</th><th scope=col>&lt;dbl&gt;</th><th scope=col>&lt;dbl&gt;</th><th scope=col>&lt;dbl&gt;</th><th scope=col>&lt;dbl&gt;</th><th scope=col>&lt;dbl&gt;</th><th scope=col>&lt;dbl&gt;</th><th scope=col>&lt;dbl&gt;</th><th scope=col>&lt;dbl&gt;</th><th scope=col>&lt;dbl&gt;</th><th scope=col>&lt;dbl&gt;</th><th scope=col>&lt;dbl&gt;</th><th scope=col>&lt;dbl&gt;</th><th scope=col>&lt;dbl&gt;</th><th scope=col>&lt;dbl&gt;</th></tr>\n",
              "</thead>\n",
              "<tbody>\n",
              "\t<tr><td>23</td><td>6.57</td><td>6.00</td><td>0.68</td><td>12.36</td><td>2</td><td>0</td><td>8.01</td><td>6.71</td><td>0</td><td>0</td><td>1</td><td>0</td><td>1</td><td>0</td></tr>\n",
              "\t<tr><td>21</td><td>3.01</td><td>2.57</td><td>3.74</td><td> 7.61</td><td>0</td><td>2</td><td>7.28</td><td>5.88</td><td>1</td><td>2</td><td>0</td><td>1</td><td>0</td><td>0</td></tr>\n",
              "</tbody>\n",
              "</table>\n"
            ],
            "text/markdown": "\nA tibble: 2 × 15\n\n| age &lt;dbl&gt; | tech_Hrs &lt;dbl&gt; | social_Hrs &lt;dbl&gt; | game_hrs &lt;dbl&gt; | screen_time_hrs &lt;dbl&gt; | mental_health_sta &lt;dbl&gt; | stress_level &lt;dbl&gt; | sleep_hrs &lt;dbl&gt; | activity_hrs &lt;dbl&gt; | support_sys_access &lt;dbl&gt; | work_env_impact &lt;dbl&gt; | online_use &lt;dbl&gt; | male &lt;dbl&gt; | female &lt;dbl&gt; | other &lt;dbl&gt; |\n|---|---|---|---|---|---|---|---|---|---|---|---|---|---|---|\n| 23 | 6.57 | 6.00 | 0.68 | 12.36 | 2 | 0 | 8.01 | 6.71 | 0 | 0 | 1 | 0 | 1 | 0 |\n| 21 | 3.01 | 2.57 | 3.74 |  7.61 | 0 | 2 | 7.28 | 5.88 | 1 | 2 | 0 | 1 | 0 | 0 |\n\n",
            "text/latex": "A tibble: 2 × 15\n\\begin{tabular}{lllllllllllllll}\n age & tech\\_Hrs & social\\_Hrs & game\\_hrs & screen\\_time\\_hrs & mental\\_health\\_sta & stress\\_level & sleep\\_hrs & activity\\_hrs & support\\_sys\\_access & work\\_env\\_impact & online\\_use & male & female & other\\\\\n <dbl> & <dbl> & <dbl> & <dbl> & <dbl> & <dbl> & <dbl> & <dbl> & <dbl> & <dbl> & <dbl> & <dbl> & <dbl> & <dbl> & <dbl>\\\\\n\\hline\n\t 23 & 6.57 & 6.00 & 0.68 & 12.36 & 2 & 0 & 8.01 & 6.71 & 0 & 0 & 1 & 0 & 1 & 0\\\\\n\t 21 & 3.01 & 2.57 & 3.74 &  7.61 & 0 & 2 & 7.28 & 5.88 & 1 & 2 & 0 & 1 & 0 & 0\\\\\n\\end{tabular}\n",
            "text/plain": [
              "  age tech_Hrs social_Hrs game_hrs screen_time_hrs mental_health_sta\n",
              "1 23  6.57     6.00       0.68     12.36           2                \n",
              "2 21  3.01     2.57       3.74      7.61           0                \n",
              "  stress_level sleep_hrs activity_hrs support_sys_access work_env_impact\n",
              "1 0            8.01      6.71         0                  0              \n",
              "2 2            7.28      5.88         1                  2              \n",
              "  online_use male female other\n",
              "1 1          0    1      0    \n",
              "2 0          1    0      0    "
            ]
          },
          "metadata": {}
        }
      ]
    },
    {
      "cell_type": "markdown",
      "source": [
        "In the above code, I examine the details of categorical variables such as `gender`, `Mental_Health_Status`, `Stress_Level`, `Support_Systems_Access`, `Work_Environment_Impact`, and `Online_Support_Usage`. I then visualize these variables and convert them into numerical values to prepare the data for analysis."
      ],
      "metadata": {
        "id": "-E_GH-3BV01y"
      }
    },
    {
      "cell_type": "code",
      "source": [
        "# copy the data\n",
        "library(data.table)\n",
        "data <- copy(mydata_online)\n",
        "head(data,2)"
      ],
      "metadata": {
        "colab": {
          "base_uri": "https://localhost:8080/",
          "height": 181
        },
        "id": "1eomw2SmSbri",
        "outputId": "e3a53cf4-b2cc-43d3-d583-a6b76aa943ca"
      },
      "execution_count": 22,
      "outputs": [
        {
          "output_type": "display_data",
          "data": {
            "text/html": [
              "<table class=\"dataframe\">\n",
              "<caption>A tibble: 2 × 15</caption>\n",
              "<thead>\n",
              "\t<tr><th scope=col>age</th><th scope=col>tech_Hrs</th><th scope=col>social_Hrs</th><th scope=col>game_hrs</th><th scope=col>screen_time_hrs</th><th scope=col>mental_health_sta</th><th scope=col>stress_level</th><th scope=col>sleep_hrs</th><th scope=col>activity_hrs</th><th scope=col>support_sys_access</th><th scope=col>work_env_impact</th><th scope=col>online_use</th><th scope=col>male</th><th scope=col>female</th><th scope=col>other</th></tr>\n",
              "\t<tr><th scope=col>&lt;dbl&gt;</th><th scope=col>&lt;dbl&gt;</th><th scope=col>&lt;dbl&gt;</th><th scope=col>&lt;dbl&gt;</th><th scope=col>&lt;dbl&gt;</th><th scope=col>&lt;dbl&gt;</th><th scope=col>&lt;dbl&gt;</th><th scope=col>&lt;dbl&gt;</th><th scope=col>&lt;dbl&gt;</th><th scope=col>&lt;dbl&gt;</th><th scope=col>&lt;dbl&gt;</th><th scope=col>&lt;dbl&gt;</th><th scope=col>&lt;dbl&gt;</th><th scope=col>&lt;dbl&gt;</th><th scope=col>&lt;dbl&gt;</th></tr>\n",
              "</thead>\n",
              "<tbody>\n",
              "\t<tr><td>23</td><td>6.57</td><td>6.00</td><td>0.68</td><td>12.36</td><td>2</td><td>0</td><td>8.01</td><td>6.71</td><td>0</td><td>0</td><td>1</td><td>0</td><td>1</td><td>0</td></tr>\n",
              "\t<tr><td>21</td><td>3.01</td><td>2.57</td><td>3.74</td><td> 7.61</td><td>0</td><td>2</td><td>7.28</td><td>5.88</td><td>1</td><td>2</td><td>0</td><td>1</td><td>0</td><td>0</td></tr>\n",
              "</tbody>\n",
              "</table>\n"
            ],
            "text/markdown": "\nA tibble: 2 × 15\n\n| age &lt;dbl&gt; | tech_Hrs &lt;dbl&gt; | social_Hrs &lt;dbl&gt; | game_hrs &lt;dbl&gt; | screen_time_hrs &lt;dbl&gt; | mental_health_sta &lt;dbl&gt; | stress_level &lt;dbl&gt; | sleep_hrs &lt;dbl&gt; | activity_hrs &lt;dbl&gt; | support_sys_access &lt;dbl&gt; | work_env_impact &lt;dbl&gt; | online_use &lt;dbl&gt; | male &lt;dbl&gt; | female &lt;dbl&gt; | other &lt;dbl&gt; |\n|---|---|---|---|---|---|---|---|---|---|---|---|---|---|---|\n| 23 | 6.57 | 6.00 | 0.68 | 12.36 | 2 | 0 | 8.01 | 6.71 | 0 | 0 | 1 | 0 | 1 | 0 |\n| 21 | 3.01 | 2.57 | 3.74 |  7.61 | 0 | 2 | 7.28 | 5.88 | 1 | 2 | 0 | 1 | 0 | 0 |\n\n",
            "text/latex": "A tibble: 2 × 15\n\\begin{tabular}{lllllllllllllll}\n age & tech\\_Hrs & social\\_Hrs & game\\_hrs & screen\\_time\\_hrs & mental\\_health\\_sta & stress\\_level & sleep\\_hrs & activity\\_hrs & support\\_sys\\_access & work\\_env\\_impact & online\\_use & male & female & other\\\\\n <dbl> & <dbl> & <dbl> & <dbl> & <dbl> & <dbl> & <dbl> & <dbl> & <dbl> & <dbl> & <dbl> & <dbl> & <dbl> & <dbl> & <dbl>\\\\\n\\hline\n\t 23 & 6.57 & 6.00 & 0.68 & 12.36 & 2 & 0 & 8.01 & 6.71 & 0 & 0 & 1 & 0 & 1 & 0\\\\\n\t 21 & 3.01 & 2.57 & 3.74 &  7.61 & 0 & 2 & 7.28 & 5.88 & 1 & 2 & 0 & 1 & 0 & 0\\\\\n\\end{tabular}\n",
            "text/plain": [
              "  age tech_Hrs social_Hrs game_hrs screen_time_hrs mental_health_sta\n",
              "1 23  6.57     6.00       0.68     12.36           2                \n",
              "2 21  3.01     2.57       3.74      7.61           0                \n",
              "  stress_level sleep_hrs activity_hrs support_sys_access work_env_impact\n",
              "1 0            8.01      6.71         0                  0              \n",
              "2 2            7.28      5.88         1                  2              \n",
              "  online_use male female other\n",
              "1 1          0    1      0    \n",
              "2 0          1    0      0    "
            ]
          },
          "metadata": {}
        }
      ]
    },
    {
      "cell_type": "markdown",
      "source": [
        "#### **Numerical Variables**\n",
        "\n",
        "##### To gain insights into the numerical variables, I visualize them for better understanding."
      ],
      "metadata": {
        "id": "4_YG-9J5YslV"
      }
    },
    {
      "cell_type": "code",
      "source": [
        "## Histogram plotting\n",
        "# Set up a 2x2 plot layout\n",
        "par(mfrow = c(2, 2))\n",
        "\n",
        "# Plot histograms for each variable\n",
        "hist(mydata$tech_Hrs, main = \"Technology Usage Hours\", xlab = \"Hours\", col = \"skyblue\", border = \"black\")\n",
        "hist(mydata$social_Hrs, main = \"Social Media Usage Hours\", xlab = \"Hours\", col = \"lightgreen\", border = \"black\")\n",
        "hist(mydata$game_hrs, main = \"Gaming Hours\", xlab = \"Hours\", col = \"lightcoral\", border = \"black\")\n",
        "hist(mydata$screen_time_hrs, main = \"Screen Time Hours\", xlab = \"Hours\", col = \"lightpink\", border = \"black\")\n"
      ],
      "metadata": {
        "colab": {
          "base_uri": "https://localhost:8080/",
          "height": 437
        },
        "id": "sT1nOqRmRwrY",
        "outputId": "7b4e56ff-5f05-4521-9183-40d9cbddf11a"
      },
      "execution_count": 23,
      "outputs": [
        {
          "output_type": "display_data",
          "data": {
            "text/plain": [
              "Plot with title “Screen Time Hours”"
            ],
            "image/png": "[encoded data removed]"
          },
          "metadata": {
            "image/png": {
              "width": 420,
              "height": 420
            }
          }
        }
      ]
    },
    {
      "cell_type": "markdown",
      "source": [
        "##### **Boxplot for detecting outliers**"
      ],
      "metadata": {
        "id": "qK-m2SJdSGxS"
      }
    },
    {
      "cell_type": "code",
      "source": [
        "# Set up a 2x2 plot layout\n",
        "par(mfrow = c(2, 2))\n",
        "\n",
        "# Plot box plots for each variable to detect outliers\n",
        "boxplot(mydata$tech_Hrs, main = \"Technology Usage Hours\", ylab = \"Hours\", col = \"skyblue\", border = \"black\")\n",
        "boxplot(mydata$social_Hrs, main = \"Social Media Usage Hours\", ylab = \"Hours\", col = \"lightgreen\", border = \"black\")\n",
        "boxplot(mydata$game_hrs, main = \"Gaming Hours\", ylab = \"Hours\", col = \"lightcoral\", border = \"black\")\n",
        "boxplot(mydata$screen_time_hrs, main = \"Screen Time Hours\", ylab = \"Hours\", col = \"lightpink\", border = \"black\")\n"
      ],
      "metadata": {
        "colab": {
          "base_uri": "https://localhost:8080/",
          "height": 437
        },
        "id": "dMrGJxVrSF39",
        "outputId": "7130f76e-4fcd-45b0-aad3-d07d2d63770d"
      },
      "execution_count": 24,
      "outputs": [
        {
          "output_type": "display_data",
          "data": {
            "text/plain": [
              "Plot with title “Screen Time Hours”"
            ],
            "image/png": "[encoded data removed]"
          },
          "metadata": {
            "image/png": {
              "width": 420,
              "height": 420
            }
          }
        }
      ]
    },
    {
      "cell_type": "markdown",
      "source": [
        "Above four numerical variables contain no outliers."
      ],
      "metadata": {
        "id": "FEyYZJDZariX"
      }
    },
    {
      "cell_type": "code",
      "source": [
        "# summary statistics\n",
        "# Print a label, then the summary\n",
        "cat(\"Summary of the data:\\n\")\n",
        "summary(data)"
      ],
      "metadata": {
        "colab": {
          "base_uri": "https://localhost:8080/",
          "height": 520
        },
        "id": "XH-nC4DRTKl_",
        "outputId": "827c1ae6-4781-4080-bd9d-db79f1e507c6"
      },
      "execution_count": 25,
      "outputs": [
        {
          "output_type": "stream",
          "name": "stdout",
          "text": [
            "Summary of the data:\n"
          ]
        },
        {
          "output_type": "display_data",
          "data": {
            "text/plain": [
              "      age           tech_Hrs        social_Hrs       game_hrs    \n",
              " Min.   :18.00   Min.   : 1.000   Min.   :0.000   Min.   :0.000  \n",
              " 1st Qu.:29.00   1st Qu.: 3.760   1st Qu.:1.980   1st Qu.:1.260  \n",
              " Median :42.00   Median : 6.425   Median :3.950   Median :2.520  \n",
              " Mean   :41.52   Mean   : 6.474   Mean   :3.972   Mean   :2.516  \n",
              " 3rd Qu.:54.00   3rd Qu.: 9.213   3rd Qu.:5.990   3rd Qu.:3.790  \n",
              " Max.   :65.00   Max.   :12.000   Max.   :8.000   Max.   :5.000  \n",
              " screen_time_hrs  mental_health_sta  stress_level      sleep_hrs    \n",
              " Min.   : 1.000   Min.   :0.000     Min.   :0.0000   Min.   :4.000  \n",
              " 1st Qu.: 4.520   1st Qu.:1.000     1st Qu.:0.0000   1st Qu.:5.260  \n",
              " Median : 7.900   Median :2.000     Median :1.0000   Median :6.500  \n",
              " Mean   : 7.976   Mean   :1.506     Mean   :0.9998   Mean   :6.501  \n",
              " 3rd Qu.:11.500   3rd Qu.:3.000     3rd Qu.:2.0000   3rd Qu.:7.760  \n",
              " Max.   :15.000   Max.   :3.000     Max.   :2.0000   Max.   :9.000  \n",
              "  activity_hrs    support_sys_access work_env_impact    online_use    \n",
              " Min.   : 0.000   Min.   :0.0000     Min.   :0.0000   Min.   :0.0000  \n",
              " 1st Qu.: 2.490   1st Qu.:0.0000     1st Qu.:0.0000   1st Qu.:0.0000  \n",
              " Median : 4.990   Median :0.0000     Median :1.0000   Median :0.0000  \n",
              " Mean   : 5.004   Mean   :0.4994     Mean   :0.9932   Mean   :0.4987  \n",
              " 3rd Qu.: 7.540   3rd Qu.:1.0000     3rd Qu.:2.0000   3rd Qu.:1.0000  \n",
              " Max.   :10.000   Max.   :1.0000     Max.   :2.0000   Max.   :1.0000  \n",
              "      male           female           other       \n",
              " Min.   :0.000   Min.   :0.0000   Min.   :0.0000  \n",
              " 1st Qu.:0.000   1st Qu.:0.0000   1st Qu.:0.0000  \n",
              " Median :0.000   Median :0.0000   Median :0.0000  \n",
              " Mean   :0.335   Mean   :0.3286   Mean   :0.3364  \n",
              " 3rd Qu.:1.000   3rd Qu.:1.0000   3rd Qu.:1.0000  \n",
              " Max.   :1.000   Max.   :1.0000   Max.   :1.0000  "
            ]
          },
          "metadata": {}
        }
      ]
    },
    {
      "cell_type": "markdown",
      "source": [
        "After data manipulation, I review the summary of the dataset to gain a better understanding of its structure and content."
      ],
      "metadata": {
        "id": "Tm20qADRa4dq"
      }
    },
    {
      "cell_type": "markdown",
      "source": [
        "### **Visualize the relationship between technology usage and mental health**"
      ],
      "metadata": {
        "id": "36lU5S_0e3oG"
      }
    },
    {
      "cell_type": "code",
      "source": [
        "# Density plot of tech usage by mental health status\n",
        "ggplot(data, aes(x = tech_Hrs, fill = mental_health_sta)) +\n",
        "    geom_density(alpha = 0.6) +\n",
        "    labs(title = \"Technology Usage Distribution by Mental Health Status\", x = \"Technology Usage (hours)\", y = \"Density\")\n"
      ],
      "metadata": {
        "colab": {
          "base_uri": "https://localhost:8080/",
          "height": 541
        },
        "id": "5eOXBmd7eyq1",
        "outputId": "fe21b672-316b-429b-e7c9-e7e686b75ed8"
      },
      "execution_count": 26,
      "outputs": [
        {
          "output_type": "stream",
          "name": "stderr",
          "text": [
            "Warning message:\n",
            "“\u001b[1m\u001b[22mThe following aesthetics were dropped during statistical transformation: \u001b[32mfill\u001b[39m.\n",
            "\u001b[36mℹ\u001b[39m This can happen when ggplot fails to infer the correct grouping structure in\n",
            "  the data.\n",
            "\u001b[36mℹ\u001b[39m Did you forget to specify a `group` aesthetic or to convert a numerical\n",
            "  variable into a factor?”\n"
          ]
        },
        {
          "output_type": "display_data",
          "data": {
            "text/plain": [
              "plot without title"
            ],
            "image/png": "[encoded data removed]"
          },
          "metadata": {
            "image/png": {
              "width": 420,
              "height": 420
            }
          }
        }
      ]
    },
    {
      "cell_type": "code",
      "source": [
        "# Pair Plot (Scatterplot Matrix)\n",
        "\n",
        "ggpairs(data[, c(\"tech_Hrs\", \"social_Hrs\", \"game_hrs\", \"screen_time_hrs\", \"stress_level\", \"sleep_hrs\")])\n"
      ],
      "metadata": {
        "colab": {
          "base_uri": "https://localhost:8080/",
          "height": 437
        },
        "id": "Pj1jhNqlf1lr",
        "outputId": "a9aa468e-2014-41d2-92bf-452c3bb69d59"
      },
      "execution_count": 27,
      "outputs": [
        {
          "output_type": "display_data",
          "data": {
            "text/plain": [
              "plot without title"
            ],
            "image/png": "[encoded data removed]"
          },
          "metadata": {
            "image/png": {
              "width": 420,
              "height": 420
            }
          }
        }
      ]
    },
    {
      "cell_type": "markdown",
      "source": [
        "### **Identify Behavioral Patterns Influencing Wellness**"
      ],
      "metadata": {
        "id": "4RV31RqcP9Dz"
      }
    },
    {
      "cell_type": "code",
      "source": [
        "## Box plot\n",
        "ggplot(mydata, aes(x = as.factor(mental_health_sta), y = activity_hrs)) +\n",
        "  geom_boxplot() +\n",
        "  labs(title = \"Physical Activity Hours by Mental Health Status\", x = \"Mental Health Status\", y = \"Activity Hours\")\n"
      ],
      "metadata": {
        "colab": {
          "base_uri": "https://localhost:8080/",
          "height": 437
        },
        "id": "XGpPcnwzQA5w",
        "outputId": "a74eebc3-552c-4f87-eacb-6c0cbd5658dd"
      },
      "execution_count": 28,
      "outputs": [
        {
          "output_type": "display_data",
          "data": {
            "text/plain": [
              "plot without title"
            ],
            "image/png": "[encoded data removed]"
          },
          "metadata": {
            "image/png": {
              "width": 420,
              "height": 420
            }
          }
        }
      ]
    },
    {
      "cell_type": "markdown",
      "source": [
        "Use box plots to examine activity_hrs (physical activity hours) across mental_health_sta categories to see how physical activity relates to mental health status."
      ],
      "metadata": {
        "id": "xm-r6BaCQmbL"
      }
    },
    {
      "cell_type": "code",
      "source": [
        "## Scatter Plot with Faceting\n",
        "ggplot(mydata, aes(x = tech_Hrs, y = stress_level)) +\n",
        "  geom_point() +\n",
        "  facet_wrap(~ work_env_impact) +\n",
        "  labs(title = \"Technology Usage vs. Stress Level by Work Environment Impact\")\n"
      ],
      "metadata": {
        "colab": {
          "base_uri": "https://localhost:8080/",
          "height": 437
        },
        "id": "HA0hFQ9qRklU",
        "outputId": "f9e4e2f6-e43e-45c3-ec71-e8b45b93f7cf"
      },
      "execution_count": 29,
      "outputs": [
        {
          "output_type": "display_data",
          "data": {
            "text/plain": [
              "plot without title"
            ],
            "image/png": "[encoded data removed]"
          },
          "metadata": {
            "image/png": {
              "width": 420,
              "height": 420
            }
          }
        }
      ]
    },
    {
      "cell_type": "markdown",
      "source": [
        "A scatter plot of `tech_Hrs` (technology usage hours) versus `stress_level`, faceted by `work_env_impact`."
      ],
      "metadata": {
        "id": "8imKh-r7SMtu"
      }
    },
    {
      "cell_type": "code",
      "source": [
        "## Heatmaps\n",
        "ggplot(mydata_stress, aes(x = work_env_impact, y = support_sys_access, fill = stress_level)) +\n",
        "  geom_tile() +\n",
        "  scale_fill_gradient(low = \"lightblue\", high = \"red\") +\n",
        "  labs(title = \"Stress Level by Work Environment and Support Access\")\n"
      ],
      "metadata": {
        "colab": {
          "base_uri": "https://localhost:8080/",
          "height": 437
        },
        "id": "tB5xCmrFQ_Ra",
        "outputId": "65f64e55-53c9-4f11-a31a-000f0105d1db"
      },
      "execution_count": 30,
      "outputs": [
        {
          "output_type": "display_data",
          "data": {
            "text/plain": [
              "plot without title"
            ],
            "image/png": "[encoded data removed]"
          },
          "metadata": {
            "image/png": {
              "width": 420,
              "height": 420
            }
          }
        }
      ]
    },
    {
      "cell_type": "markdown",
      "source": [
        "A heatmap to visualize the interaction between `work_env_impact` and `support_sys_access`, with color intensity representing average `stress_level`."
      ],
      "metadata": {
        "id": "z5C0-vmxSz6c"
      }
    },
    {
      "cell_type": "markdown",
      "source": [
        "### **Feature importance**\n",
        "\n",
        "I analyze the feature importance to identify the most correlated features, helping to understand which variables have the greatest impact on the target variable `mental_health_status`. By reviewing the feature importance, I can prioritize the most influential features, potentially reducing noise and improving the overall performance of the model."
      ],
      "metadata": {
        "id": "kvhCFbyUymCx"
      }
    },
    {
      "cell_type": "code",
      "source": [
        "## applying xgboost model for feature selection of the model\n",
        "\n",
        "# Prepare data\n",
        "data_matrix <- as.matrix(data[, -which(names(data) == \"mental_health_sta\")])\n",
        "label <- data$mental_health_sta\n",
        "\n",
        "# Fit the XGBoost model\n",
        "model <- xgboost(data = data_matrix, label = label, nrounds = 100, objective = \"reg:squarederror\")\n",
        "\n",
        "# Feature importance\n",
        "importance_matrix <- xgb.importance(model = model)\n",
        "print(importance_matrix)\n"
      ],
      "metadata": {
        "colab": {
          "base_uri": "https://localhost:8080/"
        },
        "id": "tGkIOpmYaeEC",
        "outputId": "8f597bb6-aee6-4c51-c45c-7590784f8b46"
      },
      "execution_count": 31,
      "outputs": [
        {
          "output_type": "stream",
          "name": "stdout",
          "text": [
            "[1]\ttrain-rmse:1.315922 \n",
            "[2]\ttrain-rmse:1.209783 \n",
            "[3]\ttrain-rmse:1.149801 \n",
            "[4]\ttrain-rmse:1.118422 \n",
            "[5]\ttrain-rmse:1.098672 \n",
            "[6]\ttrain-rmse:1.086403 \n",
            "[7]\ttrain-rmse:1.080556 \n",
            "[8]\ttrain-rmse:1.071047 \n",
            "[9]\ttrain-rmse:1.067106 \n",
            "[10]\ttrain-rmse:1.058471 \n",
            "[11]\ttrain-rmse:1.049723 \n",
            "[12]\ttrain-rmse:1.042654 \n",
            "[13]\ttrain-rmse:1.040423 \n",
            "[14]\ttrain-rmse:1.039237 \n",
            "[15]\ttrain-rmse:1.032995 \n",
            "[16]\ttrain-rmse:1.029657 \n",
            "[17]\ttrain-rmse:1.026887 \n",
            "[18]\ttrain-rmse:1.021691 \n",
            "[19]\ttrain-rmse:1.018446 \n",
            "[20]\ttrain-rmse:1.014238 \n",
            "[21]\ttrain-rmse:1.008743 \n",
            "[22]\ttrain-rmse:1.003892 \n",
            "[23]\ttrain-rmse:1.001317 \n",
            "[24]\ttrain-rmse:0.997954 \n",
            "[25]\ttrain-rmse:0.989775 \n",
            "[26]\ttrain-rmse:0.982261 \n",
            "[27]\ttrain-rmse:0.978791 \n",
            "[28]\ttrain-rmse:0.972195 \n",
            "[29]\ttrain-rmse:0.964688 \n",
            "[30]\ttrain-rmse:0.959739 \n",
            "[31]\ttrain-rmse:0.958473 \n",
            "[32]\ttrain-rmse:0.952966 \n",
            "[33]\ttrain-rmse:0.950526 \n",
            "[34]\ttrain-rmse:0.944986 \n",
            "[35]\ttrain-rmse:0.939727 \n",
            "[36]\ttrain-rmse:0.936137 \n",
            "[37]\ttrain-rmse:0.929298 \n",
            "[38]\ttrain-rmse:0.925595 \n",
            "[39]\ttrain-rmse:0.919707 \n",
            "[40]\ttrain-rmse:0.915526 \n",
            "[41]\ttrain-rmse:0.909820 \n",
            "[42]\ttrain-rmse:0.906877 \n",
            "[43]\ttrain-rmse:0.904175 \n",
            "[44]\ttrain-rmse:0.901542 \n",
            "[45]\ttrain-rmse:0.898276 \n",
            "[46]\ttrain-rmse:0.893167 \n",
            "[47]\ttrain-rmse:0.889183 \n",
            "[48]\ttrain-rmse:0.885952 \n",
            "[49]\ttrain-rmse:0.883044 \n",
            "[50]\ttrain-rmse:0.877252 \n",
            "[51]\ttrain-rmse:0.872153 \n",
            "[52]\ttrain-rmse:0.869362 \n",
            "[53]\ttrain-rmse:0.864643 \n",
            "[54]\ttrain-rmse:0.862383 \n",
            "[55]\ttrain-rmse:0.857412 \n",
            "[56]\ttrain-rmse:0.852519 \n",
            "[57]\ttrain-rmse:0.847464 \n",
            "[58]\ttrain-rmse:0.845440 \n",
            "[59]\ttrain-rmse:0.843055 \n",
            "[60]\ttrain-rmse:0.839115 \n",
            "[61]\ttrain-rmse:0.836309 \n",
            "[62]\ttrain-rmse:0.831007 \n",
            "[63]\ttrain-rmse:0.828999 \n",
            "[64]\ttrain-rmse:0.826067 \n",
            "[65]\ttrain-rmse:0.824580 \n",
            "[66]\ttrain-rmse:0.819821 \n",
            "[67]\ttrain-rmse:0.816347 \n",
            "[68]\ttrain-rmse:0.811241 \n",
            "[69]\ttrain-rmse:0.809453 \n",
            "[70]\ttrain-rmse:0.805820 \n",
            "[71]\ttrain-rmse:0.803637 \n",
            "[72]\ttrain-rmse:0.799268 \n",
            "[73]\ttrain-rmse:0.797661 \n",
            "[74]\ttrain-rmse:0.795062 \n",
            "[75]\ttrain-rmse:0.792862 \n",
            "[76]\ttrain-rmse:0.791783 \n",
            "[77]\ttrain-rmse:0.788123 \n",
            "[78]\ttrain-rmse:0.786290 \n",
            "[79]\ttrain-rmse:0.784506 \n",
            "[80]\ttrain-rmse:0.780466 \n",
            "[81]\ttrain-rmse:0.778263 \n",
            "[82]\ttrain-rmse:0.773266 \n",
            "[83]\ttrain-rmse:0.770677 \n",
            "[84]\ttrain-rmse:0.767101 \n",
            "[85]\ttrain-rmse:0.763794 \n",
            "[86]\ttrain-rmse:0.759056 \n",
            "[87]\ttrain-rmse:0.754692 \n",
            "[88]\ttrain-rmse:0.750808 \n",
            "[89]\ttrain-rmse:0.747514 \n",
            "[90]\ttrain-rmse:0.742624 \n",
            "[91]\ttrain-rmse:0.736520 \n",
            "[92]\ttrain-rmse:0.734415 \n",
            "[93]\ttrain-rmse:0.732220 \n",
            "[94]\ttrain-rmse:0.728068 \n",
            "[95]\ttrain-rmse:0.725668 \n",
            "[96]\ttrain-rmse:0.721587 \n",
            "[97]\ttrain-rmse:0.718383 \n",
            "[98]\ttrain-rmse:0.713644 \n",
            "[99]\ttrain-rmse:0.708090 \n",
            "[100]\ttrain-rmse:0.703659 \n",
            "               Feature        Gain       Cover   Frequency\n",
            "                <char>       <num>       <num>       <num>\n",
            " 1:           tech_Hrs 0.143570390 0.169930915 0.146187278\n",
            " 2:    screen_time_hrs 0.142002754 0.173272554 0.131568550\n",
            " 3:         social_Hrs 0.138296895 0.134167604 0.132358751\n",
            " 4:           game_hrs 0.129438102 0.154697628 0.122678783\n",
            " 5:          sleep_hrs 0.129150838 0.112975821 0.121295930\n",
            " 6:       activity_hrs 0.127006996 0.153509330 0.115369419\n",
            " 7:                age 0.098013549 0.063807772 0.141446069\n",
            " 8:       stress_level 0.020490357 0.012432026 0.021137890\n",
            " 9:    work_env_impact 0.020146258 0.007975617 0.019359937\n",
            "10:         online_use 0.011959917 0.001236650 0.009877519\n",
            "11: support_sys_access 0.010972549 0.005283065 0.010865271\n",
            "12:               male 0.010602435 0.001154118 0.008692217\n",
            "13:              other 0.009356983 0.003862176 0.009877519\n",
            "14:             female 0.008991977 0.005694726 0.009284868\n"
          ]
        }
      ]
    },
    {
      "cell_type": "code",
      "source": [
        "# Visualize the feature importance\n",
        "xgb.plot.importance(importance_matrix)"
      ],
      "metadata": {
        "colab": {
          "base_uri": "https://localhost:8080/",
          "height": 437
        },
        "id": "o6Vf32avcLes",
        "outputId": "bec45075-d0b1-42b1-d17b-3cc6a12dd188"
      },
      "execution_count": 32,
      "outputs": [
        {
          "output_type": "display_data",
          "data": {
            "text/plain": [
              "plot without title"
            ],
            "image/png": "[encoded data removed]"
          },
          "metadata": {
            "image/png": {
              "width": 420,
              "height": 420
            }
          }
        }
      ]
    },
    {
      "cell_type": "markdown",
      "source": [
        "### **Create Train and Test Sets**"
      ],
      "metadata": {
        "id": "M1V7EPYxy2-J"
      }
    },
    {
      "cell_type": "code",
      "source": [
        "# \"mental_health_sta\" is the target variable\n",
        "set.seed(123)\n",
        "trainIndex <- createDataPartition(data$mental_health_sta, p = 0.8, list = FALSE)\n",
        "train <- data[trainIndex, ]\n",
        "test <- data[-trainIndex, ]\n",
        "\n",
        "# Select the top 4 features based on importance\n",
        "selected_features <- c(\"tech_Hrs\", \"social_Hrs\", \"game_hrs\",\n",
        "                       \"screen_time_hrs\", \"stress_level\", \"sleep_hrs\",\n",
        "                       \"activity_hrs\", \"age\")\n"
      ],
      "metadata": {
        "id": "Ej1zi6Xnyu95"
      },
      "execution_count": 33,
      "outputs": []
    },
    {
      "cell_type": "markdown",
      "source": [
        "### **Define a Function for Model Evaluation**"
      ],
      "metadata": {
        "id": "rLRIjRdJze4W"
      }
    },
    {
      "cell_type": "code",
      "source": [
        "# create a function for evaluation of the model\n",
        "evaluate_model <- function(predictions, actual) {\n",
        "  mae <- mean(abs(predictions - actual))\n",
        "  mse <- mean((predictions - actual)^2)\n",
        "  rmse <- sqrt(mse)\n",
        "  r2 <- 1 - (sum((predictions - actual)^2) / sum((actual - mean(actual))^2))\n",
        "  return(data.frame(MAE = mae, MSE = mse, RMSE = rmse, R2 = r2))\n",
        "}\n"
      ],
      "metadata": {
        "id": "V2mB8qeJzjg2"
      },
      "execution_count": 34,
      "outputs": []
    },
    {
      "cell_type": "markdown",
      "source": [
        "#### **Linear Regression Model**"
      ],
      "metadata": {
        "id": "5fashvvRzrPm"
      }
    },
    {
      "cell_type": "code",
      "source": [
        "# Train Linear Regression model\n",
        "lm_model <- lm(mental_health_sta ~ ., data = train[, c(selected_features, \"mental_health_sta\")])\n",
        "lm_predictions <- predict(lm_model, newdata = test[, selected_features])\n",
        "lm_results <- evaluate_model(lm_predictions, test$mental_health_sta)\n",
        "print(lm_results)\n"
      ],
      "metadata": {
        "id": "Cue63Hj7zvhm",
        "colab": {
          "base_uri": "https://localhost:8080/"
        },
        "outputId": "367e035b-ba1b-4059-818b-9bac3a4a72dd"
      },
      "execution_count": 35,
      "outputs": [
        {
          "output_type": "stream",
          "name": "stdout",
          "text": [
            "        MAE      MSE     RMSE           R2\n",
            "1 0.9940825 1.238549 1.112901 -0.002211139\n"
          ]
        }
      ]
    },
    {
      "cell_type": "markdown",
      "source": [
        "#### **Decision Tree**"
      ],
      "metadata": {
        "id": "pFO9r7pFzzjh"
      }
    },
    {
      "cell_type": "code",
      "source": [
        "# Train Decision Tree model\n",
        "tree_model <- rpart(mental_health_sta ~ ., data = train[, c(selected_features, \"mental_health_sta\")])\n",
        "tree_predictions <- predict(tree_model, newdata = test[, selected_features])\n",
        "tree_results <- evaluate_model(tree_predictions, test$mental_health_sta)\n",
        "print(tree_results)\n",
        "\n"
      ],
      "metadata": {
        "id": "j485D60cz-Ca",
        "colab": {
          "base_uri": "https://localhost:8080/"
        },
        "outputId": "15291eec-d44e-4313-d53c-e5dfa828b5ad"
      },
      "execution_count": 36,
      "outputs": [
        {
          "output_type": "stream",
          "name": "stdout",
          "text": [
            "        MAE      MSE     RMSE            R2\n",
            "1 0.9929717 1.235893 1.111707 -6.215244e-05\n"
          ]
        }
      ]
    },
    {
      "cell_type": "markdown",
      "source": [
        "#### **Random Forest**"
      ],
      "metadata": {
        "id": "SglxU0pf0Cb9"
      }
    },
    {
      "cell_type": "code",
      "source": [
        "# Train Random Forest model\n",
        "rf_model <- randomForest(mental_health_sta ~ ., data = train[, c(selected_features, \"mental_health_sta\")], ntree = 100)\n",
        "rf_predictions <- predict(rf_model, newdata = test[, selected_features])\n",
        "rf_results <- evaluate_model(rf_predictions, test$mental_health_sta)\n",
        "print(rf_results)\n"
      ],
      "metadata": {
        "colab": {
          "base_uri": "https://localhost:8080/"
        },
        "id": "D294A0Sj0BvV",
        "outputId": "b8642fac-695d-401f-f4af-577a4503afca"
      },
      "execution_count": 37,
      "outputs": [
        {
          "output_type": "stream",
          "name": "stderr",
          "text": [
            "Warning message in randomForest.default(m, y, ...):\n",
            "“The response has five or fewer unique values.  Are you sure you want to do regression?”\n"
          ]
        },
        {
          "output_type": "stream",
          "name": "stdout",
          "text": [
            "        MAE      MSE     RMSE          R2\n",
            "1 0.9982418 1.276618 1.129875 -0.03301544\n"
          ]
        }
      ]
    },
    {
      "cell_type": "markdown",
      "source": [
        "#### **XGBoost**"
      ],
      "metadata": {
        "id": "4akE_gYg0JRz"
      }
    },
    {
      "cell_type": "code",
      "source": [
        "# Prepare data for XGBoost\n",
        "train_matrix <- xgb.DMatrix(data = as.matrix(train[, selected_features]), label = train$mental_health_sta)\n",
        "test_matrix <- xgb.DMatrix(data = as.matrix(test[, selected_features]))\n",
        "\n",
        "# Train XGBoost model\n",
        "xgb_model <- xgboost(data = train_matrix, nrounds = 100, objective = \"reg:squarederror\", verbose = 0)\n",
        "xgb_predictions <- predict(xgb_model, test_matrix)\n",
        "xgb_results <- evaluate_model(xgb_predictions, test$mental_health_sta)\n",
        "print(xgb_results)"
      ],
      "metadata": {
        "id": "Sz3avCW30IIB",
        "colab": {
          "base_uri": "https://localhost:8080/"
        },
        "outputId": "45e43c22-2fd3-4c24-8423-5e77a3a8b4c5"
      },
      "execution_count": 38,
      "outputs": [
        {
          "output_type": "stream",
          "name": "stdout",
          "text": [
            "       MAE      MSE     RMSE         R2\n",
            "1 1.031521 1.440026 1.200011 -0.1652426\n"
          ]
        }
      ]
    },
    {
      "cell_type": "markdown",
      "source": [
        "#### **K-fold regression**\n",
        "\n",
        "\n"
      ],
      "metadata": {
        "id": "aWmUnWb1T3aP"
      }
    },
    {
      "cell_type": "code",
      "source": [
        "# Set up cross-validation with 10 folds (you can change the number of folds if needed)\n",
        "train_control <- trainControl(method = \"cv\", number = 10)\n",
        "\n",
        "# Train the model using cross-validation\n",
        "set.seed(123)  # For reproducibility\n",
        "kfold_model <- train(mental_health_sta ~ ., data = train[, c(selected_features, \"mental_health_sta\")],\n",
        "                     method = \"lm\",  # You can specify other regression methods here\n",
        "                     trControl = train_control)\n",
        "\n",
        "# Predict on the test data\n",
        "kfold_predictions <- predict(kfold_model, newdata = test[, selected_features])\n",
        "\n",
        "# Evaluate the results\n",
        "kfold_results <- evaluate_model(kfold_predictions, test$mental_health_sta)\n",
        "print(kfold_results)"
      ],
      "metadata": {
        "colab": {
          "base_uri": "https://localhost:8080/"
        },
        "id": "lSF3t6sCT1Ie",
        "outputId": "3b8997e2-bca1-4a08-cb7e-6422a6189222"
      },
      "execution_count": 39,
      "outputs": [
        {
          "output_type": "stream",
          "name": "stdout",
          "text": [
            "        MAE      MSE     RMSE           R2\n",
            "1 0.9940825 1.238549 1.112901 -0.002211139\n"
          ]
        }
      ]
    },
    {
      "cell_type": "markdown",
      "source": [
        "#### **Simple Neural network**\n",
        "\n"
      ],
      "metadata": {
        "id": "ZPba5QZNU52S"
      }
    },
    {
      "cell_type": "code",
      "source": [
        "# Scale the data (neural networks work better with scaled data)\n",
        "scaled_train <- as.data.frame(scale(train[, c(selected_features, \"mental_health_sta\")]))\n",
        "scaled_test <- as.data.frame(scale(test[, selected_features]))\n",
        "\n",
        "# Train the neural network model\n",
        "nn_model <- neuralnet(mental_health_sta ~ ., data = scaled_train, hidden = c(5), linear.output = TRUE)\n",
        "\n",
        "# Predict on the test data\n",
        "nn_predictions <- compute(nn_model, scaled_test)\n",
        "nn_predictions <- nn_predictions$net.result\n",
        "\n",
        "# Evaluate the results\n",
        "nn_results <- evaluate_model(nn_predictions, scale(test$mental_health_sta))\n",
        "print(nn_results)\n"
      ],
      "metadata": {
        "colab": {
          "base_uri": "https://localhost:8080/"
        },
        "id": "k08LrdHXT_nx",
        "outputId": "d1c5a6d7-27b8-4336-d005-237e8e71a4c3"
      },
      "execution_count": 40,
      "outputs": [
        {
          "output_type": "stream",
          "name": "stdout",
          "text": [
            "        MAE      MSE     RMSE          R2\n",
            "1 0.8949181 1.025558 1.012698 -0.02607131\n"
          ]
        }
      ]
    },
    {
      "cell_type": "markdown",
      "source": [
        "### **Comparison of the Results**"
      ],
      "metadata": {
        "id": "ajZzb-zR0P4n"
      }
    },
    {
      "cell_type": "code",
      "source": [
        "# Combine results for comparison\n",
        "results <- rbind(\n",
        "  Linear_Regression = lm_results,\n",
        "  Decision_Tree = tree_results,\n",
        "  Random_Forest = rf_results,\n",
        "  XGBoost = xgb_results,\n",
        "  K_Fold_Regression = kfold_results,\n",
        "  Simple_Neural_Network = nn_results\n",
        ")\n",
        "\n",
        "# Convert results to a data frame\n",
        "results_df <- as.data.frame(results)\n",
        "\n",
        "# Sort the results by RMSE column in ascending order\n",
        "results_sorted <- results_df[order(results_df$RMSE), ]\n",
        "\n",
        "# Print the sorted results for comparison\n",
        "print(results_sorted)\n"
      ],
      "metadata": {
        "colab": {
          "base_uri": "https://localhost:8080/"
        },
        "id": "mdmXH2wD0PKS",
        "outputId": "6fa37a38-c51a-4033-fa37-519972c53d2f"
      },
      "execution_count": 41,
      "outputs": [
        {
          "output_type": "stream",
          "name": "stdout",
          "text": [
            "                            MAE      MSE     RMSE            R2\n",
            "Simple_Neural_Network 0.8949181 1.025558 1.012698 -2.607131e-02\n",
            "Decision_Tree         0.9929717 1.235893 1.111707 -6.215244e-05\n",
            "Linear_Regression     0.9940825 1.238549 1.112901 -2.211139e-03\n",
            "K_Fold_Regression     0.9940825 1.238549 1.112901 -2.211139e-03\n",
            "Random_Forest         0.9982418 1.276618 1.129875 -3.301544e-02\n",
            "XGBoost               1.0315205 1.440026 1.200011 -1.652426e-01\n"
          ]
        }
      ]
    },
    {
      "cell_type": "code",
      "source": [],
      "metadata": {
        "id": "M5GZ7r9aUr_F"
      },
      "execution_count": 42,
      "outputs": []
    }
  ]
}